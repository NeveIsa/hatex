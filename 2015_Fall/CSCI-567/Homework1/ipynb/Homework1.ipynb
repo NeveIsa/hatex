{
 "cells": [
  {
   "cell_type": "markdown",
   "metadata": {},
   "source": [
    "## Problem 5.1"
   ]
  },
  {
   "cell_type": "code",
   "execution_count": 9,
   "metadata": {
    "collapsed": false
   },
   "outputs": [],
   "source": [
    "%matplotlib inline\n",
    "import pylab\n",
    "from __future__ import division\n",
    "pylab.rcParams['figure.figsize'] = (16, 10)\n",
    "import scipy.io as sio\n",
    "import numpy as np\n",
    "import math\n",
    "import matplotlib.pyplot as plt\n",
    "data = sio.loadmat('../data/programming/hw1progde.mat')\n",
    "test_data = data['x_te']\n",
    "training_data = data['x_tr']\n",
    "h = 0.01\n",
    "\n",
    "## 10 different measures, whcih one isbest? training or validation"
   ]
  },
  {
   "cell_type": "code",
   "execution_count": 10,
   "metadata": {
    "collapsed": false
   },
   "outputs": [],
   "source": [
    "def K(x, XI, h, kernel_type='gaussian'):\n",
    "    \"\"\"\n",
    "    Parameters\n",
    "    ----------\n",
    "    x: Point location\n",
    "    XI: Vector of training data\n",
    "    \"\"\"\n",
    "    if kernel_type == 'gaussian':\n",
    "        s=0\n",
    "        l=0\n",
    "        for xi in XI:\n",
    "            u = (x-xi)/h\n",
    "            l+=1\n",
    "            e = (1/math.sqrt(2*math.pi))*math.exp(-u*u/2)\n",
    "            s+=e\n",
    "        return s/(l*h)\n",
    "    elif kernel_type == 'epanechnikov':\n",
    "        s=0\n",
    "        l=0\n",
    "        for xi in XI:\n",
    "            u = (x-xi)/h\n",
    "            l+=1\n",
    "            if abs(u)<=1:\n",
    "                s+=(3/4)*(1-u*u)\n",
    "        return s/(l*h)\n",
    "    elif kernel_type == 'histogram':\n",
    "        s=0\n",
    "        l=0\n",
    "        for xi in XI:\n",
    "            u = (x-xi)/h\n",
    "            l+=1\n",
    "            if abs(u)<=1:\n",
    "                s+=0.5\n",
    "        return s/(l*h)\n",
    "\n",
    "def inrange(x,Y):\n",
    "    if x<Y[1] and X>=Y[0]:\n",
    "        return True \n",
    "    return False\n",
    "\n",
    "def histogram(x, bandwidth=1):\n",
    "    min_x = np.min(x)\n",
    "    max_x = np.max(x)\n",
    "    range_x = max_x-min_x\n",
    "    bins = math.ceil(range_x/bandwidth)\n",
    "    list_of_bins = []\n",
    "    for i in range(bins):\n",
    "        list_of_bins.append([min_x+bandwidth*i, min_x+bandwidth*(i+1)])\n",
    "    counts = np.zeros(bins)\n",
    "    for xi in x:\n",
    "        for lindex, lb in enumerate(list_of_bins):\n",
    "            if inrange(xi, lb):\n",
    "                counts[lindex]+=1\n",
    "    return counts   "
   ]
  },
  {
   "cell_type": "markdown",
   "metadata": {},
   "source": [
    "## Gaussian\n",
    "$$\n",
    "K(u) = \\frac{1}{\\sqrt{2\\pi}} e^{-\\frac{u^2}{2}} \\forall u \\in \\mathbb{R}\n",
    "$$\n",
    "\n",
    "$$\n",
    "h = (\\frac{4\\sigma^5}{3n})^{\\frac{1}{5}} \\approx 0.94\\sigma n^{-\\frac{1}{5}}\n",
    "$$"
   ]
  },
  {
   "cell_type": "code",
   "execution_count": 11,
   "metadata": {
    "collapsed": false
   },
   "outputs": [
    {
     "name": "stdout",
     "output_type": "stream",
     "text": [
      "0.262856444965\n",
      "0.258378205441\n",
      "0.0712939180627\n"
     ]
    }
   ],
   "source": [
    "## Optimum bandwidth calculation\n",
    "sigma_tr = np.std(training_data)\n",
    "sigma_te = np.std(test_data)\n",
    "\n",
    "h = 0.94*sigma_tr*len(training_data)**(-0.2)\n",
    "\n",
    "print(sigma_tr)\n",
    "print(sigma_te)\n",
    "print(h)\n"
   ]
  },
  {
   "cell_type": "code",
   "execution_count": 12,
   "metadata": {
    "collapsed": false
   },
   "outputs": [],
   "source": [
    "H = [0.01,0.07,0.05,0.1,0.5, 0.7]\n",
    "output_gaussian = []\n",
    "x_points = np.linspace(0.1,1)\n",
    "\n",
    "for h in H:\n",
    "    gaussian_r = [K(x,training_data, h, 'gaussian') for x in x_points]\n",
    "    output_gaussian.append(gaussian_r)\n",
    "\n"
   ]
  },
  {
   "cell_type": "code",
   "execution_count": 13,
   "metadata": {
    "collapsed": false
   },
   "outputs": [
    {
     "name": "stderr",
     "output_type": "stream",
     "text": [
      "/home/saket/anaconda/lib/python2.7/site-packages/matplotlib/figure.py:387: UserWarning: matplotlib is currently using a non-GUI backend, so cannot show the figure\n",
      "  \"matplotlib is currently using a non-GUI backend, \"\n"
     ]
    },
    {
     "data": {
      "image/png": "[encoded data removed]",
      "text/plain": [
       "<matplotlib.figure.Figure at 0x7eff0dbdd8d0>"
      ]
     },
     "metadata": {},
     "output_type": "display_data"
    }
   ],
   "source": [
    "f, axarr = plt.subplots(2, 3)\n",
    "for i, gaussian_r in enumerate(output_gaussian):\n",
    "    if i<3:\n",
    "        axarr[0, i].plot(np.sort(x_points), gaussian_r)\n",
    "        axarr[0, i].set_title('Gaussian, h={}'.format(H[i]))\n",
    "    else:\n",
    "        axarr[1, i-3].plot(np.sort(x_points), gaussian_r)\n",
    "        axarr[1, i-3].set_title('Gaussian, h={}'.format(H[i]))\n",
    "f.show()"
   ]
  },
  {
   "cell_type": "markdown",
   "metadata": {},
   "source": [
    "## Epanechnikov kernel\n",
    "\n",
    "$$\n",
    "K(u) = \\begin{cases}\n",
    "\\frac{3}{4}[1-u^2] & |u| \\in [0,1],\\\\\n",
    "0 & otherwise\n",
    "\\end{cases}\n",
    "$$"
   ]
  },
  {
   "cell_type": "code",
   "execution_count": 14,
   "metadata": {
    "collapsed": false
   },
   "outputs": [],
   "source": [
    "ev_r = []\n",
    "for h in H:\n",
    "    r = [K(x,training_data, h, 'epanechnikov') for x in x_points]\n",
    "    ev_r.append(r)\n"
   ]
  },
  {
   "cell_type": "code",
   "execution_count": 15,
   "metadata": {
    "collapsed": false
   },
   "outputs": [
    {
     "data": {
      "image/png": "[encoded data removed]",
      "text/plain": [
       "<matplotlib.figure.Figure at 0x7eff0b6984d0>"
      ]
     },
     "metadata": {},
     "output_type": "display_data"
    }
   ],
   "source": [
    "f, axarr = plt.subplots(2, 3)\n",
    "for i, gaussian_r in enumerate(ev_r):\n",
    "    if i<3:\n",
    "        axarr[0, i].plot(np.sort(x_points), gaussian_r)\n",
    "        axarr[0, i].set_title('Ev, h={}'.format(H[i]))\n",
    "    else:\n",
    "        axarr[1, i-3].plot(np.sort(x_points), gaussian_r)\n",
    "        axarr[1, i-3].set_title('Ev, h={}'.format(H[i]))\n",
    "f.show()"
   ]
  },
  {
   "cell_type": "markdown",
   "metadata": {},
   "source": [
    "## Histogram\n",
    "$$\n",
    "K(u) = \\begin{cases}\n",
    "\\frac{1}{2}  & |u| \\leq 1\\\\\n",
    "0 & otherwise \\\\\n",
    "\\end{cases}\n",
    "$$"
   ]
  },
  {
   "cell_type": "code",
   "execution_count": 16,
   "metadata": {
    "collapsed": true
   },
   "outputs": [],
   "source": [
    "hi_r = []\n",
    "for h in H:\n",
    "    r = [K(x,training_data, h, 'histogram') for x in x_points]\n",
    "    hi_r.append(r)\n"
   ]
  },
  {
   "cell_type": "code",
   "execution_count": 17,
   "metadata": {
    "collapsed": false
   },
   "outputs": [
    {
     "data": {
      "image/png": "[encoded data removed]",
      "text/plain": [
       "<matplotlib.figure.Figure at 0x7eff0b74b810>"
      ]
     },
     "metadata": {},
     "output_type": "display_data"
    }
   ],
   "source": [
    "f, axarr = plt.subplots(2, 3)\n",
    "for i, gaussian_r in enumerate(hi_r):\n",
    "    if i<3:\n",
    "        axarr[0, i].plot(np.sort(x_points), gaussian_r)\n",
    "        axarr[0, i].set_title('hist, h={}'.format(H[i]))\n",
    "    else:\n",
    "        axarr[1, i-3].plot(np.sort(x_points), gaussian_r)\n",
    "        axarr[1, i-3].set_title('hist, h={}'.format(H[i]))\n",
    "f.show()"
   ]
  },
  {
   "cell_type": "code",
   "execution_count": 18,
   "metadata": {
    "collapsed": false
   },
   "outputs": [
    {
     "name": "stdout",
     "output_type": "stream",
     "text": [
      "[0.42346736334284474, 0.32351981399621649, 0.31647788696847778, 0.3674306202766176, 0.052126297026585458, 0.011691890826994403]\n"
     ]
    }
   ],
   "source": [
    "## Randomly partion test_Data into 19 subsets\n",
    "import random\n",
    "N_split = 19\n",
    "test_data_shuffled = test_data.copy()\n",
    "random.shuffle(test_data_shuffled)\n",
    "list_size = int(len(test_data_shuffled)/N_split)\n",
    "list_of_shuffled_te = [test_data_shuffled[0+list_size*i : list_size*(i+1)] for i in xrange(N_split)]\n",
    "\n",
    "x_points = np.linspace(0.1,1)\n",
    "def calc_variance(x_points, list_of_shuffled_te,h,kernel):\n",
    "    f_scores=[]\n",
    "    for index, lte in enumerate(list_of_shuffled_te):\n",
    "        f_scores.append([])\n",
    "        for x in x_points:\n",
    "            de = K(x, lte, h, kernel);all\n",
    "            f_scores[index].append(de)\n",
    "\n",
    "    f_hn = np.array([np.sum(a) for a in f_scores])\n",
    "    f_h = np.mean(f_hn)\n",
    "    q = np.sum((f_hn-f_h)**2)\n",
    "    E=q/N_split\n",
    "    return E\n",
    "kernel = 'gaussian'\n",
    "g_h = []\n",
    "e_h = []\n",
    "h_h = []\n",
    "for h in H:\n",
    "    g_h.append(calc_variance(x_points, list_of_shuffled_te,h,kernel))\n",
    "print g_h\n",
    "kernel = 'epanechnikov'\n",
    "for h in H:\n",
    "    e_h.append(calc_variance(x_points, list_of_shuffled_te,h,kernel))\n",
    "    \n",
    "kernel = 'histogram'\n",
    "for h in H:\n",
    "    h_h.append(calc_variance(x_points, list_of_shuffled_te,h,kernel))\n",
    "    "
   ]
  },
  {
   "cell_type": "code",
   "execution_count": 19,
   "metadata": {
    "collapsed": false
   },
   "outputs": [
    {
     "data": {
      "text/plain": [
       "[<matplotlib.lines.Line2D at 0x7eff0b029ad0>]"
      ]
     },
     "execution_count": 19,
     "metadata": {},
     "output_type": "execute_result"
    },
    {
     "data": {
      "image/png": "[encoded data removed]",
      "text/plain": [
       "<matplotlib.figure.Figure at 0x7eff0b185c50>"
      ]
     },
     "metadata": {},
     "output_type": "display_data"
    }
   ],
   "source": [
    "plt.plot(H,g_h)"
   ]
  },
  {
   "cell_type": "code",
   "execution_count": 20,
   "metadata": {
    "collapsed": false
   },
   "outputs": [
    {
     "data": {
      "text/plain": [
       "[<matplotlib.lines.Line2D at 0x7eff0af6fe50>]"
      ]
     },
     "execution_count": 20,
     "metadata": {},
     "output_type": "execute_result"
    },
    {
     "data": {
      "image/png": "[encoded data removed]",
      "text/plain": [
       "<matplotlib.figure.Figure at 0x7eff0afc6510>"
      ]
     },
     "metadata": {},
     "output_type": "display_data"
    }
   ],
   "source": [
    "plt.plot(H,e_h)"
   ]
  },
  {
   "cell_type": "code",
   "execution_count": 21,
   "metadata": {
    "collapsed": false
   },
   "outputs": [
    {
     "data": {
      "text/plain": [
       "[<matplotlib.lines.Line2D at 0x7eff095ce790>]"
      ]
     },
     "execution_count": 21,
     "metadata": {},
     "output_type": "execute_result"
    },
    {
     "data": {
      "image/png": "[encoded data removed]",
      "text/plain": [
       "<matplotlib.figure.Figure at 0x7eff0af07810>"
      ]
     },
     "metadata": {},
     "output_type": "display_data"
    }
   ],
   "source": [
    "plt.plot(H,h_h)"
   ]
  },
  {
   "cell_type": "markdown",
   "metadata": {},
   "source": [
    "# Problem 2"
   ]
  },
  {
   "cell_type": "code",
   "execution_count": 1,
   "metadata": {
    "collapsed": false
   },
   "outputs": [
    {
     "name": "stdout",
     "output_type": "stream",
     "text": [
      "0.0623 & 1.107\n",
      "-0.9163 & 0.6928\n",
      "-0.7829 & 1.0317\n",
      "0.9074 & -0.0226\n",
      "1.0409 & 0.4292\n",
      "1.2633 & 0.6928\n",
      "-0.0267 & -0.3991\n",
      "0.9519 & -1.7922\n",
      "-1.1832 & -1.4534\n",
      "-1.3167 & -0.2862\n",
      "8.6 22.4806089281\n",
      "19.6 26.5589491091\n",
      " & 1.2117 & 1.168\n",
      " & 1.6871 & 1.1998\n",
      " & 1.8926 & 1.354\n",
      " & 0.9272 & 0.8904\n",
      " & 1.5125 & 1.1341\n",
      " & 1.9985 & 1.4554\n",
      " & 0.3834 & 0.3418\n",
      " & 2.6661 & 1.9678\n",
      " & 2.5942 & 1.8394\n",
      " & 1.5605 & 1.3535\n"
     ]
    }
   ],
   "source": [
    "import numpy as np\n",
    "import math\n",
    "m = [(10,49),(-12,38),(-9,47)]\n",
    "ee = [(29,19),(32,31),(37,38)]\n",
    "cs = [(8,9),(30,-28),(-18,-19),(-21,12)]\n",
    "t = m+ee+cs\n",
    "x = np.array([i[0] for i in t])\n",
    "y = np.array([i[1] for i in t])\n",
    "\n",
    "xm = np.mean(x)\n",
    "ym = np.mean(y)\n",
    "xsd = np.std(x, ddof=1)\n",
    "ysd = np.std(y, ddof=1)\n",
    "def normalise(d):\n",
    "    return (round((d[0]-xm)/xsd,4), round((d[1]-ym)/ysd,4))\n",
    "data = (9,18)\n",
    "data_normal = normalise(data)\n",
    "\n",
    "normalised_t = [normalise(d) for d in t]\n",
    "for i in normalised_t:\n",
    "    print '{} & {}'.format(i[0], i[1])\n",
    "print xm, xsd\n",
    "print ym, ysd\n",
    "\n",
    "def distance_calculator(data):\n",
    "    for d in normalised_t:\n",
    "        l1 = round(abs(d[0]-data[0])+abs(d[1]-data[1]),4)\n",
    "        l2 = round(math.sqrt(abs(d[0]-data[0])**2+abs(d[1]-data[1])**2),4)\n",
    "        print ' & {} & {}'.format(l1,l2)\n",
    "distance_calculator(data_normal)"
   ]
  },
  {
   "cell_type": "code",
   "execution_count": 2,
   "metadata": {
    "collapsed": false
   },
   "outputs": [
    {
     "data": {
      "text/plain": [
       "[(10, 49),\n",
       " (-12, 38),\n",
       " (-9, 47),\n",
       " (29, 19),\n",
       " (32, 31),\n",
       " (37, 38),\n",
       " (8, 9),\n",
       " (30, -28),\n",
       " (-18, -19),\n",
       " (-21, 12)]"
      ]
     },
     "execution_count": 2,
     "metadata": {},
     "output_type": "execute_result"
    }
   ],
   "source": [
    "m+ee+cs"
   ]
  },
  {
   "cell_type": "code",
   "execution_count": 3,
   "metadata": {
    "collapsed": false
   },
   "outputs": [
    {
     "name": "stdout",
     "output_type": "stream",
     "text": [
      "(0.0178, -0.0602)\n"
     ]
    }
   ],
   "source": [
    "print data_normal\n"
   ]
  },
  {
   "cell_type": "markdown",
   "metadata": {},
   "source": [
    "# Problem 3"
   ]
  },
  {
   "cell_type": "code",
   "execution_count": 4,
   "metadata": {
    "collapsed": false
   },
   "outputs": [
    {
     "name": "stdout",
     "output_type": "stream",
     "text": [
      "0.992774453988\n"
     ]
    }
   ],
   "source": [
    "\n",
    "p_rain = (9+5+6+3+7+2+3+1)/80.0\n",
    "p_norain = 1-p_rain\n",
    "\n",
    "p_temp_hot = 4/8.0\n",
    "p_temp_cold = 1-p_temp_hot\n",
    "\n",
    "p_humidity_high = 4/8.0\n",
    "p_humidity_low = 1-p_humidity_high\n",
    "\n",
    "p_sky_clear = 4/8.0\n",
    "p_sky_cloudy = 1-p_sky_clear\n",
    "\n",
    "\n",
    "\n",
    "\n",
    "HY = -(p_rain*math.log(p_rain,2)+p_norain*math.log(p_norain,2))\n",
    "print(HY)\n",
    "##temperature\n",
    "p_rain_hot = (9+5+6+3)/40.0\n",
    "p_norain_hot = 1-p_rain_hot\n",
    "\n",
    "p_rain_cold = (7+2+3+1)/40.0\n",
    "p_norain_cold = 1-p_rain_cold\n",
    "\n",
    "h_y_temp = p_temp_hot * -(p_rain_hot*math.log(p_rain_hot,2)+p_norain_hot*math.log(p_norain_hot,2)) + p_temp_cold *-(p_rain_cold*math.log(p_rain_cold,2)+p_norain_cold*math.log(p_norain_cold,2))\n",
    "g_temp = HY-h_y_temp\n",
    "##humiditiy\n",
    "\n",
    "p_rain_high = (9+5+7+2)/40.0\n",
    "p_norain_high = 1-p_rain_high\n",
    "\n",
    "p_rain_low = (6+3+3+1)/40.0\n",
    "p_norain_low = 1-p_rain_low\n",
    "\n",
    "h_y_humidity = p_humidity_high * -(p_rain_high*math.log(p_rain_high,2)+p_norain_high*math.log(p_norain_high,2))\\\n",
    "                + p_humidity_low *-(p_rain_low*math.log(p_rain_low,2)+p_norain_low*math.log(p_norain_low,2))\n",
    "g_humidity = HY-h_y_humidity\n",
    "    \n",
    "##sky\n",
    "\n",
    "p_rain_cloudy = (9+6+7+3)/40.0\n",
    "p_norain_cloudy = 1-p_rain_cloudy\n",
    "\n",
    "p_rain_clear = (5+3+2+1)/40.0\n",
    "p_norain_clear = 1-p_rain_clear\n",
    "\n",
    "\n",
    "h_y_sky = p_sky_cloudy * -(p_rain_cloudy*math.log(p_rain_cloudy,2)+p_norain_cloudy*math.log(p_norain_cloudy,2))\\\n",
    "                + p_sky_clear *-(p_rain_clear*math.log(p_rain_clear,2)+p_norain_clear*math.log(p_norain_clear,2))\n",
    "\n",
    "g_sky = HY-h_y_sky"
   ]
  },
  {
   "cell_type": "code",
   "execution_count": 6,
   "metadata": {
    "collapsed": false
   },
   "outputs": [
    {
     "name": "stdout",
     "output_type": "stream",
     "text": [
      "0.946722192577\n",
      "0.90149109061\n"
     ]
    }
   ],
   "source": [
    "print(h_y_temp)\n",
    "print(h_y_sky)"
   ]
  },
  {
   "cell_type": "code",
   "execution_count": 26,
   "metadata": {
    "collapsed": false
   },
   "outputs": [
    {
     "name": "stdout",
     "output_type": "stream",
     "text": [
      "Gain for Temperature: 0.0460522614106\tHumidity:0.0460522614106\tSky:0.091283363378\n"
     ]
    }
   ],
   "source": [
    "print 'Gain for Temperature: {}\\tHumidity:{}\\tSky:{}'.format(g_temp, g_humidity, g_sky)"
   ]
  },
  {
   "cell_type": "markdown",
   "metadata": {},
   "source": [
    "### So the root is on Sky!"
   ]
  },
  {
   "cell_type": "code",
   "execution_count": 27,
   "metadata": {
    "collapsed": false
   },
   "outputs": [],
   "source": [
    "#H[Y|Temperature,Cloudy]\n",
    "p_rain_cloudy_hot = (9+6)/20.0\n",
    "p_norain_cloudy_hot = 1-p_rain_cloudy_hot\n",
    "\n",
    "p_rain_cloudy_cold = (7+3)/20.0\n",
    "p_norain_cloudy_cold = 1-p_rain_cloudy_cold\n",
    "\n",
    "p_cloudy_hot = 2/4.0\n",
    "p_cloudy_cold = 2/4.0\n",
    "\n",
    "\n",
    "h_cloudy_temp = p_cloudy_hot * -(p_rain_cloudy_hot*math.log(p_rain_cloudy_hot,2)+p_norain_cloudy_hot*math.log(p_norain_cloudy_hot,2))\\\n",
    "                +p_cloudy_cold * -(p_rain_cloudy_cold*math.log(p_rain_cloudy_cold,2)+p_norain_cloudy_cold*math.log(p_norain_cloudy_cold,2))\n",
    "g_cloudy_temp = HY-h_cloudy_temp"
   ]
  },
  {
   "cell_type": "code",
   "execution_count": 28,
   "metadata": {
    "collapsed": true
   },
   "outputs": [],
   "source": [
    "#H[Y|Temperature,Cloudy]\n",
    "p_rain_cloudy_high = (9+7)/20.0\n",
    "p_norain_cloudy_high = 1-p_rain_cloudy_high\n",
    "\n",
    "p_rain_cloudy_low = (6+3)/20.0\n",
    "p_norain_cloudy_low = 1-p_rain_cloudy_low\n",
    "\n",
    "p_cloudy_high = 2/4.0\n",
    "p_cloudy_low = 1-p_cloudy_high\n",
    "\n",
    "\n",
    "h_cloudy_hum = p_cloudy_high * -(p_rain_cloudy_high*math.log(p_rain_cloudy_high,2)+p_norain_cloudy_high*math.log(p_norain_cloudy_high,2))\\\n",
    "                +p_cloudy_low * -(p_rain_cloudy_low*math.log(p_rain_cloudy_low,2)+p_norain_cloudy_low*math.log(p_norain_cloudy_low,2))\\\n",
    "\n",
    "g_cloudy_hum = HY-h_cloudy_hum"
   ]
  },
  {
   "cell_type": "code",
   "execution_count": 29,
   "metadata": {
    "collapsed": false
   },
   "outputs": [
    {
     "name": "stdout",
     "output_type": "stream",
     "text": [
      "For Cloudhy Sky: Temperature: 0.0871353917582\t HUmidity:0.13542317955\n"
     ]
    }
   ],
   "source": [
    "print 'For Cloudhy Sky: Temperature: {}\\t HUmidity:{}'.format(g_cloudy_temp, g_cloudy_hum)"
   ]
  },
  {
   "cell_type": "markdown",
   "metadata": {},
   "source": [
    "## For cloudy sky, we choose humdity as the next node"
   ]
  },
  {
   "cell_type": "markdown",
   "metadata": {},
   "source": [
    "## For clear sky, we choose temperature"
   ]
  },
  {
   "cell_type": "code",
   "execution_count": 30,
   "metadata": {
    "collapsed": true
   },
   "outputs": [],
   "source": [
    "##For clear sky, temperature =hot\n",
    "p_rain_clear_hot = (5+3)/20.0\n",
    "p_norain_clear_hot = 1-p_rain_clear_hot\n",
    "\n",
    "p_rain_clear_cold = (2+1)/20.0\n",
    "p_norain_clear_cold = 1-p_rain_clear_cold\n",
    "\n",
    "# So for Clear, hot => It rains\n",
    "\n",
    "#p_rain_clear_cold \n",
    "#h_clear_cold = p_rain_clear_cold*()\n"
   ]
  },
  {
   "cell_type": "code",
   "execution_count": 31,
   "metadata": {
    "collapsed": false
   },
   "outputs": [
    {
     "name": "stdout",
     "output_type": "stream",
     "text": [
      "Populating the interactive namespace from numpy and matplotlib\n",
      "{'labels': array([[ 1],\n",
      "       [ 1],\n",
      "       [-1],\n",
      "       [-1],\n",
      "       [ 1],\n",
      "       [ 1],\n",
      "       [ 1],\n",
      "       [-1],\n",
      "       [-1],\n",
      "       [ 1],\n",
      "       [-1],\n",
      "       [-1],\n",
      "       [ 1],\n",
      "       [ 1],\n",
      "       [-1],\n",
      "       [ 1],\n",
      "       [ 1],\n",
      "       [-1],\n",
      "       [-1],\n",
      "       [ 1],\n",
      "       [ 1],\n",
      "       [-1],\n",
      "       [ 1],\n",
      "       [ 1],\n",
      "       [ 1],\n",
      "       [-1],\n",
      "       [ 1],\n",
      "       [ 1],\n",
      "       [-1],\n",
      "       [ 1],\n",
      "       [-1],\n",
      "       [ 1],\n",
      "       [-1],\n",
      "       [ 1],\n",
      "       [ 1],\n",
      "       [-1],\n",
      "       [-1],\n",
      "       [ 1],\n",
      "       [-1],\n",
      "       [ 1],\n",
      "       [-1],\n",
      "       [-1],\n",
      "       [ 1],\n",
      "       [ 1],\n",
      "       [ 1],\n",
      "       [-1],\n",
      "       [ 1],\n",
      "       [-1],\n",
      "       [-1],\n",
      "       [-1],\n",
      "       [ 1],\n",
      "       [-1],\n",
      "       [-1],\n",
      "       [-1],\n",
      "       [ 1],\n",
      "       [-1],\n",
      "       [ 1],\n",
      "       [ 1],\n",
      "       [-1],\n",
      "       [ 1],\n",
      "       [-1],\n",
      "       [ 1],\n",
      "       [ 1],\n",
      "       [-1],\n",
      "       [-1],\n",
      "       [ 1],\n",
      "       [ 1],\n",
      "       [ 1],\n",
      "       [ 1],\n",
      "       [-1],\n",
      "       [-1],\n",
      "       [ 1],\n",
      "       [-1],\n",
      "       [-1],\n",
      "       [-1],\n",
      "       [-1],\n",
      "       [-1],\n",
      "       [ 1],\n",
      "       [ 1],\n",
      "       [-1],\n",
      "       [-1],\n",
      "       [-1],\n",
      "       [-1],\n",
      "       [ 1],\n",
      "       [ 1],\n",
      "       [-1],\n",
      "       [ 1],\n",
      "       [-1],\n",
      "       [ 1],\n",
      "       [-1],\n",
      "       [-1],\n",
      "       [ 1],\n",
      "       [ 1],\n",
      "       [ 1],\n",
      "       [-1],\n",
      "       [-1],\n",
      "       [-1],\n",
      "       [-1],\n",
      "       [ 1],\n",
      "       [ 1],\n",
      "       [ 1],\n",
      "       [-1],\n",
      "       [ 1],\n",
      "       [-1],\n",
      "       [-1],\n",
      "       [ 1],\n",
      "       [-1],\n",
      "       [-1],\n",
      "       [-1],\n",
      "       [-1],\n",
      "       [ 1],\n",
      "       [-1],\n",
      "       [ 1],\n",
      "       [ 1],\n",
      "       [-1],\n",
      "       [-1],\n",
      "       [ 1],\n",
      "       [ 1],\n",
      "       [ 1],\n",
      "       [-1],\n",
      "       [-1],\n",
      "       [ 1],\n",
      "       [ 1],\n",
      "       [ 1],\n",
      "       [-1],\n",
      "       [ 1],\n",
      "       [ 1],\n",
      "       [-1],\n",
      "       [-1],\n",
      "       [ 1],\n",
      "       [ 1],\n",
      "       [-1],\n",
      "       [-1],\n",
      "       [-1],\n",
      "       [-1],\n",
      "       [ 1],\n",
      "       [-1],\n",
      "       [-1],\n",
      "       [ 1],\n",
      "       [-1],\n",
      "       [ 1],\n",
      "       [ 1],\n",
      "       [ 1],\n",
      "       [ 1],\n",
      "       [ 1],\n",
      "       [-1],\n",
      "       [-1],\n",
      "       [-1],\n",
      "       [ 1],\n",
      "       [ 1],\n",
      "       [-1],\n",
      "       [ 1],\n",
      "       [ 1],\n",
      "       [ 1],\n",
      "       [ 1],\n",
      "       [-1],\n",
      "       [-1],\n",
      "       [-1],\n",
      "       [ 1],\n",
      "       [ 1],\n",
      "       [ 1],\n",
      "       [-1],\n",
      "       [ 1],\n",
      "       [ 1],\n",
      "       [-1],\n",
      "       [-1],\n",
      "       [-1],\n",
      "       [-1],\n",
      "       [ 1],\n",
      "       [-1],\n",
      "       [ 1],\n",
      "       [-1],\n",
      "       [ 1],\n",
      "       [-1],\n",
      "       [-1],\n",
      "       [-1],\n",
      "       [-1],\n",
      "       [ 1],\n",
      "       [-1],\n",
      "       [ 1],\n",
      "       [-1],\n",
      "       [ 1],\n",
      "       [ 1],\n",
      "       [-1],\n",
      "       [-1],\n",
      "       [-1],\n",
      "       [ 1],\n",
      "       [-1],\n",
      "       [-1],\n",
      "       [-1],\n",
      "       [-1],\n",
      "       [-1],\n",
      "       [-1],\n",
      "       [-1],\n",
      "       [ 1],\n",
      "       [-1],\n",
      "       [ 1],\n",
      "       [ 1],\n",
      "       [ 1],\n",
      "       [-1],\n",
      "       [ 1],\n",
      "       [-1],\n",
      "       [-1],\n",
      "       [ 1],\n",
      "       [-1],\n",
      "       [ 1],\n",
      "       [-1],\n",
      "       [-1],\n",
      "       [ 1],\n",
      "       [ 1],\n",
      "       [-1],\n",
      "       [ 1],\n",
      "       [-1],\n",
      "       [ 1],\n",
      "       [-1],\n",
      "       [-1],\n",
      "       [-1],\n",
      "       [ 1],\n",
      "       [ 1],\n",
      "       [-1],\n",
      "       [-1],\n",
      "       [-1],\n",
      "       [ 1],\n",
      "       [ 1],\n",
      "       [ 1],\n",
      "       [ 1],\n",
      "       [ 1],\n",
      "       [-1],\n",
      "       [-1],\n",
      "       [ 1],\n",
      "       [ 1],\n",
      "       [-1],\n",
      "       [-1],\n",
      "       [ 1],\n",
      "       [-1],\n",
      "       [ 1],\n",
      "       [-1],\n",
      "       [ 1],\n",
      "       [-1],\n",
      "       [-1],\n",
      "       [-1],\n",
      "       [-1],\n",
      "       [-1],\n",
      "       [-1],\n",
      "       [ 1],\n",
      "       [-1],\n",
      "       [ 1],\n",
      "       [-1],\n",
      "       [ 1],\n",
      "       [-1],\n",
      "       [-1],\n",
      "       [ 1],\n",
      "       [-1],\n",
      "       [-1],\n",
      "       [-1],\n",
      "       [-1],\n",
      "       [ 1],\n",
      "       [-1],\n",
      "       [ 1],\n",
      "       [ 1],\n",
      "       [ 1],\n",
      "       [ 1],\n",
      "       [ 1],\n",
      "       [-1],\n",
      "       [ 1],\n",
      "       [-1],\n",
      "       [-1],\n",
      "       [-1],\n",
      "       [-1],\n",
      "       [ 1],\n",
      "       [ 1],\n",
      "       [-1],\n",
      "       [ 1],\n",
      "       [-1],\n",
      "       [-1],\n",
      "       [ 1],\n",
      "       [-1],\n",
      "       [ 1],\n",
      "       [-1],\n",
      "       [-1],\n",
      "       [-1],\n",
      "       [-1],\n",
      "       [ 1],\n",
      "       [-1],\n",
      "       [ 1],\n",
      "       [-1],\n",
      "       [ 1],\n",
      "       [ 1],\n",
      "       [-1],\n",
      "       [ 1],\n",
      "       [ 1],\n",
      "       [-1],\n",
      "       [ 1],\n",
      "       [-1],\n",
      "       [ 1],\n",
      "       [ 1],\n",
      "       [ 1],\n",
      "       [-1],\n",
      "       [-1],\n",
      "       [-1],\n",
      "       [-1],\n",
      "       [-1],\n",
      "       [-1],\n",
      "       [ 1],\n",
      "       [-1],\n",
      "       [ 1],\n",
      "       [-1],\n",
      "       [ 1],\n",
      "       [-1],\n",
      "       [-1],\n",
      "       [-1],\n",
      "       [-1],\n",
      "       [-1],\n",
      "       [ 1],\n",
      "       [ 1],\n",
      "       [-1],\n",
      "       [-1],\n",
      "       [-1],\n",
      "       [ 1],\n",
      "       [-1],\n",
      "       [ 1],\n",
      "       [-1],\n",
      "       [-1],\n",
      "       [-1],\n",
      "       [ 1],\n",
      "       [-1],\n",
      "       [ 1],\n",
      "       [-1],\n",
      "       [-1],\n",
      "       [-1],\n",
      "       [ 1],\n",
      "       [ 1],\n",
      "       [ 1],\n",
      "       [-1],\n",
      "       [-1],\n",
      "       [ 1],\n",
      "       [ 1],\n",
      "       [ 1],\n",
      "       [-1],\n",
      "       [-1],\n",
      "       [-1],\n",
      "       [ 1],\n",
      "       [-1],\n",
      "       [-1],\n",
      "       [ 1],\n",
      "       [ 1],\n",
      "       [-1],\n",
      "       [-1],\n",
      "       [ 1],\n",
      "       [-1],\n",
      "       [-1],\n",
      "       [ 1],\n",
      "       [ 1],\n",
      "       [ 1],\n",
      "       [ 1],\n",
      "       [-1],\n",
      "       [ 1],\n",
      "       [ 1],\n",
      "       [-1],\n",
      "       [-1],\n",
      "       [ 1],\n",
      "       [-1],\n",
      "       [ 1],\n",
      "       [ 1],\n",
      "       [ 1],\n",
      "       [ 1],\n",
      "       [-1],\n",
      "       [ 1],\n",
      "       [-1],\n",
      "       [-1],\n",
      "       [-1],\n",
      "       [ 1],\n",
      "       [ 1],\n",
      "       [-1],\n",
      "       [ 1],\n",
      "       [ 1],\n",
      "       [ 1],\n",
      "       [ 1],\n",
      "       [ 1],\n",
      "       [ 1],\n",
      "       [ 1],\n",
      "       [-1],\n",
      "       [-1],\n",
      "       [ 1],\n",
      "       [-1],\n",
      "       [-1],\n",
      "       [ 1],\n",
      "       [ 1],\n",
      "       [-1],\n",
      "       [-1],\n",
      "       [ 1],\n",
      "       [ 1],\n",
      "       [ 1],\n",
      "       [-1],\n",
      "       [-1],\n",
      "       [-1],\n",
      "       [ 1],\n",
      "       [ 1],\n",
      "       [ 1],\n",
      "       [-1]], dtype=int16), '__version__': '1.0', 'features': array([[ 0.88060566,  0.9069621 ],\n",
      "       [ 0.61908086,  0.37887659],\n",
      "       [ 0.89394076,  0.52962221],\n",
      "       [ 0.2090533 ,  0.988615  ],\n",
      "       [ 0.25829775,  0.95820931],\n",
      "       [ 0.00412488,  0.81764608],\n",
      "       [ 0.09045269,  0.42389547],\n",
      "       [ 0.59582002,  0.81797653],\n",
      "       [ 0.29931273,  0.44449589],\n",
      "       [ 0.7754338 ,  0.38026035],\n",
      "       [ 0.64238993,  0.70723517],\n",
      "       [ 0.17954654,  0.23891612],\n",
      "       [ 0.28334014,  0.17576511],\n",
      "       [ 0.13585484,  0.23814677],\n",
      "       [ 0.56349551,  0.28359162],\n",
      "       [ 0.14425621,  0.04064871],\n",
      "       [ 0.85605342,  0.55141668],\n",
      "       [ 0.03040843,  0.94249898],\n",
      "       [ 0.85032386,  0.78783661],\n",
      "       [ 0.23280049,  0.24143222],\n",
      "       [ 0.75493647,  0.69597555],\n",
      "       [ 0.05639043,  0.01525751],\n",
      "       [ 0.7076464 ,  0.76854751],\n",
      "       [ 0.18412115,  0.33189269],\n",
      "       [ 0.99460256,  0.32233009],\n",
      "       [ 0.5166997 ,  0.7654373 ],\n",
      "       [ 0.53815101,  0.38416497],\n",
      "       [ 0.271514  ,  0.21862672],\n",
      "       [ 0.37825698,  0.56332208],\n",
      "       [ 0.51214657,  0.22063333],\n",
      "       [ 0.51541855,  0.16263705],\n",
      "       [ 0.46893368,  0.39964005],\n",
      "       [ 0.15416716,  0.02039494],\n",
      "       [ 0.21512608,  0.42327013],\n",
      "       [ 0.64517282,  0.0032733 ],\n",
      "       [ 0.60613917,  0.04486003],\n",
      "       [ 0.18234512,  0.18912412],\n",
      "       [ 0.86769146,  0.20133633],\n",
      "       [ 0.5277181 ,  0.60034962],\n",
      "       [ 0.97453763,  0.23172246],\n",
      "       [ 0.28548482,  0.56654788],\n",
      "       [ 0.949081  ,  0.55074967],\n",
      "       [ 0.60760531,  0.33800629],\n",
      "       [ 0.77648781,  0.98992351],\n",
      "       [ 0.06348196,  0.14835925],\n",
      "       [ 0.59115702,  0.85128767],\n",
      "       [ 0.89975753,  0.78718001],\n",
      "       [ 0.50978799,  0.52430098],\n",
      "       [ 0.53283479,  0.01883896],\n",
      "       [ 0.79857564,  0.26345172],\n",
      "       [ 0.65509598,  0.99858972],\n",
      "       [ 0.46305783,  0.71054062],\n",
      "       [ 0.55731705,  0.21809033],\n",
      "       [ 0.74303364,  0.64161269],\n",
      "       [ 0.51432168,  0.12106825],\n",
      "       [ 0.12078236,  0.55668134],\n",
      "       [ 0.26808667,  0.78796821],\n",
      "       [ 0.92485901,  0.41450193],\n",
      "       [ 0.58939731,  0.08366441],\n",
      "       [ 0.53922342,  0.58710672],\n",
      "       [ 0.93726526,  0.63926646],\n",
      "       [ 0.25562896,  0.12515473],\n",
      "       [ 0.91190009,  0.86526168],\n",
      "       [ 0.55711614,  0.48778429],\n",
      "       [ 0.73868489,  0.27601782],\n",
      "       [ 0.68432084,  0.31147164],\n",
      "       [ 0.1397059 ,  0.66656671],\n",
      "       [ 0.97348858,  0.50009808],\n",
      "       [ 0.42453977,  0.44413852],\n",
      "       [ 0.07621165,  0.32558251],\n",
      "       [ 0.10792619,  0.56592369],\n",
      "       [ 0.97224132,  0.01522272],\n",
      "       [ 0.57035334,  0.55283355],\n",
      "       [ 0.48382488,  0.93582422],\n",
      "       [ 0.64498975,  0.4817723 ],\n",
      "       [ 0.21820438,  0.32847565],\n",
      "       [ 0.69490292,  0.80308169],\n",
      "       [ 0.24575686,  0.14346557],\n",
      "       [ 0.63361906,  0.07862275],\n",
      "       [ 0.96013714,  0.44540793],\n",
      "       [ 0.72642199,  0.46551034],\n",
      "       [ 0.9696583 ,  0.73667864],\n",
      "       [ 0.7621409 ,  0.6990372 ],\n",
      "       [ 0.52509584,  0.53309033],\n",
      "       [ 0.44679024,  0.20632318],\n",
      "       [ 0.63836197,  0.15696725],\n",
      "       [ 0.30713779,  0.40223952],\n",
      "       [ 0.44340593,  0.43757587],\n",
      "       [ 0.66526995,  0.97506347],\n",
      "       [ 0.82227717,  0.92674419],\n",
      "       [ 0.31902131,  0.30806415],\n",
      "       [ 0.65704504,  0.8625826 ],\n",
      "       [ 0.50540341,  0.56022728],\n",
      "       [ 0.15744603,  0.54416228],\n",
      "       [ 0.30507655,  0.8422796 ],\n",
      "       [ 0.10510129,  0.78797087],\n",
      "       [ 0.87062182,  0.53637121],\n",
      "       [ 0.67895067,  0.00183038],\n",
      "       [ 0.82687522,  0.37015247],\n",
      "       [ 0.94606932,  0.4361208 ],\n",
      "       [ 0.63060391,  0.6332025 ],\n",
      "       [ 0.51340222,  0.1467774 ],\n",
      "       [ 0.55599497,  0.56536703],\n",
      "       [ 0.98743097,  0.40311686],\n",
      "       [ 0.62690151,  0.05398181],\n",
      "       [ 0.85201697,  0.13598472],\n",
      "       [ 0.49025062,  0.39050965],\n",
      "       [ 0.01995876,  0.45755556],\n",
      "       [ 0.2438314 ,  0.33191106],\n",
      "       [ 0.55007506,  0.85733266],\n",
      "       [ 0.10156702,  0.60715582],\n",
      "       [ 0.47431208,  0.19711833],\n",
      "       [ 0.17453117,  0.14352109],\n",
      "       [ 0.32538313,  0.76737995],\n",
      "       [ 0.11038631,  0.65272311],\n",
      "       [ 0.42823651,  0.34227988],\n",
      "       [ 0.7189906 ,  0.05661104],\n",
      "       [ 0.76761659,  0.4203616 ],\n",
      "       [ 0.9271852 ,  0.4608638 ],\n",
      "       [ 0.75695405,  0.53550264],\n",
      "       [ 0.33249821,  0.82842281],\n",
      "       [ 0.88055951,  0.99837009],\n",
      "       [ 0.52560974,  0.38240546],\n",
      "       [ 0.26734029,  0.19007998],\n",
      "       [ 0.16821682,  0.99239133],\n",
      "       [ 0.04501119,  0.6799368 ],\n",
      "       [ 0.17077493,  0.93489602],\n",
      "       [ 0.92577541,  0.63641018],\n",
      "       [ 0.10862359,  0.64870462],\n",
      "       [ 0.83414934,  0.38261172],\n",
      "       [ 0.15181501,  0.02787361],\n",
      "       [ 0.85587612,  0.59306638],\n",
      "       [ 0.59856753,  0.73130523],\n",
      "       [ 0.19776826,  0.65312429],\n",
      "       [ 0.79753052,  0.0619616 ],\n",
      "       [ 0.78738565,  0.15304079],\n",
      "       [ 0.09558508,  0.75565379],\n",
      "       [ 0.17144778,  0.49583322],\n",
      "       [ 0.6028121 ,  0.38436908],\n",
      "       [ 0.32509848,  0.28831782],\n",
      "       [ 0.26728487,  0.18636646],\n",
      "       [ 0.78929975,  0.94733758],\n",
      "       [ 0.61661344,  0.39805639],\n",
      "       [ 0.68646421,  0.13915168],\n",
      "       [ 0.6974333 ,  0.54137266],\n",
      "       [ 0.93202059,  0.0305164 ],\n",
      "       [ 0.12018809,  0.54845004],\n",
      "       [ 0.60688622,  0.39658862],\n",
      "       [ 0.48986765,  0.76094562],\n",
      "       [ 0.52970138,  0.16278458],\n",
      "       [ 0.22186913,  0.46810012],\n",
      "       [ 0.7481809 ,  0.59364466],\n",
      "       [ 0.2581539 ,  0.08533438],\n",
      "       [ 0.19911398,  0.49714076],\n",
      "       [ 0.87152337,  0.77689876],\n",
      "       [ 0.0271855 ,  0.13381792],\n",
      "       [ 0.03634021,  0.70019494],\n",
      "       [ 0.43799367,  0.83073111],\n",
      "       [ 0.06568763,  0.51314783],\n",
      "       [ 0.97938642,  0.00481381],\n",
      "       [ 0.62890006,  0.35671192],\n",
      "       [ 0.65632808,  0.97302173],\n",
      "       [ 0.32790605,  0.14465763],\n",
      "       [ 0.47549986,  0.77476574],\n",
      "       [ 0.01624182,  0.3609793 ],\n",
      "       [ 0.20002815,  0.28157815],\n",
      "       [ 0.85849473,  0.5434095 ],\n",
      "       [ 0.0675401 ,  0.40723859],\n",
      "       [ 0.31074856,  0.92030386],\n",
      "       [ 0.82662273,  0.35689931],\n",
      "       [ 0.61186841,  0.11250923],\n",
      "       [ 0.91460037,  0.2550839 ],\n",
      "       [ 0.88411044,  0.15567712],\n",
      "       [ 0.24531303,  0.81311088],\n",
      "       [ 0.95820191,  0.62963883],\n",
      "       [ 0.4522967 ,  0.65937431],\n",
      "       [ 0.88855814,  0.6641176 ],\n",
      "       [ 0.46485039,  0.54727703],\n",
      "       [ 0.58522136,  0.28594904],\n",
      "       [ 0.01167901,  0.09731316],\n",
      "       [ 0.72843539,  0.83121842],\n",
      "       [ 0.41530035,  0.31502044],\n",
      "       [ 0.11863749,  0.59878357],\n",
      "       [ 0.59625642,  0.4687677 ],\n",
      "       [ 0.00468786,  0.65821134],\n",
      "       [ 0.93945478,  0.2609999 ],\n",
      "       [ 0.69141204,  0.28453044],\n",
      "       [ 0.27179808,  0.69105664],\n",
      "       [ 0.75373733,  0.97347859],\n",
      "       [ 0.65833192,  0.28255815],\n",
      "       [ 0.28371013,  0.85399301],\n",
      "       [ 0.53561451,  0.90132798],\n",
      "       [ 0.06021607,  0.83775416],\n",
      "       [ 0.67742727,  0.75227974],\n",
      "       [ 0.9228831 ,  0.25913128],\n",
      "       [ 0.46663868,  0.94713849],\n",
      "       [ 0.36881017,  0.84713232],\n",
      "       [ 0.91739393,  0.8423747 ],\n",
      "       [ 0.01157304,  0.77715634],\n",
      "       [ 0.9292352 ,  0.47375533],\n",
      "       [ 0.69341754,  0.85116553],\n",
      "       [ 0.82123702,  0.92918442],\n",
      "       [ 0.85773689,  0.02424365],\n",
      "       [ 0.11057689,  0.72908731],\n",
      "       [ 0.7049994 ,  0.46631973],\n",
      "       [ 0.55166643,  0.59119377],\n",
      "       [ 0.52062779,  0.98449771],\n",
      "       [ 0.31373175,  0.84700749],\n",
      "       [ 0.16141492,  0.97669722],\n",
      "       [ 0.31972778,  0.34485521],\n",
      "       [ 0.6710666 ,  0.27736325],\n",
      "       [ 0.5239508 ,  0.31640724],\n",
      "       [ 0.60780046,  0.33648883],\n",
      "       [ 0.76031494,  0.54809991],\n",
      "       [ 0.16386253,  0.28520574],\n",
      "       [ 0.49436169,  0.91585924],\n",
      "       [ 0.76468803,  0.6706833 ],\n",
      "       [ 0.30081148,  0.78549118],\n",
      "       [ 0.83886561,  0.18300538],\n",
      "       [ 0.67980762,  0.14088585],\n",
      "       [ 0.32846118,  0.05574465],\n",
      "       [ 0.53826367,  0.61837349],\n",
      "       [ 0.83781693,  0.58994139],\n",
      "       [ 0.24297688,  0.37503604],\n",
      "       [ 0.01948406,  0.02261822],\n",
      "       [ 0.60747865,  0.15925118],\n",
      "       [ 0.53879304,  0.50677288],\n",
      "       [ 0.22634948,  0.78717206],\n",
      "       [ 0.91994101,  0.76203759],\n",
      "       [ 0.93599522,  0.93432478],\n",
      "       [ 0.48862953,  0.79517996],\n",
      "       [ 0.69762784,  0.45426139],\n",
      "       [ 0.51658565,  0.34439868],\n",
      "       [ 0.28523355,  0.1328598 ],\n",
      "       [ 0.00945048,  0.56123375],\n",
      "       [ 0.29294972,  0.20761525],\n",
      "       [ 0.66648451,  0.11800666],\n",
      "       [ 0.15509237,  0.76765466],\n",
      "       [ 0.22557761,  0.45725528],\n",
      "       [ 0.87762203,  0.7258431 ],\n",
      "       [ 0.60572756,  0.10672557],\n",
      "       [ 0.64681381,  0.43914117],\n",
      "       [ 0.06918288,  0.55738801],\n",
      "       [ 0.21854565,  0.85558368],\n",
      "       [ 0.77999428,  0.91192935],\n",
      "       [ 0.62907744,  0.3513303 ],\n",
      "       [ 0.07061642,  0.37236244],\n",
      "       [ 0.65721858,  0.10223546],\n",
      "       [ 0.51965944,  0.65759319],\n",
      "       [ 0.94752964,  0.21880986],\n",
      "       [ 0.02085067,  0.86643132],\n",
      "       [ 0.72871784,  0.39340489],\n",
      "       [ 0.39851786,  0.45388499],\n",
      "       [ 0.6872463 ,  0.18175376],\n",
      "       [ 0.07308707,  0.06743853],\n",
      "       [ 0.75804556,  0.78455338],\n",
      "       [ 0.05072259,  0.80186698],\n",
      "       [ 0.64241008,  0.46341895],\n",
      "       [ 0.50077491,  0.85242263],\n",
      "       [ 0.53008977,  0.62564799],\n",
      "       [ 0.73825153,  0.180491  ],\n",
      "       [ 0.27456845,  0.03007021],\n",
      "       [ 0.23803565,  0.12977849],\n",
      "       [ 0.75994311,  0.3156061 ],\n",
      "       [ 0.96009444,  0.73153458],\n",
      "       [ 0.16620636,  0.77298032],\n",
      "       [ 0.37859389,  0.14856877],\n",
      "       [ 0.09680238,  0.79579958],\n",
      "       [ 0.93456239,  0.16534528],\n",
      "       [ 0.80291587,  0.71710292],\n",
      "       [ 0.73020533,  0.07855683],\n",
      "       [ 0.79471341,  0.39386598],\n",
      "       [ 0.57356962,  0.81582994],\n",
      "       [ 0.36169015,  0.52997527],\n",
      "       [ 0.16133366,  0.94735645],\n",
      "       [ 0.88637059,  0.31668077],\n",
      "       [ 0.90199869,  0.57816541],\n",
      "       [ 0.75858214,  0.1902291 ],\n",
      "       [ 0.36179213,  0.39226111],\n",
      "       [ 0.49622488,  0.99875628],\n",
      "       [ 0.65868549,  0.34368823],\n",
      "       [ 0.28896678,  0.90857082],\n",
      "       [ 0.14305715,  0.69766634],\n",
      "       [ 0.30813312,  0.02977024],\n",
      "       [ 0.3474413 ,  0.48127712],\n",
      "       [ 0.13953846,  0.67690543],\n",
      "       [ 0.21623853,  0.40248297],\n",
      "       [ 0.55582169,  0.15409103],\n",
      "       [ 0.05118374,  0.56116788],\n",
      "       [ 0.41735263,  0.9493255 ],\n",
      "       [ 0.71158016,  0.95929542],\n",
      "       [ 0.87927304,  0.9899408 ],\n",
      "       [ 0.60147944,  0.83601384],\n",
      "       [ 0.46497205,  0.65408004],\n",
      "       [ 0.81542064,  0.86917294],\n",
      "       [ 0.32212491,  0.8637714 ],\n",
      "       [ 0.37638944,  0.76192463],\n",
      "       [ 0.13801572,  0.16526765],\n",
      "       [ 0.65359239,  0.07947416],\n",
      "       [ 0.02549197,  0.50889458],\n",
      "       [ 0.23368635,  0.09304026],\n",
      "       [ 0.97878212,  0.43785913],\n",
      "       [ 0.94302144,  0.31197148],\n",
      "       [ 0.98106385,  0.37915088],\n",
      "       [ 0.06696397,  0.99559237],\n",
      "       [ 0.19525747,  0.86949223],\n",
      "       [ 0.42340596,  0.94790656],\n",
      "       [ 0.53707643,  0.25430484],\n",
      "       [ 0.46327715,  0.04849163],\n",
      "       [ 0.6259094 ,  0.8318387 ],\n",
      "       [ 0.5025594 ,  0.68872558],\n",
      "       [ 0.79177705,  0.59602189],\n",
      "       [ 0.71035192,  0.21473979],\n",
      "       [ 0.56940488,  0.53516928],\n",
      "       [ 0.15709878,  0.05575556],\n",
      "       [ 0.62560336,  0.43104931],\n",
      "       [ 0.92583332,  0.19073823],\n",
      "       [ 0.98319713,  0.32777546],\n",
      "       [ 0.72317358,  0.93765708],\n",
      "       [ 0.18755843,  0.84736701],\n",
      "       [ 0.86013173,  0.25698364],\n",
      "       [ 0.1290599 ,  0.37720553],\n",
      "       [ 0.74347161,  0.73351433],\n",
      "       [ 0.04787844,  0.78222414],\n",
      "       [ 0.64969944,  0.01163706],\n",
      "       [ 0.05953712,  0.22170615],\n",
      "       [ 0.91976245,  0.0670718 ],\n",
      "       [ 0.17172453,  0.70565414],\n",
      "       [ 0.08804642,  0.87593417],\n",
      "       [ 0.3045428 ,  0.27748226],\n",
      "       [ 0.67159515,  0.69280412],\n",
      "       [ 0.2044433 ,  0.13901353],\n",
      "       [ 0.97480967,  0.37476901],\n",
      "       [ 0.03955967,  0.83587783],\n",
      "       [ 0.49179107,  0.69574833],\n",
      "       [ 0.64093296,  0.69489941],\n",
      "       [ 0.40501614,  0.85336179],\n",
      "       [ 0.05708196,  0.29458822],\n",
      "       [ 0.63033699,  0.65096799],\n",
      "       [ 0.21458123,  0.29862787],\n",
      "       [ 0.62970941,  0.94467749],\n",
      "       [ 0.39456094,  0.78078901],\n",
      "       [ 0.7961077 ,  0.82501817],\n",
      "       [ 0.87903694,  0.73618478],\n",
      "       [ 0.78007712,  0.79367256],\n",
      "       [ 0.7024826 ,  0.40515752],\n",
      "       [ 0.42067223,  0.1306119 ],\n",
      "       [ 0.64385583,  0.1595564 ],\n",
      "       [ 0.07830899,  0.8166439 ],\n",
      "       [ 0.38074997,  0.03055413],\n",
      "       [ 0.43768922,  0.54399146],\n",
      "       [ 0.40695144,  0.82349714],\n",
      "       [ 0.27378619,  0.94839703],\n",
      "       [ 0.23135103,  0.4602685 ],\n",
      "       [ 0.73789795,  0.0695003 ],\n",
      "       [ 0.87940004,  0.52239952],\n",
      "       [ 0.77248802,  0.19585724],\n",
      "       [ 0.03583289,  0.29871147],\n",
      "       [ 0.55431633,  0.97571511],\n",
      "       [ 0.58817449,  0.16531604],\n",
      "       [ 0.24618851,  0.77734998],\n",
      "       [ 0.39838626,  0.3413783 ],\n",
      "       [ 0.8067798 ,  0.47410285],\n",
      "       [ 0.3018356 ,  0.10023668],\n",
      "       [ 0.48963439,  0.0601817 ],\n",
      "       [ 0.78128715,  0.86172031],\n",
      "       [ 0.44997697,  0.07087161],\n",
      "       [ 0.83324041,  0.88279563],\n",
      "       [ 0.67667458,  0.39383999],\n",
      "       [ 0.08662906,  0.44005057],\n",
      "       [ 0.98071847,  0.35073204],\n",
      "       [ 0.56642842,  0.03235092],\n",
      "       [ 0.20767939,  0.72556601],\n",
      "       [ 0.09560867,  0.35348974],\n",
      "       [ 0.06252147,  0.64106041],\n",
      "       [ 0.02578202,  0.77158905],\n",
      "       [ 0.33412694,  0.67708058],\n",
      "       [ 0.5568066 ,  0.48587249],\n",
      "       [ 0.84593942,  0.81212913],\n",
      "       [ 0.62675422,  0.07599671],\n",
      "       [ 0.59986361,  0.02833285],\n",
      "       [ 0.21063615,  0.43350702],\n",
      "       [ 0.25391483,  0.14347805],\n",
      "       [ 0.65197371,  0.80803707],\n",
      "       [ 0.32891677,  0.00175475],\n",
      "       [ 0.52317395,  0.09622154],\n",
      "       [ 0.12471656,  0.42167502],\n",
      "       [ 0.45269629,  0.23511398],\n",
      "       [ 0.99259586,  0.95630117],\n",
      "       [ 0.39922883,  0.37148724],\n",
      "       [ 0.06191172,  0.49132007],\n",
      "       [ 0.29296126,  0.26750922],\n",
      "       [ 0.55227183,  0.57628033],\n",
      "       [ 0.74012728,  0.52004533],\n",
      "       [ 0.3184045 ,  0.97886908],\n",
      "       [ 0.49385818,  0.66074063],\n",
      "       [ 0.62866864,  0.84624235],\n",
      "       [ 0.7531463 ,  0.0871436 ],\n",
      "       [ 0.69388733,  0.42287582],\n",
      "       [ 0.13688053,  0.04140649]]), '__header__': 'MATLAB 5.0 MAT-file, Platform: GLNXA64, Created on: Fri Sep  4 01:24:06 2015', '__globals__': []}\n"
     ]
    },
    {
     "name": "stderr",
     "output_type": "stream",
     "text": [
      "WARNING: pylab import has clobbered these variables: ['pylab', 'f', 'random', 'histogram']\n",
      "`%matplotlib` prevents importing * from pylab and numpy\n"
     ]
    }
   ],
   "source": [
    "%pylab inline\n",
    "from __future__ import division\n",
    "pylab.rcParams['figure.figsize'] = (16, 10)\n",
    "import scipy.io as sio\n",
    "import numpy as np\n",
    "import math\n",
    "import matplotlib.pyplot as plt\n",
    "data = sio.loadmat('../data/programming/hw1boundary.mat')\n",
    "print(data)"
   ]
  },
  {
   "cell_type": "code",
   "execution_count": 32,
   "metadata": {
    "collapsed": true
   },
   "outputs": [],
   "source": [
    "#"
   ]
  },
  {
   "cell_type": "code",
   "execution_count": null,
   "metadata": {
    "collapsed": true
   },
   "outputs": [],
   "source": []
  }
 ],
 "metadata": {
  "kernelspec": {
   "display_name": "Python 2",
   "language": "python",
   "name": "python2"
  },
  "language_info": {
   "codemirror_mode": {
    "name": "ipython",
    "version": 2
   },
   "file_extension": ".py",
   "mimetype": "text/x-python",
   "name": "python",
   "nbconvert_exporter": "python",
   "pygments_lexer": "ipython2",
   "version": "2.7.10"
  }
 },
 "nbformat": 4,
 "nbformat_minor": 0
}
