{
 "cells": [
  {
   "cell_type": "code",
   "execution_count": null,
   "metadata": {
    "collapsed": true
   },
   "outputs": [],
   "source": [
    "Age.of.Diagnosis Native.American European  African\n",
    "1               55        0.478095 0.464391 0.057514\n",
    "2               59        0.253285 0.145752 0.600963\n",
    "3               58        0.554635 0.411777 0.033588\n",
    "4               44        0.444549 0.537177 0.018274\n",
    "5               53        0.510756 0.479137 0.010106\n",
    "6               52        0.452883 0.356077 0.191040"
   ]
  }
 ],
 "metadata": {
  "kernelspec": {
   "display_name": "R",
   "language": "R",
   "name": "ir"
  },
  "language_info": {
   "codemirror_mode": "r",
   "file_extension": ".r",
   "mimetype": "text/x-r-source",
   "name": "R",
   "pygments_lexer": "r",
   "version": "3.2.2"
  }
 },
 "nbformat": 4,
 "nbformat_minor": 0
}
