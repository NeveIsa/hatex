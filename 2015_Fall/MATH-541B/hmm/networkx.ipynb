{
 "cells": [
  {
   "cell_type": "code",
   "execution_count": 1,
   "metadata": {
    "collapsed": true
   },
   "outputs": [],
   "source": [
    "%matplotlib inline\n",
    "\n",
    "from __future__ import division\n",
    "import numpy as np\n",
    "import networkx as nx\n",
    "import matplotlib.pyplot as plt\n",
    "P = np.array([[0.2, 0.5, 0.2],\n",
    "             [0, 0.5, 0.5],\n",
    "             [0, 0, 1]])\n",
    "G = nx.MultiDiGraph()\n",
    "labels={}\n",
    "edge_labels={}\n",
    "states = ['good', 'bad', 'mediocre']\n",
    "for i, origin_state in enumerate(states):\n",
    "    for j, destination_state in enumerate(states):\n",
    "        rate = P[i][j]\n",
    "        if rate > 0:\n",
    "            G.add_edge(origin_state,\n",
    "                       destination_state,\n",
    "                       \n",
    "                       label=\"{:.02f}\".format(rate))\n",
    "            edge_labels[(origin_state, destination_state)] = label=\"{:.02f}\".format(rate)"
   ]
  },
  {
   "cell_type": "code",
   "execution_count": 5,
   "metadata": {
    "collapsed": false
   },
   "outputs": [
    {
     "data": {
      "image/png": "[encoded data removed]",
      "text/plain": [
       "<matplotlib.figure.Figure at 0x7f1988fd46d0>"
      ]
     },
     "metadata": {},
     "output_type": "display_data"
    }
   ],
   "source": [
    "plt.figure(figsize=(14,7))\n",
    "node_size = 600\n",
    "#pos = nx.random_layout(G)\n",
    "pos = {'bad':[0,0], 'mediocre': [0,2], 'good': [1,1]}\n",
    "nx.draw_networkx_edges(G,pos, node_size=node_size)\n",
    "nx.draw_networkx_labels(G, pos, font_weight=2, node_size=node_size)\n",
    "nx.draw_networkx_edge_labels(G, pos, edge_labels, node_size=node_size)\n",
    "plt.axis('off');"
   ]
  },
  {
   "cell_type": "code",
   "execution_count": 6,
   "metadata": {
    "collapsed": false
   },
   "outputs": [],
   "source": [
    "nx.write_dot(G,'G.dot')"
   ]
  },
  {
   "cell_type": "code",
   "execution_count": 7,
   "metadata": {
    "collapsed": false
   },
   "outputs": [],
   "source": [
    "!neato -Tps -Goverlap=scale G.dot -o G.ps; convert G.ps G.png"
   ]
  },
  {
   "cell_type": "markdown",
   "metadata": {},
   "source": [
    "![img](G.png)"
   ]
  },
  {
   "cell_type": "code",
   "execution_count": null,
   "metadata": {
    "collapsed": true
   },
   "outputs": [],
   "source": []
  }
 ],
 "metadata": {
  "kernelspec": {
   "display_name": "Python 2",
   "language": "python",
   "name": "python2"
  },
  "language_info": {
   "codemirror_mode": {
    "name": "ipython",
    "version": 2
   },
   "file_extension": ".py",
   "mimetype": "text/x-python",
   "name": "python",
   "nbconvert_exporter": "python",
   "pygments_lexer": "ipython2",
   "version": "2.7.10"
  }
 },
 "nbformat": 4,
 "nbformat_minor": 0
}
