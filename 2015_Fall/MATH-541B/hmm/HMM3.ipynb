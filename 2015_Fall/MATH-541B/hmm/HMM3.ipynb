{
 "cells": [
  {
   "cell_type": "code",
   "execution_count": 15,
   "metadata": {
    "collapsed": false
   },
   "outputs": [],
   "source": [
    "%matplotlib inline\n",
    "from __future__ import division\n",
    "import scipy\n",
    "from scipy.stats import binom\n",
    "import numpy as np\n",
    "import matplotlib.pyplot as plt\n",
    "import seaborn as sns\n",
    "import matplotlib.cm as cm\n",
    "\n",
    "\n",
    "from math import sqrt, pi, exp, log\n",
    "\n",
    "plt.rcParams['figure.figsize'] = (10.0, 8.0)\n",
    "A = np.array([[0.990, 0.005, 0.005], [0.005, 0.990, 0.005], [0.005, 0.005, 0.990]])\n",
    "pi0 = [1/3, 1/3, 1/3]\n",
    "V  = [0, 1, 2, 3, 4, 5]\n",
    "\n",
    "Q = [-1, 0, 1]\n",
    "T = 1000\n",
    "scale=1\n",
    "colors = cm.rainbow(np.linspace(0, 1, 6))\n",
    "scipy.set_printoptions(precision = 4, suppress = True)\n"
   ]
  },
  {
   "cell_type": "code",
   "execution_count": 23,
   "metadata": {
    "collapsed": false
   },
   "outputs": [],
   "source": [
    "def b(x, q):\n",
    "    p = binom.pmf(x, 5, 0.5+0.25*q, loc=0)\n",
    "    return p\n",
    "    \n",
    "def Yt(q):\n",
    "    return binom.rvs(5, 0.5+0.25*q)\n",
    "\n",
    "def run_hmm():\n",
    "    starting_state = np.random.choice(Q,p=pi0)\n",
    "    prev_state = starting_state\n",
    "    xt = [prev_state]\n",
    "    yt = [Yt(prev_state)]\n",
    "    #print(xt,yt)\n",
    "    for t in range(1,T):\n",
    "        next_state = np.random.choice(Q, p=A[xt[t-1]+1,:])\n",
    "        xt.append(next_state)\n",
    "        yt.append(Yt(next_state)) \n",
    "    return {'xt': xt, 'yt': yt}\n",
    "\n"
   ]
  },
  {
   "cell_type": "code",
   "execution_count": 24,
   "metadata": {
    "collapsed": false
   },
   "outputs": [
    {
     "data": {
      "text/plain": [
       "<matplotlib.text.Text at 0x7f4698adbc90>"
      ]
     },
     "execution_count": 24,
     "metadata": {},
     "output_type": "execute_result"
    },
    {
     "data": {
      "image/png": "[encoded data removed]",
      "text/plain": [
       "<matplotlib.figure.Figure at 0x7f46c89ca950>"
      ]
     },
     "metadata": {},
     "output_type": "display_data"
    }
   ],
   "source": [
    "np.random.seed(100)\n",
    "for i in range(0,6):\n",
    "    d = run_hmm()\n",
    "    xt = d['xt']\n",
    "    yt = d['yt']\n",
    "    plt.scatter(xt, yt, color=colors[i])\n",
    "plt.title('Y v/s X')\n",
    "plt.xlabel('x')\n",
    "plt.ylabel('y')"
   ]
  },
  {
   "cell_type": "code",
   "execution_count": 25,
   "metadata": {
    "collapsed": false
   },
   "outputs": [
    {
     "data": {
      "image/png": "[encoded data removed]",
      "text/plain": [
       "<matplotlib.figure.Figure at 0x7f4698a2a790>"
      ]
     },
     "metadata": {},
     "output_type": "display_data"
    }
   ],
   "source": [
    "fig = plt.figure()\n",
    "np.random.seed(100)\n",
    "for i in range(0,6):\n",
    "    d = run_hmm()\n",
    "    ax = fig.add_subplot(3,2,i+1)\n",
    "    xt = d['xt']\n",
    "    yt = d['yt']\n",
    "    xtp, delta = viterbi(yt)\n",
    "    plt.scatter(xtp, xt, color=colors[i])\n",
    "    plt.title('Run {}'.format(i+1))\n",
    "    plt.xlabel(\"x'\")\n",
    "    plt.ylabel('x')"
   ]
  },
  {
   "cell_type": "markdown",
   "metadata": {},
   "source": [
    "\\begin{eqnarray*}\n",
    "\\alpha_0(i) = \\pi_ib_i(O_0)\\ \\forall \\ i = \\{-1,0,1\\}\\\\\n",
    "\\log(\\alpha_0(i)) = \\log(\\pi_ib_i(O_0))\\ \\forall \\ i = \\{-1,0,1\\}\\\\\n",
    "\\end{eqnarray*}\n",
    "\n",
    "Now consider\n",
    "\\begin{eqnarray*}\n",
    "\\alpha_t(i) = \\big[\\sum_{j=0}^{N-1} \\alpha_{t-1}(j)a_{ji} \\big] b_i(O_t) \\forall \\ i  = \\{-1,0,1\\}\\\\\n",
    "\\log(\\alpha_t(i)) = \\log(b_i(O_t)) + \\log(\\sum_{j=0}^{N-1} \\alpha_{t-1}(j)a_{ji}) \\ i  = \\{-1,0,1\\}\\\\\n",
    "\\end{eqnarray*}\n",
    "\n",
    "We make use of this property:\n",
    "\n",
    "$\\log(a+b) = \\log(e^{\\log(a)+\\log(b)})$\n",
    "\n",
    "To obtain in log space:\n",
    "$$\n",
    "\\log(\\alpha_t(i)) = \\log(b_i(O_t)) + \\log(\\sum_{j=0}^{N-1} e^{\\log(\\alpha_{t-1}(j)) +\\log(a_{ji})} ) \\ i  = \\{-1,0,1\\}\\\\\n",
    "$$\n",
    "\n",
    "If we define $\\alpha'_t(i) = \\log(\\alpha_t(i))$\n",
    "then,\n",
    "\n",
    "\n",
    "$$\n",
    " \\alpha'_t(i) = \\log(b_i(O_t)) + \\log(\\sum_{j=0}^{N-1} e^{\\alpha'_{t-1}(j) +\\log(a_{ji})} ) \\ i  = \\{-1,0,1\\}\\\\\n",
    "$$\n"
   ]
  },
  {
   "cell_type": "code",
   "execution_count": 55,
   "metadata": {
    "collapsed": false
   },
   "outputs": [],
   "source": [
    "def alpha_pass():\n",
    "    alpha = [{} for t in range(0,T)]\n",
    "    for i in Q:\n",
    "        alpha[0][i] = log(pi0[i+1]) + log(b(yt[0],i))\n",
    "    for t in range(1,T):\n",
    "        for i in Q:\n",
    "            #print(log(np.sum(np.exp([alpha[t-1][j] + log(A[j+1,i+1]) for j in Q]) )))\n",
    "            #print((np.exp([alpha[t-1][j] + log(A[j+1,i+1]) for j in Q]) ))\n",
    "            alpha[t][i] = log(b(yt[t], i))\n",
    "            s= 0\n",
    "            for j in Q:\n",
    "                #print np.exp(alpha[t-1][j] + log(A[j+1,i+1]))\n",
    "                #np.sum(np.exp([alpha[t-1][j] + log(A[j+1,i+1]) for j in Q]) )\n",
    "                s += np.exp(alpha[t-1][j] + log(A[j+1,i+1]))\n",
    "            if s < 10e-20:\n",
    "                s = 10e-20\n",
    "            alpha[t][i] += log(s)\n",
    "    return alpha\n",
    "\n",
    "\n",
    "def beta_pass():\n",
    "    beta = [{} for t in range(0,T)]\n",
    "    for i in Q:\n",
    "        beta[T-1][i] = 10e-100\n",
    "    for t in range(T-2,-1,-1):\n",
    "        for i in Q:\n",
    "            s = 0\n",
    "            for j in Q:\n",
    "                s += log(A[i+1,j+1]) + log(b(yt[t+1], j)) + log(beta[t+1][j])\n",
    "            if s<10e-100:\n",
    "                s=10e-100\n",
    "            beta[t][i] = exp(s)\n",
    "    \n",
    "    return beta\n",
    "\n",
    "alpha = alpha_pass()    \n",
    "beta = beta_pass()\n",
    "denominator = sum([alpha[T-1][i]*beta[T-1][i] for i in Q])\n",
    "\n",
    "posterior = []\n",
    "posterior\n",
    "\n",
    "## Part *b()\n",
    "def POL(alpha):\n",
    "    at = alpha[T-1]\n",
    "    po = np.sum(np.exp(POL.values()))\n",
    "    return po\n",
    "\n",
    "## Part (c)\n",
    "def gamma_pass(alpha, beta):\n",
    "    pol = POL(alpha)\n",
    "    gamma = [{i: a[i]*b[i]} for a,b in zip(alpha,beta) for i in Q]\n",
    "    return gamma\n",
    "\n",
    "## Part (d)\n",
    "\n",
    "def viterbi(yt):\n",
    "    delta = [{} for t in range(0,T)]\n",
    "    path = {}\n",
    "    for q in Q:\n",
    "        delta[0][q] = log(pi0[q+1])+(b(yt[0],q)) \n",
    "        path[q] = [q]\n",
    "    #print path\n",
    "    for t in range(1,T):\n",
    "        tempath = {}\n",
    "        for q in Q:\n",
    "            (Z, state) =  max(( delta[t-1][x] + b(yt[t],q) + log(A[x+1,q+1]),x) for x in Q)\n",
    "            delta[t][q] = Z\n",
    "            #print(q,state)\n",
    "            tempath[q] = path[state]+[q]\n",
    "        path = tempath\n",
    "        #print path\n",
    "    #print(delta)\n",
    "    (p, state) = max((delta[T-1][q], q) for q in Q)\n",
    "    #print(p)\n",
    "    return path[state],delta\n",
    "\n",
    "\n",
    "## Part (e)\n",
    "\n",
    "def estimateAB()"
   ]
  },
  {
   "cell_type": "code",
   "execution_count": 67,
   "metadata": {
    "collapsed": false
   },
   "outputs": [],
   "source": []
  },
  {
   "cell_type": "code",
   "execution_count": 70,
   "metadata": {
    "collapsed": false
   },
   "outputs": [],
   "source": [
    "beta = {}\n",
    "beta[i] = {i:1 for i in states}"
   ]
  },
  {
   "cell_type": "code",
   "execution_count": null,
   "metadata": {
    "collapsed": true
   },
   "outputs": [],
   "source": []
  }
 ],
 "metadata": {
  "kernelspec": {
   "display_name": "Python 2",
   "language": "python",
   "name": "python2"
  },
  "language_info": {
   "codemirror_mode": {
    "name": "ipython",
    "version": 2
   },
   "file_extension": ".py",
   "mimetype": "text/x-python",
   "name": "python",
   "nbconvert_exporter": "python",
   "pygments_lexer": "ipython2",
   "version": "2.7.11"
  }
 },
 "nbformat": 4,
 "nbformat_minor": 0
}
