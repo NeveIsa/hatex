{
 "cells": [
  {
   "cell_type": "markdown",
   "metadata": {},
   "source": [
    "## Problem 1\n"
   ]
  },
  {
   "cell_type": "markdown",
   "metadata": {
    "collapsed": true
   },
   "source": [
    "![mc](mc.png)\n",
    "\n",
    "The transition matrix is given by:\n",
    "$$\n",
    "\\begin{bmatrix}\n",
    "1-\\alpha & \\alpha\\\\\n",
    "\\beta & 1-\\beta\n",
    "\\end{bmatrix}\n",
    "$$\n",
    "\n",
    "### Part (a)\n",
    "\n",
    "$\\eta = min(n>0, X_n=1)$ given $X_0=0$\n",
    "\n",
    "*To Prove* $\\eta \\sim Geom(\\alpha)$\n",
    "\n",
    "\n",
    "$\\eta = P(X_0=0,X_1=0, \\dots X_{n-1}=1, X_n=1)$\n",
    "\n",
    "Using the Markov property this can be written as:\n",
    "\n",
    "$$\n",
    "\\eta = P(X_0=0)P(X_1=0|X_0=0)P(X_2=0|X_1=0)P(X_3=0|X_2=0) \\dots P(X_{n-1}=0|X_{n-2}=0)P(X_{n}=1|X_{n-1}=0)\n",
    "$$\n",
    "\n",
    "And being time-homogenous, this simplifies to:\n",
    "\n",
    "$$\n",
    "\\eta = P(X_0=0)\\big(P(X_1=0|X_0)\\big)^{n-1}\\times P(X_1=1|X_0=0)\n",
    "$$\n",
    "\n",
    "$\\implies$ \n",
    "\n",
    "$$\n",
    "\\eta = P(X_0=0)\\big(1-\\alpha)^{n-1}\\alpha = \\big(1-\\alpha)^{n-1}\\alpha\n",
    "$$\n",
    "\n",
    "And hence $\\eta \\sim Geom(\\alpha)$\n",
    "\n",
    "\n",
    "### Part (b)\n",
    "\n",
    "Spectral decomposition of $P$ and value for $P(X_n=1|X_0=0)$\n",
    "\n",
    "Spectral decomposition of $P$:\n",
    "\n",
    "$$\n",
    "det\\begin{bmatrix}\n",
    "\\alpha-\\lambda & 1-\\alpha\\\\\n",
    "1-\\beta & \\beta-\\lambda\n",
    "\\end{bmatrix} = 0\n",
    "$$\n",
    "\n",
    "$$\n",
    "\\lambda^2 +(\\alpha + \\beta-2) \\lambda + (1-\\alpha -\\beta) = 0\n",
    "$$\n",
    "\n",
    "Thus, $\\lambda_1 = 1$ and $\\lambda_2 = 1-\\alpha-\\beta$\n",
    "\n",
    "Eigenvectors are given by:\n",
    "\n",
    "$v_1^T = \\big( x_1\\ x_1 \\big)\\ \\forall\\ x_1 \\in R$\n",
    "\n",
    "and for $\\lambda_2$ , $v_2 = \\big( x_1\\ \\frac{-\\beta x_1}{\\alpha} \\big)$\n",
    "\n",
    "Now using Markov property: $P(X_n=1|X_0=0) = (P^n)_{01}$\n",
    "\n",
    "Now, \n",
    "\n",
    "$P^n = VD^nV^{-1}$\n",
    "\n",
    "where:\n",
    "$$\n",
    "V = \\begin{bmatrix}\n",
    "1 & 1\\\\\n",
    "1 & \\frac{-\\beta}{\\alpha}\n",
    "\\end{bmatrix}\n",
    "$$\n",
    "\n",
    "and \n",
    "\n",
    "$$\n",
    "D = \\begin{bmatrix}\n",
    "1 & 0 \\\\\n",
    "0 & (1-\\alpha-\\beta)\n",
    "\\end{bmatrix}\n",
    "$$\n",
    "\n",
    "$$\n",
    "V^{-1} = \\frac{-1}{\\frac{\\beta}{\\alpha}+1}\\begin{bmatrix}\n",
    "-\\frac{\\beta}{\\alpha} & -1 \\\\\n",
    "-1 & 1\n",
    "\\end{bmatrix}\n",
    "$$\n",
    "\n",
    "Thus,\n",
    "\n",
    "$$\n",
    "P^n = \\begin{bmatrix}\n",
    "1 & 1\\\\\n",
    "1 & \\frac{-\\beta}{\\alpha}\n",
    "\\end{bmatrix} \\times \\begin{bmatrix}\n",
    "1 & 0 \\\\\n",
    "0 & (1-\\alpha-\\beta)^n\n",
    "\\end{bmatrix} \\times \\frac{-1}{\\frac{\\beta}{\\alpha}+1}\\begin{bmatrix}\n",
    "-\\frac{\\beta}{\\alpha} & -1 \\\\\n",
    "-1 & 1\n",
    "\\end{bmatrix}\n",
    "$$\n",
    "\n",
    "$$\n",
    "P^n = \\frac{1}{\\alpha+\\beta} \\begin{bmatrix}\n",
    "\\beta + \\alpha(1-\\alpha-\\beta)^n & \\alpha-\\alpha(1-\\alpha-\\beta)^n\\\\\n",
    "\\beta - \\beta(1-\\alpha-\\beta)^n & \\alpha + \\beta(1-\\alpha-\\beta)^n\n",
    "\\end{bmatrix}\n",
    "$$\n",
    "\n",
    "## Part (c)\n",
    "\n",
    "When $\\alpha+\\beta=1$, the eigen values are $\\lambda_1=1$ and $\\lambda_2=0$ and hence\n",
    "\n",
    "$$\n",
    "P^n = \\begin{bmatrix}\n",
    "\\beta & \\alpha \\\\\n",
    "\\beta & \\alpha\n",
    "\\end{bmatrix}\n",
    "$$\n",
    "\n",
    "*Check:*\n",
    "\n",
    "\n",
    "Also consider the following identifiy: $P^{n+1}=PP^n$\n",
    "\n",
    "then:\n",
    "\n",
    "$$\n",
    "\\begin{bmatrix}\n",
    "p_{00}^{n+1} & p_{01}^{n+1}\\\\\n",
    "p_{10}^{n+1} & p_{11}^{n+1}\\\\\n",
    "\\end{bmatrix} = \\begin{bmatrix} \n",
    "p_{00}^n & p_{01}^n\\\\\n",
    "p_{10}^n & p_{11}^n\n",
    "\\end{bmatrix} \\times \\begin{bmatrix}\n",
    "1-\\alpha & \\alpha\\\\\n",
    "\\beta & 1-\\beta\n",
    "\\end{bmatrix}\n",
    "$$\n",
    "\n",
    "$\\implies$\n",
    "\n",
    "$$\n",
    "\\begin{align}\n",
    "p_{11}^{n+1} &= p_{10}^n(\\alpha) + p_{11}^n(1-\\beta)\\\\\n",
    " &= (1-p_{11}^n)(\\alpha) +(p_{11}^n)(1-\\beta)\\\\\n",
    " &= \\alpha + (1-\\alpha-\\beta)p_{11}^n\n",
    "\\end{align}\n",
    "$$\n",
    "\n",
    "Consider the recurrence:\n",
    "\n",
    "$$\n",
    "x_{n+1} = \\alpha+(1-\\alpha-\\beta)x_n\n",
    "$$\n",
    "\n",
    "Constant solution $x_n=x_{n+1}=x$ is given by: $x=\\frac{\\alpha}{\\alpha+\\beta}$\n",
    "\n",
    "Now let $y_n = x_n-x=x_n-\\frac{\\alpha}{\\alpha+\\beta}$ then,\n",
    "\n",
    "$y_{n+1} = (1-\\alpha-\\beta)y_n$ and hence $y_n=(1-\\alpha-\\beta)^n y_0$\n",
    "\n",
    "Thus,\n",
    "$$p_{11}^{n} = (1-\\alpha-\\beta)^np_{11}^0 +\\frac{\\alpha}{\\alpha+\\beta}$$\n",
    "\n",
    "Given $P_{00}=\\frac{\\beta}{\\alpha+\\beta}$ and $\\alpha+\\beta=1$ and hence:\n",
    "\n",
    "$p_{11}^n = \\frac{\\alpha}{\\alpha+\\beta} = \\alpha$\n",
    "\n",
    "and hence, $p_{10}^n = \\beta$\n",
    "\n",
    "Similary,\n",
    "\n",
    "$p_{00}^n = \\beta$ and $p_{01}^n = \\alpha$\n"
   ]
  },
  {
   "cell_type": "markdown",
   "metadata": {
    "collapsed": true
   },
   "source": [
    "## Problem 2\n",
    "\n",
    "$P(X_1=0) \\frac{\\beta}{\\alpha+\\beta}$ and hence $P(X_1=1) = \\frac{\\alpha}{\\alpha+\\beta}$\n",
    "\n",
    "$X=X_1X_2\\dots X_n$ and $Y=Y_1Y_2\\dots Y_n$ representes the reverse string $Y_k=X_{n+k-1}$\n",
    "\n",
    "\n",
    "### Part (a)\n",
    "\n",
    "Given string of digits: $a_1,a_2,a_3 \\dots a_n $ to find: $P(Y_1=a_1,Y_2=a_2,Y_3=a_3\\dots Y_n=a_n)$\n",
    "\n",
    "$$\n",
    "\\begin{align}\n",
    "P(Y_1=a_1,Y_2=a_2,Y_3=a_3\\dots Y_n=a_n) &= P(X_1=a_n,X_2=a_{n-1}, \\dots X_n=a_1) \\\\\n",
    "&= P(X_1=a_n)P(X_2=a_{n-1}|X_1=a_n)P(X_3=a_{n-2}|X_2=a_{n-1})\\dots P(X_n=a_1|X_{n-1}=a_2) \\\\\n",
    "&= P(X_1=a_n)(P_{a_n a_{n-1}})(P_{a_{n-1} a_{n-2}}) \\dots (P_{a_2 a_1})\n",
    "\\end{align}\n",
    "$$\n",
    "\n",
    "The problem asked about not using spectral decomposition, but I was not sure how spectral decomposition would have come in handy if the states $a_i$ are not specified explicitly.\n",
    "\n",
    "\n",
    "\n",
    "### Part (b)\n",
    "\n",
    "$$\n",
    "z=\\begin{cases}\n",
    "X & if \\theta = H\\\\\n",
    "Y & otherwise\n",
    "\\end{cases}\n",
    "$$\n",
    "\n",
    "Given function f such that, $f :\\{0,1\\}^n \\longrightarrow \\{H,T\\}$\n",
    "To show: $P(f(Z)=\\theta)=0.5$\n",
    "\n",
    "$P(\\theta=H) = P(\\theta=T) = 0.5$\n",
    "\n",
    "Given Z, guess $\\theta$: \n",
    "\n",
    "$P(\\theta=H|Z=X) = \\frac{P(\\theta=H, Z=X)}{P(Z=X)}$\n",
    "\n",
    "Z, has only two possible values: $H$ and $T$ and hence assuming the guess function is unbiased:\n",
    "\n",
    "$P(f(Z)=H) = P(f(Z)=T)=0.5$\n"
   ]
  },
  {
   "cell_type": "markdown",
   "metadata": {
    "collapsed": true
   },
   "source": [
    "## Problem 3\n",
    "\n",
    "$$\n",
    "\\tau = min\\{ n \\geq 0: X_n=\\dagger\\}\n",
    "$$\n",
    "\n",
    "$$\n",
    "E[\\tau] = E_a[E_a[\\tau|X_n=a]\\ where\\ a \\in \\{\\phi, \\alpha, \\beta, \\alpha+\\beta, pol, \\dagger\\}\n",
    "$$\n",
    "\n",
    "Let $S=\\{\\phi, \\alpha, \\beta, \\alpha+\\beta, pol, \\dagger\\}$\n",
    "\n",
    "\n",
    "Consider for $a\\neq \\dagger$:\n",
    "$$\n",
    "h(a) = E[\\tau|X_0=a] = \\sum_{s \\in S}P_{as} \\times (1) + P_{as}\\times E[\\tau|X_0=s) \n",
    "$$\n",
    "\n",
    "$\\implies$ \n",
    "\n",
    "$$\n",
    "h(a) = ((I-P_{-})^{-1})_a\n",
    "$$\n",
    "\n",
    "where $P_{-}$ represents the matrix with the row and column representng $X_i=\\dagger$ removed.\n",
    "\n",
    "\n"
   ]
  },
  {
   "cell_type": "code",
   "execution_count": 1,
   "metadata": {
    "collapsed": false
   },
   "outputs": [
    {
     "name": "stdout",
     "output_type": "stream",
     "text": [
      "[[ 0.6  0.2  0.2  0.   0.   0. ]\n",
      " [ 0.2  0.6  0.   0.2  0.   0. ]\n",
      " [ 0.2  0.   0.6  0.2  0.   0. ]\n",
      " [ 0.   0.2  0.2  0.1  0.5  0. ]\n",
      " [ 0.   0.   0.   0.   0.   1. ]\n",
      " [ 0.   0.   0.   1.   0.   0. ]]\n"
     ]
    }
   ],
   "source": [
    "%matplotlib inline\n",
    "from __future__ import division\n",
    "import numpy as np\n",
    "from numpy import linalg as LA\n",
    "k_a=0.2\n",
    "k_b=0.2\n",
    "k_p = 0.5\n",
    "P = np.matrix([[1-k_a-k_b, k_a ,k_b, 0, 0, 0],\n",
    "               [k_a, 1-k_a-k_b, 0, k_b, 0, 0],\n",
    "               [k_b, 0, 1-k_a-k_b, k_a, 0, 0],\n",
    "               [0, k_b, k_a, 1-k_a-k_b-k_p, k_p, 0],\n",
    "               [0, 0, 0, 0, 0, 1],\n",
    "               [0, 0, 0, 1, 0, 0]])\n",
    "q = [[k_a-k_b,k_a,k_b,0,0],\n",
    "     [k_a,k_a+k_b,0,k_b,0],\n",
    "     [k_b,0,k_a+k_b,0,0],\n",
    "     [0,k_b,k_a,k_a+k_b+k_p,k_p],\n",
    "     [0,0,0,0,0]]\n",
    "qq = np.array(q)\n",
    "\n",
    "print(P)\n",
    "states = ['phi', 'alpha', 'beta', 'ab', 'pol', 'd']\n"
   ]
  },
  {
   "cell_type": "code",
   "execution_count": 2,
   "metadata": {
    "collapsed": false
   },
   "outputs": [],
   "source": [
    "import networkx as nx\n",
    "\n",
    "G=nx.from_numpy_matrix(P,create_using=nx.MultiDiGraph())\n",
    "G.edges(data=True)\n",
    "#nx.draw_graphviz(G)# labels=states)\n",
    "nx.write_dot(G,'G.dot')"
   ]
  },
  {
   "cell_type": "code",
   "execution_count": 3,
   "metadata": {
    "collapsed": false
   },
   "outputs": [],
   "source": [
    "!neato -T png G.dot > multi.png"
   ]
  },
  {
   "cell_type": "markdown",
   "metadata": {},
   "source": [
    "![alt](multi.png)"
   ]
  },
  {
   "cell_type": "markdown",
   "metadata": {},
   "source": [
    "The markov chain seems to be irreducible\n",
    "One way to obtain the stationary state is to look at the eigen vectors correspendoing to the eigen value of 1. However, the eigen vectors come out to be imaginary. This seemed to be an issue wwith the solver so I relied on solving the system of equation: $\\pi = P\\pi$"
   ]
  },
  {
   "cell_type": "code",
   "execution_count": 5,
   "metadata": {
    "collapsed": false
   },
   "outputs": [
    {
     "name": "stdout",
     "output_type": "stream",
     "text": [
      "Eigen value: (-0.382094716832+0.673687371073j)\n",
      " Eigen vector: [[ 0.01610056-0.01846064j]\n",
      " [-0.00843895+0.07244209j]\n",
      " [-0.00843895+0.07244209j]\n",
      " [-0.21867795-0.36569039j]\n",
      " [ 0.71032012+0.j        ]\n",
      " [-0.27140957+0.4785337j ]]\n",
      "\n",
      "Eigen value: (-0.382094716832-0.673687371073j)\n",
      " Eigen vector: [[ 0.01610056+0.01846064j]\n",
      " [-0.00843895-0.07244209j]\n",
      " [-0.00843895-0.07244209j]\n",
      " [-0.21867795+0.36569039j]\n",
      " [ 0.71032012-0.j        ]\n",
      " [-0.27140957-0.4785337j ]]\n",
      "\n",
      "Eigen value: (1+0j)\n",
      " Eigen vector: [[ 0.40824829+0.j]\n",
      " [ 0.40824829+0.j]\n",
      " [ 0.40824829+0.j]\n",
      " [ 0.40824829+0.j]\n",
      " [ 0.40824829+0.j]\n",
      " [ 0.40824829+0.j]]\n",
      "\n",
      "Eigen value: (0.755104836853+0j)\n",
      " Eigen vector: [[-0.49079708+0.j]\n",
      " [-0.19031250+0.j]\n",
      " [-0.19031250+0.j]\n",
      " [ 0.34320513+0.j]\n",
      " [ 0.60192068+0.j]\n",
      " [ 0.45451322+0.j]]\n",
      "\n",
      "Eigen value: (0.309084596812+0j)\n",
      " Eigen vector: [[-0.63710764+0.j]\n",
      " [ 0.46336106+0.j]\n",
      " [ 0.46336106+0.j]\n",
      " [-0.03688671+0.j]\n",
      " [-0.38611374+0.j]\n",
      " [-0.11934181+0.j]]\n",
      "\n",
      "Eigen value: (0.6+0j)\n",
      " Eigen vector: [[  3.12250226e-17+0.j]\n",
      " [  7.07106781e-01+0.j]\n",
      " [ -7.07106781e-01+0.j]\n",
      " [ -3.12250226e-17+0.j]\n",
      " [ -8.67361738e-17+0.j]\n",
      " [ -5.20417043e-17+0.j]]\n",
      "\n"
     ]
    }
   ],
   "source": [
    "w, v = LA.eig(P)\n",
    "for i in range(0,6):\n",
    "    print 'Eigen value: {}\\n Eigen vector: {}\\n'.format(w[i],v[:,i])"
   ]
  },
  {
   "cell_type": "code",
   "execution_count": 6,
   "metadata": {
    "collapsed": false
   },
   "outputs": [],
   "source": [
    "## Solve for (I-Q)^{-1}\n",
    "iq = np.linalg.inv(np.eye(5)-qq)\n",
    "iq_phi = iq[0,0]\n",
    "iq_alpha = iq[1,1]\n",
    "iq_beta = iq[2,2]\n",
    "iq_alphabeta = iq[3,3]\n",
    "iq_pol = iq[4,4]\n"
   ]
  },
  {
   "cell_type": "markdown",
   "metadata": {},
   "source": [
    "EDIT: I made correction to solve for corrected $\\pi$, by acounting for $P^T$ and not $P$"
   ]
  },
  {
   "cell_type": "code",
   "execution_count": 7,
   "metadata": {
    "collapsed": false
   },
   "outputs": [
    {
     "name": "stdout",
     "output_type": "stream",
     "text": [
      "[ 0.2  0.2  0.2  0.2  0.1  0.1]\n"
     ]
    }
   ],
   "source": [
    "A = np.eye(6)-P.T\n",
    "A[-1,:] = [1,1,1,1,1,1]\n",
    "\n",
    "B = [0,0,0,0,0,1]\n",
    "X=np.linalg.solve(A,B)\n",
    "print(X)\n"
   ]
  },
  {
   "cell_type": "markdown",
   "metadata": {},
   "source": [
    "Stationary state is given by $\\pi = (0.1667, 0.1667, 0.1667, 0.1667, 0.1667, 0.1667)$ The mean number of visits per unit time to $\\dagger$ are $\\frac{1}{\\pi_6} = 6$ However strangely this does not satisfy $\\pi=P\\pi$. I was not able to figure out where I went wrong.\n",
    "\n",
    "EDIT: I made correction to solve for corrected $\\pi$, by acounting for $P^T$ and not $P$, so this no longer holds"
   ]
  },
  {
   "cell_type": "code",
   "execution_count": 8,
   "metadata": {
    "collapsed": false
   },
   "outputs": [
    {
     "name": "stdout",
     "output_type": "stream",
     "text": [
      "\\pi*P=[[ 0.2  0.2  0.2  0.2  0.1  0.1]]\n",
      "\n",
      "But \\pi=[ 0.2  0.2  0.2  0.2  0.1  0.1]\n"
     ]
    }
   ],
   "source": [
    "#EDIT: I made correction to solve for corrected $\\pi$, by acounting for $P^T$ and not $P$\n",
    "print('\\pi*P={}\\n'.format(X*P))\n",
    "print('But \\pi={}'.format(X)) "
   ]
  },
  {
   "cell_type": "markdown",
   "metadata": {},
   "source": [
    "\n",
    "\n",
    "Simulating the chain:\n",
    "\n",
    "General strategy: Generate a random number $\\longrightarrow$ Select a state $\\longrightarrow$ Jump to state $\\longrightarrow$ Repeat\n"
   ]
  },
  {
   "cell_type": "code",
   "execution_count": 9,
   "metadata": {
    "collapsed": false
   },
   "outputs": [],
   "source": [
    "## phi\n",
    "np.random.seed(1)"
   ]
  },
  {
   "cell_type": "code",
   "execution_count": 10,
   "metadata": {
    "collapsed": false
   },
   "outputs": [],
   "source": [
    "PP = {}\n",
    "PP['phi']= [1-k_a-k_b, k_a ,k_b, 0, 0, 0]\n",
    "PP['alpha'] = [k_a, 1-k_a-k_b, 0, k_b, 0, 0]\n",
    "PP['beta'] = [k_b, 0, 1-k_a-k_b, k_a, 0, 0]\n",
    "PP['ab']= [0, k_b, k_a, 1-k_a-k_b-k_p, k_p, 0]\n",
    "PP['pol']=  [0, 0, 0, 0, 0, 1]\n",
    "PP['d']= [0, 0, 0, 1, 0, 0]"
   ]
  },
  {
   "cell_type": "code",
   "execution_count": 11,
   "metadata": {
    "collapsed": false
   },
   "outputs": [],
   "source": [
    "##For $h(\\phi)$\n",
    "x0='phi'\n",
    "x='phi'\n",
    "def h(x):\n",
    "    s=0\n",
    "    new_state=x\n",
    "    for i in range(1,1000):\n",
    "        old_state=new_state\n",
    "        probs = PP[old_state]\n",
    "        z=np.random.choice(6, 1, p=probs)\n",
    "        new_state = states[z[0]]\n",
    "        #print('{} --> {}'.format(old_state, new_state))\n",
    "        s+=z[0]\n",
    "    return s/1000\n"
   ]
  },
  {
   "cell_type": "markdown",
   "metadata": {},
   "source": [
    "## Part (a,b,c)\n"
   ]
  },
  {
   "cell_type": "code",
   "execution_count": 12,
   "metadata": {
    "collapsed": false
   },
   "outputs": [
    {
     "name": "stdout",
     "output_type": "stream",
     "text": [
      "$h(\\phi)$: From simulation: 2.199; From calculation: 1.66666666667\n"
     ]
    }
   ],
   "source": [
    "print(r'$h(\\phi)$: From simulation: {}; From calculation: {}'.format(h('phi'),iq_phi))\n"
   ]
  },
  {
   "cell_type": "code",
   "execution_count": 13,
   "metadata": {
    "collapsed": false
   },
   "outputs": [
    {
     "name": "stdout",
     "output_type": "stream",
     "text": [
      "$h(\\alpha)$: From simulation: 2.364; From calculation: 7.77777777778\n"
     ]
    }
   ],
   "source": [
    "print(r'$h(\\alpha)$: From simulation: {}; From calculation: {}'.format(h('alpha'),iq_alpha))\n"
   ]
  },
  {
   "cell_type": "code",
   "execution_count": 14,
   "metadata": {
    "collapsed": false
   },
   "outputs": [
    {
     "name": "stdout",
     "output_type": "stream",
     "text": [
      "$h(\\beta)$: From simulation: 1.988; From calculation: 2.22222222222\n"
     ]
    }
   ],
   "source": [
    "print(r'$h(\\beta)$: From simulation: {}; From calculation: {}'.format(h('beta'),iq_beta))\n"
   ]
  },
  {
   "cell_type": "code",
   "execution_count": 15,
   "metadata": {
    "collapsed": false
   },
   "outputs": [
    {
     "name": "stdout",
     "output_type": "stream",
     "text": [
      "$h(\\alpha+\\beta)$: From simulation: 2.189; From calculation: 43.3333333333\n"
     ]
    }
   ],
   "source": [
    "print(r'$h(\\alpha+\\beta)$: From simulation: {}; From calculation: {}'.format(h('ab'),iq_alphabeta))\n"
   ]
  },
  {
   "cell_type": "code",
   "execution_count": 16,
   "metadata": {
    "collapsed": false
   },
   "outputs": [
    {
     "name": "stdout",
     "output_type": "stream",
     "text": [
      "$h(\\pol)$: From simulation: 2.031; From calculation: 1.0\n"
     ]
    }
   ],
   "source": [
    "print(r'$h(\\pol)$: From simulation: {}; From calculation: {}'.format(h('pol'),iq_pol))\n"
   ]
  },
  {
   "cell_type": "code",
   "execution_count": 17,
   "metadata": {
    "collapsed": false
   },
   "outputs": [
    {
     "name": "stdout",
     "output_type": "stream",
     "text": [
      "[[ 0.19999998  0.20000004  0.20000004  0.20000002  0.1000002   0.09999973]]\n"
     ]
    }
   ],
   "source": [
    "old_state = [0.1,0.2,0.3,0.4,0,0]\n",
    "\n",
    "def perturb(old_state):\n",
    "    new_state = old_state*P\n",
    "    return new_state\n",
    "new_state = [0,0,0,0,0,1]\n",
    "\n",
    "while not np.allclose(old_state, new_state):\n",
    "    old_state, new_state = new_state, perturb(old_state)\n",
    "    \n",
    "print old_state\n"
   ]
  },
  {
   "cell_type": "code",
   "execution_count": 19,
   "metadata": {
    "collapsed": false
   },
   "outputs": [
    {
     "name": "stdout",
     "output_type": "stream",
     "text": [
      "From calculation(which is NO LONGER wrong!), stationary distribution:[ 0.2  0.2  0.2  0.2  0.1  0.1]\n",
      "From simulation, stationary distribution: [[ 0.19999998  0.20000004  0.20000004  0.20000002  0.1000002   0.09999973]]\n"
     ]
    }
   ],
   "source": [
    "# EDIT: I made correction to solve for corrected $\\pi$, by acounting for $P^T$ and not $P$\n",
    "print('From calculation(which is NO LONGER wrong!), stationary distribution:{}'.format(X))\n",
    "\n",
    "print('From simulation, stationary distribution: {}'.format(old_state))"
   ]
  },
  {
   "cell_type": "code",
   "execution_count": null,
   "metadata": {
    "collapsed": true
   },
   "outputs": [],
   "source": []
  }
 ],
 "metadata": {
  "kernelspec": {
   "display_name": "Python 2",
   "language": "python",
   "name": "python2"
  },
  "language_info": {
   "codemirror_mode": {
    "name": "ipython",
    "version": 2
   },
   "file_extension": ".py",
   "mimetype": "text/x-python",
   "name": "python",
   "nbconvert_exporter": "python",
   "pygments_lexer": "ipython2",
   "version": "2.7.10"
  }
 },
 "nbformat": 4,
 "nbformat_minor": 0
}
