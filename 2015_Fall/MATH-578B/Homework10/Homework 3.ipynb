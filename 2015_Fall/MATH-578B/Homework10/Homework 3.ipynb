{
 "cells": [
  {
   "cell_type": "markdown",
   "metadata": {},
   "source": [
    "Let's look at the haplotypes:\n",
    "\n",
    "\n",
    "\\begin{tabular}{|c|c|c|c|}\n",
    "\\hline  & AB &  Ab & bb \\\\ \n",
    "\\hline AB & (AB,AB) &  (AB,Ab)  & (Ab,Ab)  \\\\ \n",
    "\\hline Ab & (AB,aB) &  (AB,bb);(Ab,aB) & (AB,aB) \\\\ \n",
    "\\hline bb & (aB,aB) &  (aB,bb)  & (bb,bb)  \\\\ \n",
    "\\hline \n",
    "\\end{tabular} \n",
    "\n",
    "\n",
    "Ambiguity in haplotypes occur whenever any of loci '1,2' is heterozygous or both are heterozygous.\n",
    "\n",
    "$n_{aB,aB}$ in this case gives rise to twp haplotype pairs: $(bb,AB);(aB,Ab)$\n",
    "\n",
    "We cannot directly determine the exact count from the genotype information. \n",
    "\n",
    "In otherwords the haplotype counts $n_{(bb/AB)}$ and $n_{(aB/Ab)}$ are  the missing data.\n",
    "\n",
    "Thus, missing data: $n_{AB/bb}$ and $n_{Ab/Ab}$.\n",
    "\n",
    "We assume there $N$ individuals and hence there are $2N$ haplotypes.\n",
    "\n",
    "\\textbf{Observed data: }$Y=(n_{ABAB},n_{bbAB},n_{bbbb},n_{ABAb},n_{bbAb},n_{Abbb}, n_{AbAb})$\n",
    "\n",
    "\\textbf{Missing Data}: $n_{AB/bb}$ and $n_{Ab/aB}$ \n",
    "\n",
    "\n",
    "We construct complete data as the haplotype counts:\n",
    "\n",
    "\\textbf{Complete Data:} $n_{AB}, n_{Ab}, n_{aB}, n_{bb}$\n",
    "\n",
    "\n",
    "Parameters: $\\theta= (p_{AB},p_{Ab},p_{aB},p_{bb})$\n",
    "\n",
    "\n",
    "and hence the Complete data likelihood is given by:\n",
    "\n",
    "\n",
    "$$\n",
    "g(n_{AB}, n_{Ab}, n_{aB}, n_{bb} | \\theta ) = \\frac{2N}{n_{AB}!n_{Ab}!n_{aB}!n_{bb}!} p_{AB}^{n_{AB}}p_{Ab}^{n_{Ab}}p_{aB}^{n_{aB}}p_{bb}^{n_{bb}}\n",
    "$$\n",
    "\n",
    "\n",
    "In the $E$ step. we perform ($m^{th}$ step):\n",
    "\\begin{eqnarray*}\n",
    "    \\hat{n_{AB}} = E[n_{AB} | Y, \\theta_m]\\\\\n",
    "    \\hat{n_{Ab}} = E[n_{Ab} | Y, \\theta_m]\\\\\n",
    "    \\hat{n_{aB}} = E[n_{aB} | Y, \\theta_m]\\\\\n",
    "    \\hat{n_{bb}} = E[n_{bb} | Y, \\theta_m]\\\\\n",
    "\\end{eqnarray*}\n",
    "\n",
    "\n",
    "where $\\theta_m=(p_{AB}^{(m)}, p_{Ab}^{(m)}, p_{aB}^{(m)}, p_{bb}^{(m)} )$\n",
    "\n",
    "\n",
    "Just consider $n_{AB}$ for now.\n",
    "\n",
    "\n",
    "\\begin{align*}\n",
    "n_{AB} &= E[n_{AB} | Y, \\theta_m]\\\\\n",
    "&= 2n_{ABAB} +  n_{ABaB} + n_{AbAB} + E[n_{AB/bb}|Y,\\theta_m]\n",
    "\\end{align*}\n",
    "where the last term comes because the $AB$ haplotype can also come \n",
    "from the ambiguos we highlighted in the table above $(bb,AB);(aB,Ab)$\n",
    "\n",
    "\n",
    "Now, we need to consider:\n",
    "\n",
    "\n",
    "\\begin{align*}\n",
    "E[n_{AB/bb}|Y,\\theta_m] &= n_{AbAb} P({AB/bb}|{Ab/aB},{AB/bb}) \\\\\n",
    "&= n_{AbAb} \\times ( \\frac{2p_{AB}p_{bb}}{2p_{AB}p_{bb}+2p_{Ab} p_{aB}})\n",
    "\\end{align*}\n",
    "\n",
    "\n",
    "Where the latter term comes out from the conditional probability \n",
    "of observing $Ab/aB$ haploltype given it is coming from  \n",
    "a heterozygous subpopulation at both A,B\n",
    "\n",
    "Thus, the $E$ step gives us:\n",
    "\n",
    "\\begin{align*}\n",
    "\\hat{n_{AB}} &= 2n_{ABAB} +  n_{ABaB} + n_{AbAB} + n_{AbAb} \\frac{p_{AB}p_{bb}}{p_{AB}p_{bb}+p_{Ab} p_{aB}}\\\\\n",
    "\\hat{n_{Ab}} &= 2n_{ABbb} + n_{ABAb} + n_{AbAB} + n_{AbAb}  \\frac{p_{Ab}p_{aB}}{p_{AB}p_{bb}+p_{Ab} p_{aB}}\\\\\n",
    "\\hat{n_{aB}} &= 2n_{bbAB} + n_{1AB0} + n_{bbAb} +  n_{AbAb}\\frac{p_{aB}p_{Ab}}{p_{AB}p_{bb}+p_{Ab} p_{aB}}\\\\\n",
    "\\hat{n_{bb}} &= 2n_{bbbb} + n_{1Ab0} + n_{bbaB} +  n_{AbAb}\\frac{p_{bb}p_{AB}}{p_{AB}p_{bb}+p_{Ab} p_{aB}}\n",
    "\\end{align*}"
   ]
  },
  {
   "cell_type": "code",
   "execution_count": 1,
   "metadata": {
    "collapsed": false
   },
   "outputs": [],
   "source": [
    "from __future__ import division\n",
    "from ipy_table import *\n",
    "\n",
    "locus1_alleles = ['a', 'A']\n",
    "locus2_alleles = ['b', 'B']\n",
    "\n",
    "locus1_genotypes = set([('').join(sorted(x+y)) for x in locus1_alleles for y in  locus1_alleles])\n",
    "locus2_genotypes = set([('').join(sorted(x+y)) for x in locus2_alleles for y in  locus2_alleles])\n",
    "locus1_genotypes = sorted(locus1_genotypes)\n",
    "locus2_genotypes = sorted(locus2_genotypes)"
   ]
  },
  {
   "cell_type": "code",
   "execution_count": 2,
   "metadata": {
    "collapsed": false
   },
   "outputs": [],
   "source": [
    "phenotypes = sorted(locus2_genotypes)\n",
    "phenotypes = [['Locus'] + phenotypes]\n",
    "for i, l1 in enumerate(locus1_genotypes):\n",
    "    phenotypes.append([locus1_genotypes[i]])\n",
    "    for j, l2 in enumerate(locus2_genotypes):\n",
    "        phenotype = list(set([('').join(sorted(x+y)) for x in l1 for y in l2]))\n",
    "        if len(phenotype)==1:\n",
    "            element = '{}/{}'.format(phenotype[0], phenotype[0])\n",
    "        elif len(phenotype)==2:\n",
    "            element = '{}/{}'.format(phenotype[0], phenotype[1])\n",
    "        else:\n",
    "            element = '{}/{}, {}/{}'.format(phenotype[0], phenotype[3], phenotype[1], phenotype[2])\n",
    "        phenotypes[i+1].append(element)                          "
   ]
  },
  {
   "cell_type": "code",
   "execution_count": 3,
   "metadata": {
    "collapsed": false
   },
   "outputs": [
    {
     "data": {
      "text/html": [
       "<table border=\"1\" cellpadding=\"3\" cellspacing=\"0\"  style=\"border:1px solid black;border-collapse:collapse;\"><tr><td  style=\"background-color:White;border-left: 1px solid transparent;border-top: 1px solid transparent;\"><b>Locus</b></td><td  style=\"background-color:LightGray;\"><b>BB</b></td><td  style=\"background-color:LightGray;\"><b>Bb</b></td><td  style=\"background-color:LightGray;\"><b>bb</b></td></tr><tr><td  style=\"background-color:LightGray;\"><b>AA</b></td><td  style=\"background-color:Ivory;\">AB/AB</td><td  style=\"background-color:Ivory;\">AB/Ab</td><td  style=\"background-color:Ivory;\">Ab/Ab</td></tr><tr><td  style=\"background-color:LightGray;\"><b>Aa</b></td><td  style=\"background-color:AliceBlue;\">AB/Ba</td><td  style=\"background-color:red;\">AB/Ab,&nbspab/Ba</td><td  style=\"background-color:AliceBlue;\">Ab/ab</td></tr><tr><td  style=\"background-color:LightGray;\"><b>aa</b></td><td  style=\"background-color:Ivory;\">Ba/Ba</td><td  style=\"background-color:Ivory;\">ab/Ba</td><td  style=\"background-color:Ivory;\">ab/ab</td></tr></table>"
      ],
      "text/plain": [
       "<ipy_table.IpyTable at 0x7f198a798090>"
      ]
     },
     "execution_count": 3,
     "metadata": {},
     "output_type": "execute_result"
    }
   ],
   "source": [
    "make_table(phenotypes)\n",
    "apply_theme('basic_both')\n",
    "set_cell_style(2, 2, color='red')"
   ]
  },
  {
   "cell_type": "code",
   "execution_count": 4,
   "metadata": {
    "collapsed": true
   },
   "outputs": [],
   "source": [
    "data = [[10,15,5], [10,50,13], [3,13,10]]\n",
    "total = sum([sum(i) for i in zip(*data)])"
   ]
  },
  {
   "cell_type": "code",
   "execution_count": 5,
   "metadata": {
    "collapsed": false
   },
   "outputs": [
    {
     "name": "stdout",
     "output_type": "stream",
     "text": [
      "Genotype table\n"
     ]
    },
    {
     "data": {
      "text/html": [
       "<table border=\"1\" cellpadding=\"3\" cellspacing=\"0\"  style=\"border:1px solid black;border-collapse:collapse;\"><tr><td>10</td><td>15</td><td>5</td></tr><tr><td>10</td><td>50</td><td>13</td></tr><tr><td>3</td><td>13</td><td>10</td></tr></table>"
      ],
      "text/plain": [
       "<ipy_table.IpyTable at 0x7f198a798f90>"
      ]
     },
     "execution_count": 5,
     "metadata": {},
     "output_type": "execute_result"
    }
   ],
   "source": [
    "print 'Genotype table'\n",
    "make_table(data)"
   ]
  },
  {
   "cell_type": "code",
   "execution_count": 6,
   "metadata": {
    "collapsed": false
   },
   "outputs": [
    {
     "data": {
      "text/plain": [
       "129"
      ]
     },
     "execution_count": 6,
     "metadata": {},
     "output_type": "execute_result"
    }
   ],
   "source": [
    "total"
   ]
  },
  {
   "cell_type": "code",
   "execution_count": 7,
   "metadata": {
    "collapsed": false
   },
   "outputs": [],
   "source": [
    "# Initialise x\n",
    "x = 10\n",
    "# Initialise x\n",
    "newx = 20\n",
    "\n",
    "counts = {}\n",
    "\n",
    "# Initialise genotypes\n",
    "for i, l1 in enumerate(locus1_genotypes):\n",
    "    for j, l2 in enumerate(locus2_genotypes):\n",
    "        counts[l1+l2] = data[i][j]\n",
    "\n",
    "# Initialise Probability           \n",
    "p = {'AB':1/6, 'Ab': 1/3, 'aB': 1/3, 'ab': 1/6}    "
   ]
  },
  {
   "cell_type": "code",
   "execution_count": 8,
   "metadata": {
    "collapsed": false
   },
   "outputs": [
    {
     "name": "stdout",
     "output_type": "stream",
     "text": [
      "Initial Probabilities:\n",
      "AB 0.166666666667\n",
      "ab 0.166666666667\n",
      "aB 0.333333333333\n",
      "Ab 0.333333333333\n"
     ]
    }
   ],
   "source": [
    "print 'Initial Probabilities:'\n",
    "for key in p.keys():\n",
    "    print key, p[key]"
   ]
  },
  {
   "cell_type": "code",
   "execution_count": 9,
   "metadata": {
    "collapsed": false
   },
   "outputs": [],
   "source": [
    "while abs(newx-x)>= 1e-6:\n",
    "    x = newx\n",
    "    newx = counts['AaBb'] * (p['AB']*p['ab']/(p['AB']*p['ab']+p['Ab']*p['aB']))\n",
    "    p['AB'] = (2*counts['AABB']+ counts['AABb'] + x)/(2*total)\n",
    "    p['Ab'] = (counts['AABb']+2*counts['AAbb']+counts['AaBb']-x)/(2*total)\n",
    "    p['aB'] = (counts['AaBB']+counts['AaBb']-x+2*counts['aaBB']+counts['Aabb'])/(2*total)\n",
    "    p['ab'] = (x+counts['aaBb']+counts['Aabb']+2*counts['aabb'])/(2*total)"
   ]
  },
  {
   "cell_type": "code",
   "execution_count": 10,
   "metadata": {
    "collapsed": false
   },
   "outputs": [
    {
     "data": {
      "text/plain": [
       "42.762664440703766"
      ]
     },
     "execution_count": 10,
     "metadata": {},
     "output_type": "execute_result"
    }
   ],
   "source": [
    "x"
   ]
  },
  {
   "cell_type": "code",
   "execution_count": 11,
   "metadata": {
    "collapsed": false
   },
   "outputs": [
    {
     "name": "stdout",
     "output_type": "stream",
     "text": [
      "Final probabilities\n",
      "AB 0.301405676127\n",
      "ab 0.344041335041\n",
      "aB 0.14045478899\n",
      "Ab 0.124950913021\n"
     ]
    }
   ],
   "source": [
    "print 'Final probabilities'\n",
    "for key in p.keys():\n",
    "    print key, p[key]"
   ]
  },
  {
   "cell_type": "markdown",
   "metadata": {},
   "source": [
    "Thus the final value of $x$ is: 42 where $x$ is the count of $AB/ab$ phenotypes."
   ]
  }
 ],
 "metadata": {
  "kernelspec": {
   "display_name": "Python 2",
   "language": "python",
   "name": "python2"
  },
  "language_info": {
   "codemirror_mode": {
    "name": "ipython",
    "version": 2
   },
   "file_extension": ".py",
   "mimetype": "text/x-python",
   "name": "python",
   "nbconvert_exporter": "python",
   "pygments_lexer": "ipython2",
   "version": "2.7.10"
  }
 },
 "nbformat": 4,
 "nbformat_minor": 0
}
