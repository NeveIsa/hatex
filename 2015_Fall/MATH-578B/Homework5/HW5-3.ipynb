{
 "cells": [
  {
   "cell_type": "code",
   "execution_count": 58,
   "metadata": {
    "collapsed": false
   },
   "outputs": [],
   "source": [
    "%matplotlib inline\n",
    "from __future__ import division\n",
    "import pandas as pd\n",
    "import matplotlib\n",
    "matplotlib.rcParams['figure.figsize'] = (16,12)\n",
    "import matplotlib.pyplot as plt\n",
    "import itertools\n",
    "import numpy as np\n",
    "\n",
    "\n",
    "def run():\n",
    "    N = 1000\n",
    "    N_iterations = 100\n",
    "    chrom_length = 3*(10**9)\n",
    "    transposon_length = 3*1000\n",
    "    mu = 0.05\n",
    "    t_positions = []\n",
    "\n",
    "    n_initial = np.random.random_integers(N-1)\n",
    "    x_initial = np.random.random_integers(chrom_length-1)\n",
    "\n",
    "    offspring_positions = []\n",
    "    all_positions = [[] for t in range(N)]\n",
    "    all_positions[n_initial].append(x_initial)\n",
    "    all_t_count =[]\n",
    "\n",
    "    for nn in range(N_iterations):\n",
    "        for i in range(N):\n",
    "            indicator = np.random.binomial(1,mu,len(all_positions[i]))\n",
    "            temp_indices = []\n",
    "            for ind, ind_value in enumerate(indicator):\n",
    "                if ind_value == 1:\n",
    "                    temp_indices.append(ind)\n",
    "\n",
    "            for j in temp_indices:\n",
    "                x_temp = np.random.random_integers(chrom_length-1)\n",
    "                all_positions[i][j] = x_temp\n",
    "                all_positions[i].append(np.random.random_integers(chrom_length-1))\n",
    "        offspring_positions = [[] for t in range(N)]\n",
    "        for j in range(N):\n",
    "            y,z = np.random.random_integers(0,N-1,2)\n",
    "            y_parent = np.random.binomial(1,0.5,len(all_positions[y]))\n",
    "            z_parent = np.random.binomial(1,0.5,len(all_positions[z]))\n",
    "            temp_y = []\n",
    "            temp_z = []\n",
    "            for index,value in enumerate(y_parent):\n",
    "                if value==1:\n",
    "                      temp_y.append(all_positions[y][index])\n",
    "            for index,value in enumerate(z_parent):\n",
    "                if value==1:\n",
    "                      temp_z.append(all_positions[z][index])\n",
    "            for t_y in temp_y:\n",
    "                offspring_positions[j].append(t_y)\n",
    "            for t_z in temp_z:\n",
    "                offspring_positions[j].append(t_z)\n",
    "        all_positions = offspring_positions\n",
    "        count_t = 0\n",
    "        count_x = []\n",
    "        for p in range(N):\n",
    "            count_t += len(all_positions[p])\n",
    "            count_x.append(all_positions[p])\n",
    "        survived_t = np.unique(count_x, return_counts=True)[1]\n",
    "        all_t_count.append((count_t, len(survived_t[survived_t>=N*mu])))\n",
    "    return all_t_count\n",
    "    \n",
    "    "
   ]
  },
  {
   "cell_type": "code",
   "execution_count": 59,
   "metadata": {
    "collapsed": false
   },
   "outputs": [
    {
     "data": {
      "text/plain": [
       "<matplotlib.text.Text at 0x7f24c7b788d0>"
      ]
     },
     "execution_count": 59,
     "metadata": {},
     "output_type": "execute_result"
    },
    {
     "data": {
      "image/png": "[encoded data removed]",
      "text/plain": [
       "<matplotlib.figure.Figure at 0x7f24c7b87490>"
      ]
     },
     "metadata": {},
     "output_type": "display_data"
    }
   ],
   "source": [
    "all_t_count = run()\n",
    "plt.plot([x[0] for x in all_t_count])\n",
    "plt.title('')\n"
   ]
  },
  {
   "cell_type": "code",
   "execution_count": null,
   "metadata": {
    "collapsed": true
   },
   "outputs": [],
   "source": []
  }
 ],
 "metadata": {
  "kernelspec": {
   "display_name": "Python 2",
   "language": "python",
   "name": "python2"
  },
  "language_info": {
   "codemirror_mode": {
    "name": "ipython",
    "version": 2
   },
   "file_extension": ".py",
   "mimetype": "text/x-python",
   "name": "python",
   "nbconvert_exporter": "python",
   "pygments_lexer": "ipython2",
   "version": "2.7.6"
  }
 },
 "nbformat": 4,
 "nbformat_minor": 0
}
