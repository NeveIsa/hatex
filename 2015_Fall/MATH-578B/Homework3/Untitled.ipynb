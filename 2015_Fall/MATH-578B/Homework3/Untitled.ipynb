{
 "cells": [
  {
   "cell_type": "markdown",
   "metadata": {},
   "source": [
    "We consider the polar corrdinates in which (by mapping theorem),  raindrops are a point process with $\\lambda r$ $drops/cm$\n",
    "~~\n",
    "$$\n",
    "\\begin{align}\n",
    "P[\\Lambda^1([0,r] \\times [0, 1] \\times R^2)=0] &=exp(-\\int_{0}^r \\int_{0}^{1} \\int_{R^2}\\lambda p(x,y)dxdydtdr)\\\\ &= exp(-\\lambda t 2\\pi \\int_0^r \\rho e^{-\\rho}d\\rho)\\\\\n",
    "&= exp(-\\lambda t 2\\pi(1-e^{-r}(r+1)))\\\\\n",
    "\\end{align}\n",
    "$$\n",
    "~~"
   ]
  }
 ],
 "metadata": {
  "kernelspec": {
   "display_name": "Python 2",
   "language": "python",
   "name": "python2"
  },
  "language_info": {
   "codemirror_mode": {
    "name": "ipython",
    "version": 2
   },
   "file_extension": ".py",
   "mimetype": "text/x-python",
   "name": "python",
   "nbconvert_exporter": "python",
   "pygments_lexer": "ipython2",
   "version": "2.7.10"
  }
 },
 "nbformat": 4,
 "nbformat_minor": 0
}
