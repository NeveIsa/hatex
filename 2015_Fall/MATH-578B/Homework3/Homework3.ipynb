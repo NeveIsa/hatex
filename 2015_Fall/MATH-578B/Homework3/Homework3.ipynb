{
 "cells": [
  {
   "cell_type": "markdown",
   "metadata": {},
   "source": [
    "## Problem 1\n",
    "\n",
    "Given: $\\Lambda$ is a poisson process on $\\mathbb{R}$. Each point $x_i$ in $\\Lambda$ underoges some \n",
    "markging process' resulting in $N=\\{(x_1,U_1), (x_2,U_2) \\dots (x_n, U_n)\\}$ where $U_i$ are iid generated from some process witg density $\\mu$\n",
    "\n",
    "This essentially is a generalisation of the Colouring theorem.\n",
    "Let the joint 'marked' distribution $\\Lambda'$ be denoted by: $f(x,y)$ where $x\\ \\in \\ \\Lambda$ and $y\\ \\in U$ \n",
    "and $(x,y) \\in \\Lambda'$ which is in $\\mathbb{R}^2$\n",
    "Consider $F = \\sum_{x_i\\ \\in\\ \\Lambda}f(x_i,y_i)$\n",
    "\n",
    "Fact 1: $\\Lambda' = \\{(X,U)|X\\in \\Lambda\\}$ is an independent process. (This is only true conditional on $X$)\n",
    "\n",
    "Thus, $E[e^{-sF}|X \\in \\Lambda] = \\Pi_{X_i \\in \\Lambda} f(X_i, U_i) = \\Pi_{X_i \\in \\Lambda}\\int_{U}e^{-sf(X_i,U_i)}p(X_i,U_i)dU_i$\n",
    "\n",
    "\n",
    "\n",
    "Fact 2: In any region $\\Lambda_i$, the number of points $N(\\Lambda_i) \\sim Poisson(\\mu_i)$ where $\\mu_i = \\int_{\\Lambda_i} \\mu(x)dx$ and hence, consider:\n",
    "\n",
    "$F = \\sum_{i=1}^k f(X_i) = \\sum_{i=1}f_iN_i^k$ being $k$ disjoint sets where $f$ is any measurable function. then \n",
    "\n",
    "$$\n",
    "\\begin{align}\n",
    "E[e^{sF}] &= \\Pi_{i=1}^k E[e^{sf_iN_i}]\\\\\n",
    "&= \\Pi(e^{\\lambda_i(e^{fs}-1)})\\ \\text{where} \\lambda_i = \\int_{A_i}\\lambda(x)dx\\\\\n",
    "&= e^{\\sum_{i=1}^k \\int(e^{fs}-1)\\lambda(x)dx}\\\\\n",
    "&= e^{\\sum_{i=1}^k \\int(e^{fs}-1)\\lambda(x)dx}\\\\\n",
    "&= e^{ \\int_{\\Lambda}(e^{fs}-1)\\lambda(x)dx}\\\\\n",
    "\\end{align}\n",
    "$$\n",
    "\n",
    "or $E[e^{-sF}] = exp(-\\int_{\\Lambda}(1-e^{fs})\\lambda(x)dx)$\n",
    "\n",
    "Now, consider $E[e^{-sF'}]$ where $F'$ is the sum of independent random variable $f(X_i, U_i)$\n",
    "Conditional on $\\Lambda$:\n",
    "\n",
    "$E[e^{-sF'}|\\Lambda] = \\Pi_{X_i\\in \\Lambda}E[e^{-sf(X_i,U_i)}]$\n",
    "\n",
    "Consider the measurable function $f'(x) = -log(\\int_U e^{-f(X,U)}p(X,U)du)$, then:\n",
    "\n",
    "[Couldn't take it further from here, but the idea should be to define $F^* = \\sum f(X,U)$. I was not able to come up with a generating function for this. The idea was to show that it has generating function that for a poisson]\n",
    "\n",
    "\n",
    "--------------------------------------------------------------------------------------------------------------------------------------------------------------------------------------------------------------------------------------\n",
    "**Aliter**\n",
    "\n",
    "\n",
    "*[Source Grimmett and Stirzker, 3rd Edition 6.13.5]*\n",
    "\n",
    "\n",
    "Consider $f: R \\longrightarrow R^2$ denoting the distribution of points in $\\Lambda'$\n",
    "then for any set $B\\subset R^2$, the number of points of f(\\Lambda') in B is given by $N_B = |\\Lambda'  \\cup f^{-1}B| \\sim Poisson(B)$\n",
    "Given project disjoint sets $B_i$ in $R^2$, there pre-images in $R$ are also disjoint and \n",
    "\n",
    "$\\Lambda(A) \\sim Poisson(\\int_A \\lambda(x)dx)$\n",
    "\n",
    "$\\Lambda'(B) \\sim \\Lambda(f^{-1}B) = Poisson(\\int_{f^{-1}B}\\lambda(x)dx) = Poisson(\\int_B \\lambda(x)dx\\mu(y)dy$\n"
   ]
  },
  {
   "cell_type": "markdown",
   "metadata": {},
   "source": [
    "## Problem 2"
   ]
  },
  {
   "cell_type": "markdown",
   "metadata": {},
   "source": [
    "Given Raindrops fall as a $PPP(\\lambda drops/cm^2)$ on $R^2 \\times [0, \\infty)$ and each drop scatters as in a radius of circle $r \\sim exp(1/cm)$. \n",
    "To find: Probability density of first drop touching the origin.\n",
    "\n",
    "$\\lambda=1$\n",
    "\n",
    "Define $U_i$ to be iid $Bernoulli(p(x_k,y_k)$ given by:\n",
    "$$\n",
    "U_k = \\begin{cases}\n",
    "1 & if \\sqrt{x_k^2+y_k^2} \\leq r_k\\\\\n",
    "0 & otherwise\n",
    "\\end{cases}\n",
    "$$\n",
    "\n",
    "By coloring theorem $\\implies$ $\\Lambda'=\\{(r_k,x_k,y_k\\}\\sim PPP(\\lambda p(x_k,y_k))$\n",
    "For the drop to splash the origin with radius '$r$':\n",
    "\n",
    "Consider\n",
    "$\\Lambda^1 = \\{(t_i,x_i,y_i,r_i) \\in \\Lambda: U_k=1\\}$\n",
    "$\\tau = min\\{t_k: (t_k,x_k,y_k,r_k) \\in \\Lambda'\\}$\n",
    "\n",
    "Consider $P(t < \\tau, R<r)$ = P[no points in $[0,r] \\times [0, t] \\times R^2$] = $P[\\Lambda^1([0,r] \\times [0, t] \\times R^2)=0]$ \n",
    "\n",
    "$P[\\Lambda^1([0,r] \\times [0, 1] \\times R^2)=0]=exp(-\\int_{0}^r \\int_{0}^{1} \\int_{R^2}\\lambda p(x,y)dxdydtdr) =exp(-\\lambda 2\\pi tr)$ \n",
    "\n",
    "Now, $P(R<r)=\\int P(t,R)dt = exp(-2\\pi\\lambda r)$\n",
    "\n",
    "Thus, $R \\sim exponential({2\\pi\\lambda})$\n",
    "\n",
    "$ER=\\int_0^{\\infty} re^{-2\\pi\\lambda r}dr=\\frac{1}{2\\pi} = 0.15$ \n"
   ]
  },
  {
   "cell_type": "code",
   "execution_count": 1,
   "metadata": {
    "collapsed": false
   },
   "outputs": [
    {
     "name": "stdout",
     "output_type": "stream",
     "text": [
      "Average radius: 2.02946448281\n"
     ]
    }
   ],
   "source": [
    "### Simulation\n",
    "%matplotlib inline\n",
    "from __future__ import division\n",
    "import numpy as np\n",
    "import matplotlib.pyplot as plt\n",
    "np.random.seed(1)\n",
    "import math\n",
    "N=1000\n",
    "s=0\n",
    "def R(x,y):\n",
    "    return math.sqrt(x*x+y*y)\n",
    "for i in range(N):\n",
    "    r=-100\n",
    "    y=0\n",
    "    x=0\n",
    "    while R(x,y)>r:\n",
    "        S=np.random.uniform(size=2)\n",
    "        x=S[0]\n",
    "        y=S[1]\n",
    "        r=np.random.exponential(1)\n",
    "        s+=r\n",
    "print 'Average radius: {}'.format(s/N)\n",
    "    "
   ]
  },
  {
   "cell_type": "markdown",
   "metadata": {},
   "source": [
    "The simulation results do not seem to be close to the expected results of 0.15"
   ]
  },
  {
   "cell_type": "markdown",
   "metadata": {},
   "source": [
    "## Problem 3"
   ]
  },
  {
   "cell_type": "markdown",
   "metadata": {},
   "source": [
    "## Part (a)\n",
    "\n",
    "In order to simulate the continuous time MC, we make use of the instantaneous rate matrix $Q$ given by:\n",
    "$Q=\\lambda(P-I)$ where $\\lambda=10^6$ The coninuous time MC is approximated to occur in discreted time steps of $10^{-6}$ seconds\n",
    "\n",
    "$Q_{aa}$ = Total jump rate out of state a\n",
    "\n",
    "$Q_{ab}$ = Jum rate from $a \\longrightarrow b$\n",
    "\n",
    "Due to the original transition matrix $P$ having extremely small entries, most of the time is spent in the same state. By approximating the holding time to be poisson, we arrive at the $(e^{tQ})_{ab}$ approximation for $P(Y_t=b|Y_0=a)$"
   ]
  },
  {
   "cell_type": "markdown",
   "metadata": {},
   "source": [
    "## Part (b)\n",
    "\n",
    "$\\tau_\\dagger = inf\\{t \\geq 0: Y_t=\\dagger\\}$ i.e $\\tag_\\dagger$ is the hitting time and $u(a) = E[\\tau_\\dagger|Y_0=a]$ defines the mean hitting time.\n",
    "\n",
    "$u(\\dagger)=0$\n",
    "\n",
    "For $a \\neq \\dagger$\n",
    "\n",
    "$u(a) = \\text{Hold time in state a} + \\sum_b \\text{(fractional jump rate from $a$ to $b$)} \\times u(b)$\n",
    "\n",
    "Alternatively:\n",
    "\n",
    "$u(a) = \\frac{1}{-Q_{aa}} + \\sum_{b \\neq a}(\\frac{Q_{ab}}{-Q_{aa}})u(b)$\n",
    " $\\implies$\n",
    " $-Q_{aa}u(a) = 1 + \\sum_{b \\neq a} Q_{ab}u(b)$ \n",
    " \n",
    " We thus solve for:\n",
    " \n",
    " $Q\\vec{u}=-\\vec{1}$"
   ]
  },
  {
   "cell_type": "code",
   "execution_count": 2,
   "metadata": {
    "collapsed": false
   },
   "outputs": [
    {
     "name": "stdout",
     "output_type": "stream",
     "text": [
      "[[ -4.   2.   2.   0.   0.   0.]\n",
      " [  2.  -4.   0.   2.   0.   0.]\n",
      " [  2.   0.  -4.   2.   0.   0.]\n",
      " [  0.   2.   2.  -9.   5.   0.]\n",
      " [  0.   0.   0.   0. -10.  10.]\n",
      " [  0.   0.   0.  10.   0. -10.]]\n"
     ]
    }
   ],
   "source": [
    "k_a=2e-6\n",
    "k_b=2e-6\n",
    "k_p=5e-6\n",
    "k_d=1e-5\n",
    "ll = 1e6\n",
    "P = np.matrix([[1-k_a-k_b, k_a ,k_b, 0, 0, 0],\n",
    "               [k_a, 1-k_a-k_b, 0, k_b, 0, 0],\n",
    "               [k_b, 0, 1-k_a-k_b, k_a, 0, 0],\n",
    "               [0, k_b, k_a, 1-k_a-k_b-k_p, k_p, 0],\n",
    "               [0, 0, 0, 0, 1-k_d, k_d],\n",
    "               [0, 0, 0, k_d, 0, 1-k_d]], dtype=np.float64)\n",
    "Q = ll*(P-np.eye(6))\n",
    "print(Q)"
   ]
  },
  {
   "cell_type": "code",
   "execution_count": 3,
   "metadata": {
    "collapsed": false
   },
   "outputs": [],
   "source": [
    "Qd= Q[:-1,:-1]\n",
    "Qi = np.linalg.pinv(Qd)\n",
    "u=(np.sum(Qi, axis=1)*-1) \n",
    "u=u.tolist()"
   ]
  },
  {
   "cell_type": "code",
   "execution_count": 4,
   "metadata": {
    "collapsed": false
   },
   "outputs": [],
   "source": [
    "def h(x):\n",
    "    s=0\n",
    "    ht=0\n",
    "    cc=0\n",
    "    for i in range(1,10000):\n",
    "        new_state=x\n",
    "        while new_state!=5:\n",
    "            old_state=new_state\n",
    "            probs = Q[old_state,:]/-Q[old_state,old_state]\n",
    "            probs=probs.tolist()[0]\n",
    "            probs[old_state]=0\n",
    "            qaa = np.random.exponential(-1/Q[old_state,old_state])\n",
    "            z=np.random.choice(6, 1, p=probs)\n",
    "            new_state = z[0] #states[z[0]]\n",
    "            s+=qaa\n",
    "    return s/10000\n",
    "            "
   ]
  },
  {
   "cell_type": "markdown",
   "metadata": {},
   "source": [
    "## Starting state $\\phi$"
   ]
  },
  {
   "cell_type": "code",
   "execution_count": 5,
   "metadata": {
    "collapsed": false
   },
   "outputs": [
    {
     "name": "stdout",
     "output_type": "stream",
     "text": [
      "From calculation: 1.90000000032\t From Simulation: 1.88676392061\n"
     ]
    }
   ],
   "source": [
    "print('From calculation: {}\\t From Simulation: {}'.format(u[0][0],h(0)))"
   ]
  },
  {
   "cell_type": "markdown",
   "metadata": {},
   "source": [
    "## Starting state $\\alpha$"
   ]
  },
  {
   "cell_type": "code",
   "execution_count": 6,
   "metadata": {
    "collapsed": false
   },
   "outputs": [
    {
     "name": "stdout",
     "output_type": "stream",
     "text": [
      "From calculation: 1.65000000026\t From Simulation: 1.64257724783\n"
     ]
    }
   ],
   "source": [
    "print('From calculation: {}\\t From Simulation: {}'.format(u[1][0],h(1)))"
   ]
  },
  {
   "cell_type": "markdown",
   "metadata": {},
   "source": [
    "## Starting state $\\beta$"
   ]
  },
  {
   "cell_type": "code",
   "execution_count": 7,
   "metadata": {
    "collapsed": false
   },
   "outputs": [
    {
     "name": "stdout",
     "output_type": "stream",
     "text": [
      "From calculation: 1.65000000026\t From Simulation: 1.65435248441\n"
     ]
    }
   ],
   "source": [
    "print('From calculation: {}\\t From Simulation: {}'.format(u[2][0],h(2)))"
   ]
  },
  {
   "cell_type": "markdown",
   "metadata": {},
   "source": [
    "## Starting state $\\alpha+\\beta$"
   ]
  },
  {
   "cell_type": "code",
   "execution_count": 8,
   "metadata": {
    "collapsed": false
   },
   "outputs": [
    {
     "name": "stdout",
     "output_type": "stream",
     "text": [
      "From calculation: 0.900000000125\t From Simulation: 0.898660503545\n"
     ]
    }
   ],
   "source": [
    "print('From calculation: {}\\t From Simulation: {}'.format(u[3][0],h(3)))"
   ]
  },
  {
   "cell_type": "markdown",
   "metadata": {},
   "source": [
    "## Starting state $pol$"
   ]
  },
  {
   "cell_type": "code",
   "execution_count": 9,
   "metadata": {
    "collapsed": false
   },
   "outputs": [
    {
     "name": "stdout",
     "output_type": "stream",
     "text": [
      "From calculation: 0.1\t From Simulation: 0.0986274216\n"
     ]
    }
   ],
   "source": [
    "print('From calculation: {}\\t From Simulation: {}'.format(u[4][0],h(4)))"
   ]
  }
 ],
 "metadata": {
  "kernelspec": {
   "display_name": "Python 2",
   "language": "python",
   "name": "python2"
  },
  "language_info": {
   "codemirror_mode": {
    "name": "ipython",
    "version": 2
   },
   "file_extension": ".py",
   "mimetype": "text/x-python",
   "name": "python",
   "nbconvert_exporter": "python",
   "pygments_lexer": "ipython2",
   "version": "2.7.10"
  }
 },
 "nbformat": 4,
 "nbformat_minor": 0
}
