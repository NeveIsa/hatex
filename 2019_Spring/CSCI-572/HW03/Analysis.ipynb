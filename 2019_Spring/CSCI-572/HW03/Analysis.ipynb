{
 "cells": [
  {
   "cell_type": "code",
   "execution_count": 2,
   "metadata": {},
   "outputs": [
    {
     "name": "stdout",
     "output_type": "stream",
     "text": [
      "Populating the interactive namespace from numpy and matplotlib\n"
     ]
    }
   ],
   "source": [
    "%pylab inline\n",
    "import pandas as pd\n",
    "import os"
   ]
  },
  {
   "cell_type": "code",
   "execution_count": 5,
   "metadata": {},
   "outputs": [],
   "source": [
    "full_path = '/home/cmb-panasas2/skchoudh/github_projects/hatex/2019_Spring/CSCI-572/HW03'"
   ]
  },
  {
   "cell_type": "code",
   "execution_count": 3,
   "metadata": {},
   "outputs": [],
   "source": [
    "words = ['architecture', 'technology', 'temperature', 'academics', 'concurrent', 'experiment', 'catalogue', 'hierarchy']"
   ]
  },
  {
   "cell_type": "code",
   "execution_count": 12,
   "metadata": {},
   "outputs": [
    {
     "name": "stdout",
     "output_type": "stream",
     "text": [
      "grep -w '^architecture' /home/cmb-panasas2/skchoudh/github_projects/hatex/2019_Spring/CSCI-572/HW03/fulldataoutput_18march_lowercase_v3_sorted.txt > /home/cmb-panasas2/skchoudh/github_projects/hatex/2019_Spring/CSCI-572/HW03/word_indexes/raw/architecture.txt\n",
      "grep -w '^technology' /home/cmb-panasas2/skchoudh/github_projects/hatex/2019_Spring/CSCI-572/HW03/fulldataoutput_18march_lowercase_v3_sorted.txt > /home/cmb-panasas2/skchoudh/github_projects/hatex/2019_Spring/CSCI-572/HW03/word_indexes/raw/technology.txt\n",
      "grep -w '^temperature' /home/cmb-panasas2/skchoudh/github_projects/hatex/2019_Spring/CSCI-572/HW03/fulldataoutput_18march_lowercase_v3_sorted.txt > /home/cmb-panasas2/skchoudh/github_projects/hatex/2019_Spring/CSCI-572/HW03/word_indexes/raw/temperature.txt\n",
      "grep -w '^academics' /home/cmb-panasas2/skchoudh/github_projects/hatex/2019_Spring/CSCI-572/HW03/fulldataoutput_18march_lowercase_v3_sorted.txt > /home/cmb-panasas2/skchoudh/github_projects/hatex/2019_Spring/CSCI-572/HW03/word_indexes/raw/academics.txt\n",
      "grep -w '^concurrent' /home/cmb-panasas2/skchoudh/github_projects/hatex/2019_Spring/CSCI-572/HW03/fulldataoutput_18march_lowercase_v3_sorted.txt > /home/cmb-panasas2/skchoudh/github_projects/hatex/2019_Spring/CSCI-572/HW03/word_indexes/raw/concurrent.txt\n",
      "grep -w '^experiment' /home/cmb-panasas2/skchoudh/github_projects/hatex/2019_Spring/CSCI-572/HW03/fulldataoutput_18march_lowercase_v3_sorted.txt > /home/cmb-panasas2/skchoudh/github_projects/hatex/2019_Spring/CSCI-572/HW03/word_indexes/raw/experiment.txt\n",
      "grep -w '^catalogue' /home/cmb-panasas2/skchoudh/github_projects/hatex/2019_Spring/CSCI-572/HW03/fulldataoutput_18march_lowercase_v3_sorted.txt > /home/cmb-panasas2/skchoudh/github_projects/hatex/2019_Spring/CSCI-572/HW03/word_indexes/raw/catalogue.txt\n",
      "grep -w '^hierarchy' /home/cmb-panasas2/skchoudh/github_projects/hatex/2019_Spring/CSCI-572/HW03/fulldataoutput_18march_lowercase_v3_sorted.txt > /home/cmb-panasas2/skchoudh/github_projects/hatex/2019_Spring/CSCI-572/HW03/word_indexes/raw/hierarchy.txt\n"
     ]
    }
   ],
   "source": [
    "for word in words:\n",
    "    cmd = \"grep -w '^{0}' {1}/fulldataoutput_18march_lowercase_v3_sorted.txt > {1}/word_indexes/raw/{0}.txt\".format(word, full_path)\n",
    "    os.system(cmd)\n",
    "    print(cmd)\n",
    "    "
   ]
  },
  {
   "cell_type": "markdown",
   "metadata": {},
   "source": [
    "# BIGRAM "
   ]
  },
  {
   "cell_type": "code",
   "execution_count": 13,
   "metadata": {},
   "outputs": [],
   "source": [
    "\n",
    "words = ['computer science', 'information retrieval', 'power politics', \n",
    "         'los angeles', 'bruce willis']"
   ]
  },
  {
   "cell_type": "code",
   "execution_count": 16,
   "metadata": {},
   "outputs": [
    {
     "name": "stdout",
     "output_type": "stream",
     "text": [
      "grep -w '^computer science' /home/cmb-panasas2/skchoudh/github_projects/hatex/2019_Spring/CSCI-572/HW03/devdataoutput.txt > /home/cmb-panasas2/skchoudh/github_projects/hatex/2019_Spring/CSCI-572/HW03/word_indexes/bigram/computer_science.txt\n",
      "grep -w '^information retrieval' /home/cmb-panasas2/skchoudh/github_projects/hatex/2019_Spring/CSCI-572/HW03/devdataoutput.txt > /home/cmb-panasas2/skchoudh/github_projects/hatex/2019_Spring/CSCI-572/HW03/word_indexes/bigram/information_retrieval.txt\n",
      "grep -w '^power politics' /home/cmb-panasas2/skchoudh/github_projects/hatex/2019_Spring/CSCI-572/HW03/devdataoutput.txt > /home/cmb-panasas2/skchoudh/github_projects/hatex/2019_Spring/CSCI-572/HW03/word_indexes/bigram/power_politics.txt\n",
      "grep -w '^los angeles' /home/cmb-panasas2/skchoudh/github_projects/hatex/2019_Spring/CSCI-572/HW03/devdataoutput.txt > /home/cmb-panasas2/skchoudh/github_projects/hatex/2019_Spring/CSCI-572/HW03/word_indexes/bigram/los_angeles.txt\n",
      "grep -w '^bruce willis' /home/cmb-panasas2/skchoudh/github_projects/hatex/2019_Spring/CSCI-572/HW03/devdataoutput.txt > /home/cmb-panasas2/skchoudh/github_projects/hatex/2019_Spring/CSCI-572/HW03/word_indexes/bigram/bruce_willis.txt\n"
     ]
    }
   ],
   "source": [
    "for word in words:\n",
    "    cmd = \"grep -w '^{0}' {1}/devdataoutput.txt > {1}/word_indexes/bigram/{2}.txt\".format(word, full_path, \n",
    "                                                                                          word.replace(' ', '_'))\n",
    "    os.system(cmd)\n",
    "    print(cmd)\n",
    "    "
   ]
  },
  {
   "cell_type": "code",
   "execution_count": null,
   "metadata": {},
   "outputs": [],
   "source": []
  }
 ],
 "metadata": {
  "kernelspec": {
   "display_name": "Python [conda env:riboraptor]",
   "language": "python",
   "name": "conda-env-riboraptor-py"
  },
  "language_info": {
   "codemirror_mode": {
    "name": "ipython",
    "version": 3
   },
   "file_extension": ".py",
   "mimetype": "text/x-python",
   "name": "python",
   "nbconvert_exporter": "python",
   "pygments_lexer": "ipython3",
   "version": "3.6.7"
  }
 },
 "nbformat": 4,
 "nbformat_minor": 2
}
