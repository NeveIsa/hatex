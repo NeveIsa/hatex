{
 "cells": [
  {
   "cell_type": "code",
   "execution_count": 46,
   "metadata": {},
   "outputs": [],
   "source": [
    "import pandas as pd\n",
    "from bs4 import BeautifulSoup\n",
    "import re\n",
    "import glob\n",
    "import ntpath\n",
    "import networkx as nx\n",
    "import os\n",
    "def path_leaf(path):\n",
    "    head, tail = ntpath.split(path)\n",
    "    return tail or ntpath.basename(head)\n",
    "\n"
   ]
  },
  {
   "cell_type": "code",
   "execution_count": 2,
   "metadata": {},
   "outputs": [],
   "source": [
    "csv_file = '/media/rna/yahoo_crawl_data/Yahoo-20190406T235503Z-001/Yahoo/URLtoHTML_yahoo_news.csv'"
   ]
  },
  {
   "cell_type": "code",
   "execution_count": 3,
   "metadata": {},
   "outputs": [
    {
     "data": {
      "text/html": [
       "<div>\n",
       "<style scoped>\n",
       "    .dataframe tbody tr th:only-of-type {\n",
       "        vertical-align: middle;\n",
       "    }\n",
       "\n",
       "    .dataframe tbody tr th {\n",
       "        vertical-align: top;\n",
       "    }\n",
       "\n",
       "    .dataframe thead th {\n",
       "        text-align: right;\n",
       "    }\n",
       "</style>\n",
       "<table border=\"1\" class=\"dataframe\">\n",
       "  <thead>\n",
       "    <tr style=\"text-align: right;\">\n",
       "      <th></th>\n",
       "      <th>filename</th>\n",
       "      <th>URL</th>\n",
       "    </tr>\n",
       "  </thead>\n",
       "  <tbody>\n",
       "    <tr>\n",
       "      <th>0</th>\n",
       "      <td>00090e25-3aeb-4e0e-abfa-00ea58a6a48d.html</td>\n",
       "      <td>https://www.yahoo.com/news/harry-s-truman-cour...</td>\n",
       "    </tr>\n",
       "    <tr>\n",
       "      <th>1</th>\n",
       "      <td>00193717-117b-45b6-84dc-2e88026d41ca.html</td>\n",
       "      <td>https://www.yahoo.com/news/clinton-has-the-map...</td>\n",
       "    </tr>\n",
       "    <tr>\n",
       "      <th>2</th>\n",
       "      <td>00272c51-112a-455e-81e4-45b033b05475.html</td>\n",
       "      <td>https://www.yahoo.com/news/definitive-ranking-...</td>\n",
       "    </tr>\n",
       "    <tr>\n",
       "      <th>3</th>\n",
       "      <td>003247be-6972-419b-8b05-8d53a013db55.html</td>\n",
       "      <td>https://www.yahoo.com/news/george-h-w-bush-sli...</td>\n",
       "    </tr>\n",
       "    <tr>\n",
       "      <th>4</th>\n",
       "      <td>003ccc65-6f50-4219-a98d-3515db0986df.html</td>\n",
       "      <td>https://www.yahoo.com/news/lebron-james-hillar...</td>\n",
       "    </tr>\n",
       "  </tbody>\n",
       "</table>\n",
       "</div>"
      ],
      "text/plain": [
       "                                    filename  \\\n",
       "0  00090e25-3aeb-4e0e-abfa-00ea58a6a48d.html   \n",
       "1  00193717-117b-45b6-84dc-2e88026d41ca.html   \n",
       "2  00272c51-112a-455e-81e4-45b033b05475.html   \n",
       "3  003247be-6972-419b-8b05-8d53a013db55.html   \n",
       "4  003ccc65-6f50-4219-a98d-3515db0986df.html   \n",
       "\n",
       "                                                 URL  \n",
       "0  https://www.yahoo.com/news/harry-s-truman-cour...  \n",
       "1  https://www.yahoo.com/news/clinton-has-the-map...  \n",
       "2  https://www.yahoo.com/news/definitive-ranking-...  \n",
       "3  https://www.yahoo.com/news/george-h-w-bush-sli...  \n",
       "4  https://www.yahoo.com/news/lebron-james-hillar...  "
      ]
     },
     "execution_count": 3,
     "metadata": {},
     "output_type": "execute_result"
    }
   ],
   "source": [
    "mapping_file_df = pd.read_csv(csv_file).\\\n",
    "                sort_values(by=['filename', 'URL']).\\\n",
    "                reset_index(drop=True)\n",
    "mapping_file_df.head()\n"
   ]
  },
  {
   "cell_type": "code",
   "execution_count": 36,
   "metadata": {},
   "outputs": [
    {
     "data": {
      "text/plain": [
       "'https://www.yahoo.com/news/anti-maduro-protests-continue-venezuela-slideshow-wp-132714046/photo-p-venezuela-opposition-leader-governor-photo-132714450.html'"
      ]
     },
     "execution_count": 36,
     "metadata": {},
     "output_type": "execute_result"
    }
   ],
   "source": [
    "str(mapping_file_df[mapping_file_df.filename=='dc71c738-9dfb-4781-bc1b-f4c382eee5b5.html'].URL.iloc[0])"
   ]
  },
  {
   "cell_type": "code",
   "execution_count": 4,
   "metadata": {},
   "outputs": [],
   "source": [
    "html_file = '/media/rna/yahoo_crawl_data/Yahoo-20190406T235503Z-001/Yahoo/yahoo/007aadfd-e47a-4098-b1d3-becbba5ab7d3.html'\n",
    "crawl_data_dir = '/media/rna/yahoo_crawl_data/Yahoo-20190406T235503Z-001/Yahoo/yahoo/'\n",
    "list_of_html_files = glob.glob('{}/*.html'.format(crawl_data_dir))"
   ]
  },
  {
   "cell_type": "code",
   "execution_count": 5,
   "metadata": {},
   "outputs": [],
   "source": [
    "def get_outgoing_links(html_file):\n",
    "    \"\"\"Get list of outgoing links for the input html file.\n",
    "    \n",
    "    Parameters\n",
    "    ----------\n",
    "    html_file: str\n",
    "               Path to html file\n",
    "    \n",
    "    Returns\n",
    "    -------\n",
    "    list_of_urls: list\n",
    "                  List of outgoing urls\n",
    "    \n",
    "    \"\"\"\n",
    "    \n",
    "    soup = BeautifulSoup(open(html_file).read().encode('utf-8'))\n",
    "    links = []\n",
    "    for link in soup.findAll('a', href=True):#attrs=['href']: re.compile(\"^https://\")}):    \n",
    "        # Skip internal linkes\n",
    "        try:\n",
    "            href = link.get('href')\n",
    "        except IndexError:\n",
    "            continue\n",
    "        \n",
    "        if href == '#':        \n",
    "            continue\n",
    "        try: \n",
    "            text = link.contents[0]\n",
    "        except IndexError:\n",
    "            #text = ''\n",
    "            pass\n",
    "        links.append(link.get('href'))\n",
    "    return links\n",
    "\n",
    "def get_filenames_for_URLs(mapping_file_df, list_of_links):\n",
    "    \"\"\"Get list of html filenames for a list of links\n",
    "    \n",
    "    Parameters\n",
    "    ----------\n",
    "    mapping_file_df: pd.DataFrame\n",
    "                     Dataframe with mapping.csv loaded\n",
    "    list_of_links: list\n",
    "                   List of URLs\n",
    "                   \n",
    "    Returns\n",
    "    -------\n",
    "    list_of_filenames: list\n",
    "                       List of filenames\n",
    "    \"\"\"\n",
    "    \n",
    "    return mapping_file_df[mapping_file_df.URL.isin(links)].filename.tolist()\n",
    "        "
   ]
  },
  {
   "cell_type": "code",
   "execution_count": 6,
   "metadata": {},
   "outputs": [],
   "source": [
    "links = get_outgoing_links(list_of_html_files[0])"
   ]
  },
  {
   "cell_type": "code",
   "execution_count": 7,
   "metadata": {},
   "outputs": [
    {
     "ename": "NameError",
     "evalue": "name 'mapping_file' is not defined",
     "output_type": "error",
     "traceback": [
      "\u001b[0;31m---------------------------------------------------------------------------\u001b[0m",
      "\u001b[0;31mNameError\u001b[0m                                 Traceback (most recent call last)",
      "\u001b[0;32m<ipython-input-7-222d0c33b7a7>\u001b[0m in \u001b[0;36m<module>\u001b[0;34m\u001b[0m\n\u001b[0;32m----> 1\u001b[0;31m \u001b[0mget_filenames_for_URLs\u001b[0m\u001b[0;34m(\u001b[0m\u001b[0mmapping_file\u001b[0m\u001b[0;34m,\u001b[0m \u001b[0mlinks\u001b[0m\u001b[0;34m)\u001b[0m\u001b[0;34m\u001b[0m\u001b[0;34m\u001b[0m\u001b[0m\n\u001b[0m",
      "\u001b[0;31mNameError\u001b[0m: name 'mapping_file' is not defined"
     ]
    }
   ],
   "source": [
    "get_filenames_for_URLs(mapping_file, links)"
   ]
  },
  {
   "cell_type": "code",
   "execution_count": null,
   "metadata": {},
   "outputs": [],
   "source": [
    "# create empty matrix\n",
    "connection_matrix = pd.DataFrame(columns=mapping_file.filename.tolist(), index=mapping_file.filename)"
   ]
  },
  {
   "cell_type": "code",
   "execution_count": null,
   "metadata": {},
   "outputs": [],
   "source": [
    "connection_matrix.shape"
   ]
  },
  {
   "cell_type": "code",
   "execution_count": null,
   "metadata": {},
   "outputs": [],
   "source": [
    "connection_matrix = connection_matrix.fillna(0)"
   ]
  },
  {
   "cell_type": "code",
   "execution_count": null,
   "metadata": {},
   "outputs": [],
   "source": [
    "connection_matrix.head()"
   ]
  },
  {
   "cell_type": "code",
   "execution_count": 9,
   "metadata": {},
   "outputs": [],
   "source": [
    "with open('edgelist.txt', 'w') as fh:\n",
    "    for filepath in list_of_html_files:\n",
    "        filename = path_leaf(filepath)\n",
    "        links = get_outgoing_links(filepath)\n",
    "        filenames_for_url = get_filenames_for_URLs(mapping_file_df, links)\n",
    "        #connection_matrix.loc[filename, filenames_for_url]+=1\n",
    "        #connection_matrix.loc[filename, filenames_for_url] =1\n",
    "        #with open()    \n",
    "        fh.write('{} {}\\n'.format(filename, ' '.join(filenames_for_url)))\n",
    "    "
   ]
  },
  {
   "cell_type": "code",
   "execution_count": null,
   "metadata": {},
   "outputs": [],
   "source": [
    "# row is from column is to"
   ]
  },
  {
   "cell_type": "code",
   "execution_count": null,
   "metadata": {},
   "outputs": [],
   "source": [
    "filename"
   ]
  },
  {
   "cell_type": "code",
   "execution_count": null,
   "metadata": {},
   "outputs": [],
   "source": [
    "filenames_for_url"
   ]
  },
  {
   "cell_type": "code",
   "execution_count": null,
   "metadata": {},
   "outputs": [],
   "source": [
    "connection_matrix.sum(axis=1)"
   ]
  },
  {
   "cell_type": "code",
   "execution_count": null,
   "metadata": {},
   "outputs": [],
   "source": [
    "connection_matrix.sum(axis=0)"
   ]
  },
  {
   "cell_type": "code",
   "execution_count": 12,
   "metadata": {},
   "outputs": [],
   "source": [
    "graph = nx.read_adjlist('./edgelist.txt', create_using=nx.DiGraph())"
   ]
  },
  {
   "cell_type": "code",
   "execution_count": null,
   "metadata": {},
   "outputs": [],
   "source": [
    "graph = nx.from_numpy_matrix(connection_matrix.values)"
   ]
  },
  {
   "cell_type": "code",
   "execution_count": null,
   "metadata": {},
   "outputs": [],
   "source": [
    "graph = nx.relabel_nodes(graph, dict(enumerate(connection_matrix.columns))) "
   ]
  },
  {
   "cell_type": "code",
   "execution_count": null,
   "metadata": {},
   "outputs": [],
   "source": [
    "G = nx.read_edgelist(\"edgeList.txt\", create_using=nx.DiGraph("
   ]
  },
  {
   "cell_type": "code",
   "execution_count": 13,
   "metadata": {},
   "outputs": [],
   "source": [
    "pagerank = nx.pagerank(graph, \n",
    "                       alpha=0.85, \n",
    "                       personalization=None, \n",
    "                       max_iter=100, \n",
    "                       tol=1e-06, \n",
    "                       nstart=None, \n",
    "                       weight='weight', \n",
    "                       dangling=None)"
   ]
  },
  {
   "cell_type": "code",
   "execution_count": 16,
   "metadata": {},
   "outputs": [],
   "source": [
    "with open('pagerank.txt', 'w') as fh:\n",
    "    for key, value  in pagerank.items():\n",
    "        fh.write('{}/{}={}\\n'.format(crawl_data_dir, key, value))"
   ]
  },
  {
   "cell_type": "markdown",
   "metadata": {},
   "source": [
    "# Query "
   ]
  },
  {
   "cell_type": "code",
   "execution_count": 19,
   "metadata": {},
   "outputs": [],
   "source": [
    "import solr\n",
    "\n",
    "# create a connection to a solr server\n",
    "s = solr.SolrConnection('http://nucleus.usc.edu:8983/solr/myexample')\n"
   ]
  },
  {
   "cell_type": "code",
   "execution_count": 30,
   "metadata": {},
   "outputs": [],
   "source": [
    "response =s.query('Patriot Movement')#sort='pageRankFile desc')"
   ]
  },
  {
   "cell_type": "code",
   "execution_count": 42,
   "metadata": {},
   "outputs": [
    {
     "data": {
      "text/plain": [
       "<solr.core.Response at 0x7fc2d63bb0f0>"
      ]
     },
     "execution_count": 42,
     "metadata": {},
     "output_type": "execute_result"
    }
   ],
   "source": [
    "response.next_batch()\n"
   ]
  },
  {
   "cell_type": "code",
   "execution_count": 44,
   "metadata": {},
   "outputs": [
    {
     "data": {
      "text/plain": [
       "['Right-wing Patriot Prayer rally and counterprotest in Portland, Ore.']"
      ]
     },
     "execution_count": 44,
     "metadata": {},
     "output_type": "execute_result"
    }
   ],
   "source": [
    "hit['title']"
   ]
  },
  {
   "cell_type": "code",
   "execution_count": 31,
   "metadata": {},
   "outputs": [
    {
     "name": "stdout",
     "output_type": "stream",
     "text": [
      "['The worst reason of all to own a gun']\n",
      "['Talk grows of replacing Trump at GOP convention']\n",
      "['NFL Winners and Losers from free agency']\n",
      "['In the age of Trump, can Democrats turn Orange County blue? Their first target is Darrell Issa']\n",
      "['Down Ticket #11: Balance of Senate could hinge on Wisconsin rematch']\n",
      "['As unions awaken, Sherrod Brown hopes to benefit']\n",
      "['Unconventional #17: Trump meets the man who could become his running mate [Video]']\n",
      "['Unconventional #23: Is Sanders really going to ‘fight’ Clinton in Philly? Does Scott Walker want to replace Trump in Cleveland? (and more!) [Video]']\n",
      "['How the town of Whitefish defeated its neo-Nazi trolls — and became a national model of resistance']\n",
      "['Right-wing Patriot Prayer rally and counterprotest in Portland, Ore.']\n"
     ]
    }
   ],
   "source": [
    "for hit in response.results:\n",
    "    print(hit['title'])\n"
   ]
  },
  {
   "cell_type": "markdown",
   "metadata": {},
   "source": [
    "# Overlap"
   ]
  },
  {
   "cell_type": "code",
   "execution_count": 63,
   "metadata": {},
   "outputs": [
    {
     "name": "stdout",
     "output_type": "stream",
     "text": [
      "Venezuela 3\n",
      "Senate 0\n",
      "Democrats 0\n",
      "Republicans 0\n",
      "Patriot Movement 1\n",
      "Oscar 2019 0\n",
      "Channel 0\n",
      "Wall 0\n"
     ]
    }
   ],
   "source": [
    "search_results_dir = '/media/dna/github/hatex/2019_Spring/CSCI-572/HW04/search_results'\n",
    "\n",
    "query_terms = ['Venezuela', 'Senate', 'Democrats',\n",
    "               'Republicans', 'Patriot Movement', 'Oscar 2019',\n",
    "              'Channel', 'Wall']\n",
    "data = []\n",
    "excel_data = []\n",
    "for query in query_terms:\n",
    "    df_solr = pd.read_csv(os.path.join(search_results_dir, '{}.solr.tsv'.format(query)))\n",
    "    df_pagerank = pd.read_csv(os.path.join(search_results_dir, '{}.pageRank.tsv'.format(query)))\n",
    "    overlap = len(set(df_solr.URL).intersection(df_pagerank.URL))\n",
    "    data.append({'query': query, 'overlap': overlap})\n",
    "    excel_data = pd.DataFrame({'Lucene': df_solr.URL.tolist(), 'PageRank': df_pagerank.URL.tolist()})\n",
    "    excel_data.to_excel('{}.xlsx'.format(query))\n",
    "    print(query, overlap)"
   ]
  },
  {
   "cell_type": "code",
   "execution_count": 62,
   "metadata": {},
   "outputs": [
    {
     "data": {
      "text/html": [
       "<div>\n",
       "<style scoped>\n",
       "    .dataframe tbody tr th:only-of-type {\n",
       "        vertical-align: middle;\n",
       "    }\n",
       "\n",
       "    .dataframe tbody tr th {\n",
       "        vertical-align: top;\n",
       "    }\n",
       "\n",
       "    .dataframe thead th {\n",
       "        text-align: right;\n",
       "    }\n",
       "</style>\n",
       "<table border=\"1\" class=\"dataframe\">\n",
       "  <thead>\n",
       "    <tr style=\"text-align: right;\">\n",
       "      <th></th>\n",
       "      <th>Lucene</th>\n",
       "      <th>PageRank</th>\n",
       "    </tr>\n",
       "  </thead>\n",
       "  <tbody>\n",
       "    <tr>\n",
       "      <th>0</th>\n",
       "      <td>https://www.yahoo.com/news/wall-wall-trump-def...</td>\n",
       "      <td>https://www.yahoo.com/news/photos-northeast-ca...</td>\n",
       "    </tr>\n",
       "    <tr>\n",
       "      <th>1</th>\n",
       "      <td>https://www.yahoo.com/news/imagining-trumps-bi...</td>\n",
       "      <td>https://www.yahoo.com/news/5-things-didn-apos-...</td>\n",
       "    </tr>\n",
       "    <tr>\n",
       "      <th>2</th>\n",
       "      <td>https://www.yahoo.com/news/trumps-big-beautifu...</td>\n",
       "      <td>https://www.yahoo.com/news/arizona-senate-race...</td>\n",
       "    </tr>\n",
       "    <tr>\n",
       "      <th>3</th>\n",
       "      <td>https://www.yahoo.com/news/border-wall-funding...</td>\n",
       "      <td>https://www.yahoo.com/news/debate-political-sp...</td>\n",
       "    </tr>\n",
       "    <tr>\n",
       "      <th>4</th>\n",
       "      <td>https://www.yahoo.com/news/gop-leaders-back-at...</td>\n",
       "      <td>https://www.yahoo.com/news/anything-trump-coul...</td>\n",
       "    </tr>\n",
       "    <tr>\n",
       "      <th>5</th>\n",
       "      <td>https://www.yahoo.com/news/on-the-border-waiti...</td>\n",
       "      <td>https://www.yahoo.com/news/talk-grows-replacin...</td>\n",
       "    </tr>\n",
       "    <tr>\n",
       "      <th>6</th>\n",
       "      <td>https://www.yahoo.com/news/sanders-calls-obama...</td>\n",
       "      <td>https://www.yahoo.com/news/suspicious-package-...</td>\n",
       "    </tr>\n",
       "    <tr>\n",
       "      <th>7</th>\n",
       "      <td>https://www.yahoo.com/news/steve-king-has-a-mo...</td>\n",
       "      <td>https://www.yahoo.com/news/tributes-marking-on...</td>\n",
       "    </tr>\n",
       "    <tr>\n",
       "      <th>8</th>\n",
       "      <td>https://www.yahoo.com/news/rebuilding-great-wa...</td>\n",
       "      <td>https://www.yahoo.com/news/deadly-earthquake-t...</td>\n",
       "    </tr>\n",
       "    <tr>\n",
       "      <th>9</th>\n",
       "      <td>https://www.yahoo.com/news/rebuilding-great-wa...</td>\n",
       "      <td>https://www.yahoo.com/news/soon-miss-george-w-...</td>\n",
       "    </tr>\n",
       "  </tbody>\n",
       "</table>\n",
       "</div>"
      ],
      "text/plain": [
       "                                              Lucene  \\\n",
       "0  https://www.yahoo.com/news/wall-wall-trump-def...   \n",
       "1  https://www.yahoo.com/news/imagining-trumps-bi...   \n",
       "2  https://www.yahoo.com/news/trumps-big-beautifu...   \n",
       "3  https://www.yahoo.com/news/border-wall-funding...   \n",
       "4  https://www.yahoo.com/news/gop-leaders-back-at...   \n",
       "5  https://www.yahoo.com/news/on-the-border-waiti...   \n",
       "6  https://www.yahoo.com/news/sanders-calls-obama...   \n",
       "7  https://www.yahoo.com/news/steve-king-has-a-mo...   \n",
       "8  https://www.yahoo.com/news/rebuilding-great-wa...   \n",
       "9  https://www.yahoo.com/news/rebuilding-great-wa...   \n",
       "\n",
       "                                            PageRank  \n",
       "0  https://www.yahoo.com/news/photos-northeast-ca...  \n",
       "1  https://www.yahoo.com/news/5-things-didn-apos-...  \n",
       "2  https://www.yahoo.com/news/arizona-senate-race...  \n",
       "3  https://www.yahoo.com/news/debate-political-sp...  \n",
       "4  https://www.yahoo.com/news/anything-trump-coul...  \n",
       "5  https://www.yahoo.com/news/talk-grows-replacin...  \n",
       "6  https://www.yahoo.com/news/suspicious-package-...  \n",
       "7  https://www.yahoo.com/news/tributes-marking-on...  \n",
       "8  https://www.yahoo.com/news/deadly-earthquake-t...  \n",
       "9  https://www.yahoo.com/news/soon-miss-george-w-...  "
      ]
     },
     "execution_count": 62,
     "metadata": {},
     "output_type": "execute_result"
    }
   ],
   "source": [
    "pd.DataFrame(excel_data)"
   ]
  },
  {
   "cell_type": "code",
   "execution_count": 68,
   "metadata": {},
   "outputs": [
    {
     "data": {
      "image/png": "[encoded data removed]",
      "text/plain": [
       "<Figure size 720x576 with 1 Axes>"
      ]
     },
     "metadata": {
      "needs_background": "light"
     },
     "output_type": "display_data"
    }
   ],
   "source": [
    "import matplotlib.pyplot as plt\n",
    "fig, ax = plt.subplots(figsize=(10,8))\n",
    "df = pd.DataFrame(data)\n",
    "df.plot(kind='bar', x='query', y='overlap', color='purple', ax=ax)\n",
    "fig.tight_layout()\n",
    "fig.savefig('overlap_barplot.png')"
   ]
  },
  {
   "cell_type": "code",
   "execution_count": null,
   "metadata": {},
   "outputs": [],
   "source": []
  }
 ],
 "metadata": {
  "kernelspec": {
   "display_name": "Python 3",
   "language": "python",
   "name": "python3"
  },
  "language_info": {
   "codemirror_mode": {
    "name": "ipython",
    "version": 3
   },
   "file_extension": ".py",
   "mimetype": "text/x-python",
   "name": "python",
   "nbconvert_exporter": "python",
   "pygments_lexer": "ipython3",
   "version": "3.7.1"
  }
 },
 "nbformat": 4,
 "nbformat_minor": 2
}
