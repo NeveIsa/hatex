{
 "cells": [
  {
   "cell_type": "code",
   "execution_count": 1,
   "metadata": {},
   "outputs": [
    {
     "name": "stdout",
     "output_type": "stream",
     "text": [
      "Populating the interactive namespace from numpy and matplotlib\n"
     ]
    }
   ],
   "source": [
    "%pylab inline\n",
    "import pandas as pd\n",
    "from textwrap import dedent"
   ]
  },
  {
   "cell_type": "code",
   "execution_count": 2,
   "metadata": {},
   "outputs": [
    {
     "name": "stdout",
     "output_type": "stream",
     "text": [
      "fetch_yahoo.csv\t\toutgoingurls_yahoo_new.csv  urls_yahoo_new.csv\n",
      "outgoingurls_yahoo.csv\turls_yahoo.csv\t\t    visit_yahoo.csv\n"
     ]
    }
   ],
   "source": [
    "!ls ../attempt3_19k/"
   ]
  },
  {
   "cell_type": "markdown",
   "metadata": {},
   "source": [
    "# Process URLs"
   ]
  },
  {
   "cell_type": "code",
   "execution_count": 15,
   "metadata": {},
   "outputs": [],
   "source": [
    "urls_to_write = 'url,status\\n'\n",
    "\n",
    "with open('../attempt3_19k/urls_yahoo.csv') as fh:\n",
    "    for index, line in enumerate(fh):\n",
    "        if index == 0:\n",
    "            continue\n",
    "        splitted = line.split(',')\n",
    "        if len(splitted) == 2:\n",
    "            url = splitted[0]\n",
    "            status = splitted[1]\n",
    "        elif len(splitted) >= 3:\n",
    "            url = '-'.join(splitted[0:len(splitted)-1])\n",
    "            status = splitted[-1]\n",
    "        else:\n",
    "            print(line)\n",
    "            raise RuntimeError\n",
    "        \n",
    "        url = url.replace(\",\", \"-\")\n",
    "        if 'https://news.yahoo.com' in url:\n",
    "            status = 'OK'\n",
    "        elif 'https://www.yahoo.com/news' in url:\n",
    "            status = 'OK'\n",
    "        else:\n",
    "            status = 'N_OK'\n",
    "        urls_to_write += '{},{}\\n'.format(url,status)\n",
    "with open('../attempt3_19k/urls_yahoo_new.csv', 'w') as fh:\n",
    "    fh.write(urls_to_write)"
   ]
  },
  {
   "cell_type": "code",
   "execution_count": 16,
   "metadata": {},
   "outputs": [
    {
     "data": {
      "text/plain": [
       "N_OK    710048\n",
       "OK           3\n",
       "Name: status, dtype: int64"
      ]
     },
     "execution_count": 16,
     "metadata": {},
     "output_type": "execute_result"
    }
   ],
   "source": [
    "urls_df = pd.read_csv('../attempt3_19k/urls_yahoo_new.csv')\n",
    "urls_df.status.value_counts()"
   ]
  },
  {
   "cell_type": "code",
   "execution_count": null,
   "metadata": {},
   "outputs": [],
   "source": [
    "# Process outgoing urls\n",
    "urls_to_write = 'url\\n'\n",
    "with open('../attempt3_19k/outgoingurls_yahoo.csv') as fh:\n",
    "    for index, line in enumerate(fh):\n",
    "        if index == 0:\n",
    "            continue\n",
    "        line = line.replace(',', '-')\n",
    "        urls_to_write += '{}\\n'.format(line)\n",
    "with open('../attempt3_19k/outgoingurls_yahoo_new.csv', 'w') as fh:\n",
    "    fh.write(urls_to_write)"
   ]
  },
  {
   "cell_type": "code",
   "execution_count": 4,
   "metadata": {},
   "outputs": [],
   "source": [
    "fetch_df = pd.read_csv('../attempt3_19k/fetch_yahoo.csv')\n",
    "outgoingurls = pd.read_csv('../attempt3_19k/outgoingurls_yahoo_new.csv', header=0)\n",
    "urls_df = pd.read_csv('../attempt3_19k/urls_yahoo_new.csv')\n",
    "visits_df = pd.read_csv('../attempt3_19k/visit_yahoo.csv')"
   ]
  },
  {
   "cell_type": "code",
   "execution_count": 5,
   "metadata": {},
   "outputs": [
    {
     "data": {
      "text/plain": [
       "200    18988\n",
       "Name: http_status_code, dtype: int64"
      ]
     },
     "execution_count": 5,
     "metadata": {},
     "output_type": "execute_result"
    }
   ],
   "source": [
    "fetch_df.http_status_code.value_counts()"
   ]
  },
  {
   "cell_type": "code",
   "execution_count": 6,
   "metadata": {},
   "outputs": [
    {
     "data": {
      "text/plain": [
       "18988"
      ]
     },
     "execution_count": 6,
     "metadata": {},
     "output_type": "execute_result"
    }
   ],
   "source": [
    "fetch_df.http_status_code.value_counts()[200]"
   ]
  },
  {
   "cell_type": "code",
   "execution_count": 7,
   "metadata": {},
   "outputs": [],
   "source": [
    "fetches_attempted = fetch_df.shape[0]\n",
    "fetches_succeeded = fetch_df.http_status_code.value_counts()[200]\n",
    "fetches_failed = fetches_attempted - fetches_succeeded"
   ]
  },
  {
   "cell_type": "code",
   "execution_count": 50,
   "metadata": {},
   "outputs": [],
   "source": []
  },
  {
   "cell_type": "code",
   "execution_count": 10,
   "metadata": {},
   "outputs": [
    {
     "name": "stdout",
     "output_type": "stream",
     "text": [
      "Name: Saket Choudhary\n",
      "USC ID: 2170058637\n",
      "News site crawled: www.yahoo.com/news\n",
      "\n",
      "Fetch Statistics\n",
      "================\n",
      "# fetches attempted: 18988\n",
      "# fetches succeeded: 18988\n",
      "# fetches failed or aborted: 0\n"
     ]
    }
   ],
   "source": [
    "print(template)"
   ]
  },
  {
   "cell_type": "code",
   "execution_count": null,
   "metadata": {},
   "outputs": [],
   "source": []
  },
  {
   "cell_type": "code",
   "execution_count": 19,
   "metadata": {},
   "outputs": [],
   "source": [
    "total_urls_extracted = outgoingurls.shape[0]\n",
    "unique_urls_extracted = len(outgoingurls.url.unique())\n",
    "unique_urls_within_site = 0\n",
    "unique_urls_outside_site = 0\n",
    "\n",
    "\n",
    "for url in outgoingurls.url.unique():\n",
    "    if 'https://news.yahoo.com/' in url:\n",
    "        unique_urls_within_site += 1\n",
    "    elif 'https://www.yahoo.com/news' in url:\n",
    "        unique_urls_within_site += 1\n",
    "    else:\n",
    "        unique_urls_outside_site += 1\n",
    "        "
   ]
  },
  {
   "cell_type": "code",
   "execution_count": 51,
   "metadata": {},
   "outputs": [],
   "source": []
  },
  {
   "cell_type": "code",
   "execution_count": 22,
   "metadata": {},
   "outputs": [
    {
     "name": "stdout",
     "output_type": "stream",
     "text": [
      "Name: Saket Choudhary\n",
      "USC ID: 2170058637\n",
      "News site crawled: www.yahoo.com/news\n",
      "\n",
      "Fetch Statistics\n",
      "================\n",
      "# fetches attempted: 18988\n",
      "# fetches succeeded: 18988\n",
      "# fetches failed or aborted: 0\n",
      "Outgoing URLs:\n",
      "==============\n",
      "Total URLs extracted: 1151638\n",
      "# unique URLs extracted: 142207\n",
      "# unique URLs within News Site: 23922\n",
      "# unique URLs outside News Site: 118285\n"
     ]
    }
   ],
   "source": [
    "print(template)"
   ]
  },
  {
   "cell_type": "code",
   "execution_count": 23,
   "metadata": {},
   "outputs": [],
   "source": [
    "status_200 = fetch_df.http_status_code.value_counts()[200]\n",
    "status_301 = 0\n",
    "status_401 = 0\n",
    "status_403 = 0\n",
    "status_404 = 0"
   ]
  },
  {
   "cell_type": "code",
   "execution_count": 52,
   "metadata": {},
   "outputs": [],
   "source": []
  },
  {
   "cell_type": "code",
   "execution_count": 32,
   "metadata": {},
   "outputs": [],
   "source": [
    "visits_df['size_category'] = pd.cut(visits_df['size'].values, bins=[0,1023, 10239, 102399, 1048576, visits_df['size'].max()],\n",
    "                                    labels=['< 1KB', '1KB ~ <10KB', '10KB ~ <100KB', '100KB ~ <1MB', '>= 1MB'])\n"
   ]
  },
  {
   "cell_type": "code",
   "execution_count": 37,
   "metadata": {},
   "outputs": [
    {
     "data": {
      "text/plain": [
       "100KB ~ <1MB     15410\n",
       "10KB ~ <100KB     3576\n",
       ">= 1MB               2\n",
       "1KB ~ <10KB          0\n",
       "< 1KB                0\n",
       "Name: size_category, dtype: int64"
      ]
     },
     "execution_count": 37,
     "metadata": {},
     "output_type": "execute_result"
    }
   ],
   "source": [
    "visits_df_size_category_vc = visits_df.size_category.value_counts()\n",
    "visits_df_size_category_vc"
   ]
  },
  {
   "cell_type": "code",
   "execution_count": 38,
   "metadata": {},
   "outputs": [],
   "source": [
    "size_1kb = visits_df_size_category_vc['< 1KB']\n",
    "size_10kb = visits_df_size_category_vc['1KB ~ <10KB']\n",
    "size_100kb = visits_df_size_category_vc['10KB ~ <100KB']\n",
    "size_1mb = visits_df_size_category_vc['100KB ~ <1MB']\n",
    "size_higher = visits_df_size_category_vc['>= 1MB']"
   ]
  },
  {
   "cell_type": "code",
   "execution_count": 53,
   "metadata": {},
   "outputs": [],
   "source": []
  },
  {
   "cell_type": "code",
   "execution_count": 40,
   "metadata": {},
   "outputs": [
    {
     "data": {
      "text/plain": [
       "text/html    18988\n",
       "Name: content_type, dtype: int64"
      ]
     },
     "execution_count": 40,
     "metadata": {},
     "output_type": "execute_result"
    }
   ],
   "source": [
    "visits_df.content_type.value_counts()"
   ]
  },
  {
   "cell_type": "code",
   "execution_count": 41,
   "metadata": {},
   "outputs": [],
   "source": [
    "type_html = visits_df.content_type.value_counts()['text/html']\n",
    "type_gif = 0\n",
    "type_jpeg = 0\n",
    "type_png = 0\n",
    "type_pdf = 0"
   ]
  },
  {
   "cell_type": "code",
   "execution_count": 56,
   "metadata": {},
   "outputs": [],
   "source": [
    "template = dedent(\"\"\"Name: Saket Choudhary\n",
    "USC ID: 2170058637\n",
    "News site crawled: www.yahoo.com/news\n",
    "\n",
    "Fetch Statistics\n",
    "================\n",
    "# fetches attempted: {}\n",
    "# fetches succeeded: {}\n",
    "# fetches failed or aborted: {}\"\"\".format(fetches_attempted, fetches_succeeded, fetches_failed))\n",
    "\n",
    "template += dedent(\"\"\"\\n\\n\n",
    "Outgoing URLs:\n",
    "==============\n",
    "Total URLs extracted: {}\n",
    "# unique URLs extracted: {}\n",
    "# unique URLs within News Site: {}\n",
    "# unique URLs outside News Site: {}\"\"\".format(total_urls_extracted, unique_urls_extracted, unique_urls_within_site, unique_urls_outside_site))\n",
    "\n",
    "template += dedent(\"\"\"\\n\\n\n",
    "Status Codes:\n",
    "=============\n",
    "200 OK: {}\n",
    "301 Moved Permanently: {}\n",
    "401 Unauthorized: {}\n",
    "403 Forbidden: {}\n",
    "404 Not Found: {}\"\"\".format(status_200, status_301, status_401, status_403, status_404))\n",
    "\n",
    "template += dedent(\"\"\"\\n\\n\n",
    "File Sizes:\n",
    "===========\n",
    "< 1KB: {}\n",
    "1KB ~ <10KB: {}\n",
    "10KB ~ <100KB: {}\n",
    "100KB ~ <1MB: {}\n",
    ">= 1MB: {}\"\"\".format(size_1kb, size_10kb, size_100kb, size_1mb, size_higher))\n",
    "\n",
    "template += dedent(\"\"\"\\n\\n\n",
    "Content Types:\n",
    "==============\n",
    "\n",
    "text/html: {}\n",
    "image/gif: {}\n",
    "image/jpeg: {}\n",
    "image/png: {}\n",
    "application/pdf: {} \"\"\".format(type_html, type_gif, type_jpeg, type_png, type_pdf))"
   ]
  },
  {
   "cell_type": "code",
   "execution_count": 57,
   "metadata": {},
   "outputs": [],
   "source": [
    "with open('../attempt3_19k/CrawlReport_yahoo.csv', 'w') as fh:\n",
    "    fh.write(template)"
   ]
  },
  {
   "cell_type": "code",
   "execution_count": null,
   "metadata": {},
   "outputs": [],
   "source": []
  }
 ],
 "metadata": {
  "kernelspec": {
   "display_name": "Python [conda env:riboraptor]",
   "language": "python",
   "name": "conda-env-riboraptor-py"
  },
  "language_info": {
   "codemirror_mode": {
    "name": "ipython",
    "version": 3
   },
   "file_extension": ".py",
   "mimetype": "text/x-python",
   "name": "python",
   "nbconvert_exporter": "python",
   "pygments_lexer": "ipython3",
   "version": "3.6.5"
  }
 },
 "nbformat": 4,
 "nbformat_minor": 2
}
