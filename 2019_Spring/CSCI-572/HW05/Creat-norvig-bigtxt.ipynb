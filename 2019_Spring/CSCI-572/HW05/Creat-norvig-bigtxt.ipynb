{
 "cells": [
  {
   "cell_type": "code",
   "execution_count": 7,
   "metadata": {},
   "outputs": [],
   "source": [
    "import pandas as pd\n",
    "from bs4 import BeautifulSoup\n",
    "from bs4 import Comment\n",
    "\n",
    "\n",
    "import re\n",
    "import glob\n",
    "import ntpath\n",
    "import networkx as nx\n",
    "import os\n",
    "from bs4.element import Comment\n",
    "def path_leaf(path):\n",
    "    head, tail = ntpath.split(path)\n",
    "    return tail or ntpath.basename(head)\n",
    "\n"
   ]
  },
  {
   "cell_type": "code",
   "execution_count": 2,
   "metadata": {},
   "outputs": [],
   "source": [
    "csv_file = '/media/rna/yahoo_crawl_data/Yahoo-20190406T235503Z-001/Yahoo/URLtoHTML_yahoo_news.csv'"
   ]
  },
  {
   "cell_type": "code",
   "execution_count": 3,
   "metadata": {},
   "outputs": [
    {
     "data": {
      "text/html": [
       "<div>\n",
       "<style scoped>\n",
       "    .dataframe tbody tr th:only-of-type {\n",
       "        vertical-align: middle;\n",
       "    }\n",
       "\n",
       "    .dataframe tbody tr th {\n",
       "        vertical-align: top;\n",
       "    }\n",
       "\n",
       "    .dataframe thead th {\n",
       "        text-align: right;\n",
       "    }\n",
       "</style>\n",
       "<table border=\"1\" class=\"dataframe\">\n",
       "  <thead>\n",
       "    <tr style=\"text-align: right;\">\n",
       "      <th></th>\n",
       "      <th>filename</th>\n",
       "      <th>URL</th>\n",
       "    </tr>\n",
       "  </thead>\n",
       "  <tbody>\n",
       "    <tr>\n",
       "      <th>0</th>\n",
       "      <td>00090e25-3aeb-4e0e-abfa-00ea58a6a48d.html</td>\n",
       "      <td>https://www.yahoo.com/news/harry-s-truman-cour...</td>\n",
       "    </tr>\n",
       "    <tr>\n",
       "      <th>1</th>\n",
       "      <td>00193717-117b-45b6-84dc-2e88026d41ca.html</td>\n",
       "      <td>https://www.yahoo.com/news/clinton-has-the-map...</td>\n",
       "    </tr>\n",
       "    <tr>\n",
       "      <th>2</th>\n",
       "      <td>00272c51-112a-455e-81e4-45b033b05475.html</td>\n",
       "      <td>https://www.yahoo.com/news/definitive-ranking-...</td>\n",
       "    </tr>\n",
       "    <tr>\n",
       "      <th>3</th>\n",
       "      <td>003247be-6972-419b-8b05-8d53a013db55.html</td>\n",
       "      <td>https://www.yahoo.com/news/george-h-w-bush-sli...</td>\n",
       "    </tr>\n",
       "    <tr>\n",
       "      <th>4</th>\n",
       "      <td>003ccc65-6f50-4219-a98d-3515db0986df.html</td>\n",
       "      <td>https://www.yahoo.com/news/lebron-james-hillar...</td>\n",
       "    </tr>\n",
       "  </tbody>\n",
       "</table>\n",
       "</div>"
      ],
      "text/plain": [
       "                                    filename  \\\n",
       "0  00090e25-3aeb-4e0e-abfa-00ea58a6a48d.html   \n",
       "1  00193717-117b-45b6-84dc-2e88026d41ca.html   \n",
       "2  00272c51-112a-455e-81e4-45b033b05475.html   \n",
       "3  003247be-6972-419b-8b05-8d53a013db55.html   \n",
       "4  003ccc65-6f50-4219-a98d-3515db0986df.html   \n",
       "\n",
       "                                                 URL  \n",
       "0  https://www.yahoo.com/news/harry-s-truman-cour...  \n",
       "1  https://www.yahoo.com/news/clinton-has-the-map...  \n",
       "2  https://www.yahoo.com/news/definitive-ranking-...  \n",
       "3  https://www.yahoo.com/news/george-h-w-bush-sli...  \n",
       "4  https://www.yahoo.com/news/lebron-james-hillar...  "
      ]
     },
     "execution_count": 3,
     "metadata": {},
     "output_type": "execute_result"
    }
   ],
   "source": [
    "mapping_file_df = pd.read_csv(csv_file).\\\n",
    "                sort_values(by=['filename', 'URL']).\\\n",
    "                reset_index(drop=True)\n",
    "#mapping_file_df.head()\n"
   ]
  },
  {
   "cell_type": "code",
   "execution_count": 4,
   "metadata": {},
   "outputs": [],
   "source": [
    "crawl_data_dir = '/media/rna/yahoo_crawl_data/Yahoo-20190406T235503Z-001/Yahoo/yahoo/'\n",
    "list_of_html_files = glob.glob('{}/*.html'.format(crawl_data_dir))"
   ]
  },
  {
   "cell_type": "code",
   "execution_count": 21,
   "metadata": {},
   "outputs": [],
   "source": [
    "# Credits: https://stackoverflow.com/a/1983219/756986\n",
    "def tag_visible(element):\n",
    "    if element.parent.name in ['style', 'script', 'head', 'title', 'meta', '[document]']:\n",
    "        return False\n",
    "    if isinstance(element, Comment):\n",
    "        return False\n",
    "    return True\n",
    "\n",
    "\n",
    "def text_from_html(body):\n",
    "    soup = BeautifulSoup(body, 'html.parser')\n",
    "    texts = soup.findAll(text=True)\n",
    "    visible_texts = filter(tag_visible, texts)  \n",
    "    return u\" \".join(t.strip() for t in visible_texts)\n",
    "\n",
    "def is_likely_a_word(string):\n",
    "    return string.isalpha()\n",
    "\n",
    "big = []\n",
    "with open('./yahoo_big.txt', 'w') as fh:\n",
    "    for f in list_of_html_files:\n",
    "        html = open(f).read()\n",
    "        text = text_from_html(html).split()\n",
    "        words = filter(is_likely_a_word, text)\n",
    "        for line in words:\n",
    "            fh.write('{}\\n'.format(line.lower()))\n",
    "            #big = big + list(set(words))\n",
    "            #big = list(set(big))\n",
    "            #fh.write('{}\\n'.format(line.lower()))"
   ]
  }
 ],
 "metadata": {
  "kernelspec": {
   "display_name": "Python 3",
   "language": "python",
   "name": "python3"
  },
  "language_info": {
   "codemirror_mode": {
    "name": "ipython",
    "version": 3
   },
   "file_extension": ".py",
   "mimetype": "text/x-python",
   "name": "python",
   "nbconvert_exporter": "python",
   "pygments_lexer": "ipython3",
   "version": "3.7.1"
  }
 },
 "nbformat": 4,
 "nbformat_minor": 2
}
