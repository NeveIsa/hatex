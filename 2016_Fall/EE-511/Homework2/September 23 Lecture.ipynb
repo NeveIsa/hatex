{
 "cells": [
  {
   "cell_type": "markdown",
   "metadata": {},
   "source": [
    "## Fisher's exact test\n",
    "\n",
    "$p_{i.} = \\frac{n_{i.}}{n}$\n",
    "\n",
    "$p_{ij} = p_{i.}p_{j.}$\n",
    "\n",
    "$O_{ij} = $ Number of observed sample in $(,j)$\n",
    "\n",
    "$\\chi^2 = \\sum_i\\sum_j\\frac{(O_{ij} - E_{ij})^2}{E_{ij}}$"
   ]
  },
  {
   "cell_type": "markdown",
   "metadata": {},
   "source": [
    "## Clustering\n"
   ]
  }
 ],
 "metadata": {
  "kernelspec": {
   "display_name": "Python [Root]",
   "language": "python",
   "name": "Python [Root]"
  },
  "language_info": {
   "codemirror_mode": {
    "name": "ipython",
    "version": 2
   },
   "file_extension": ".py",
   "mimetype": "text/x-python",
   "name": "python",
   "nbconvert_exporter": "python",
   "pygments_lexer": "ipython2",
   "version": "2.7.12"
  }
 },
 "nbformat": 4,
 "nbformat_minor": 0
}
