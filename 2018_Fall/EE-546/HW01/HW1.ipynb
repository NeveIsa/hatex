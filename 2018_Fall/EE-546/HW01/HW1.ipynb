{
 "cells": [
  {
   "cell_type": "code",
   "execution_count": 1,
   "metadata": {},
   "outputs": [
    {
     "name": "stdout",
     "output_type": "stream",
     "text": [
      "Populating the interactive namespace from numpy and matplotlib\n"
     ]
    }
   ],
   "source": [
    "%pylab inline\n",
    "import pandas as pd\n",
    "import seaborn as sns\n",
    "import json\n",
    "from scipy.linalg import norm\n",
    "\n",
    "sns.set_context('paper', font_scale=2)\n",
    "sns.set_style('whitegrid')\n",
    "np.random.seed(42)"
   ]
  },
  {
   "cell_type": "code",
   "execution_count": 2,
   "metadata": {},
   "outputs": [],
   "source": [
    "df = pd.read_csv('data/wdbc.data', header=None)\n",
    "df = df.drop(columns=[0])\n",
    "output = np.array(df.loc[:, 1])\n",
    "df  = df.drop(columns=[1])\n"
   ]
  },
  {
   "cell_type": "code",
   "execution_count": 3,
   "metadata": {},
   "outputs": [
    {
     "data": {
      "text/plain": [
       "(569, 30)"
      ]
     },
     "execution_count": 3,
     "metadata": {},
     "output_type": "execute_result"
    }
   ],
   "source": [
    "df.shape"
   ]
  },
  {
   "cell_type": "code",
   "execution_count": 4,
   "metadata": {},
   "outputs": [
    {
     "name": "stderr",
     "output_type": "stream",
     "text": [
      "/home/cmb-panasas2/skchoudh/software_frozen/anaconda27/envs/riboraptor/lib/python3.5/site-packages/ipykernel_launcher.py:1: FutureWarning: Method .as_matrix will be removed in a future version. Use .values instead.\n",
      "  \"\"\"Entry point for launching an IPython kernel.\n"
     ]
    }
   ],
   "source": [
    "df_matrix = df.as_matrix()"
   ]
  },
  {
   "cell_type": "code",
   "execution_count": 5,
   "metadata": {},
   "outputs": [
    {
     "data": {
      "text/plain": [
       "1056474.4596355997"
      ]
     },
     "execution_count": 5,
     "metadata": {},
     "output_type": "execute_result"
    }
   ],
   "source": [
    "np.sum(df_matrix)"
   ]
  },
  {
   "cell_type": "markdown",
   "metadata": {},
   "source": [
    "# Normalize"
   ]
  },
  {
   "cell_type": "code",
   "execution_count": 6,
   "metadata": {},
   "outputs": [],
   "source": [
    "df_normalized = df_matrix - df_matrix.mean()\n",
    "df_normalized = df_normalized/np.sqrt((df_normalized * df_normalized).sum(axis=1))[:, np.newaxis]"
   ]
  },
  {
   "cell_type": "code",
   "execution_count": 7,
   "metadata": {},
   "outputs": [
    {
     "data": {
      "text/plain": [
       "array([[-0.01998381, -0.02344792,  0.02772619, ..., -0.02805213,\n",
       "        -0.0279635 , -0.02811882],\n",
       "       [-0.01797171, -0.01918952,  0.03088423, ..., -0.02683737,\n",
       "        -0.02679866, -0.02687955],\n",
       "       [-0.0208045 , -0.02003544,  0.03357715, ..., -0.03039166,\n",
       "        -0.03033334, -0.03046828],\n",
       "       ...,\n",
       "       [-0.03326271, -0.02483149,  0.03408422, ..., -0.04535005,\n",
       "        -0.04529129, -0.04539676],\n",
       "       [-0.01915379, -0.01510415,  0.03627945, ..., -0.02858672,\n",
       "        -0.02852006, -0.02865213],\n",
       "       [-0.141273  , -0.09747973, -0.03646145, ..., -0.16152542,\n",
       "        -0.16077614, -0.16134172]])"
      ]
     },
     "execution_count": 7,
     "metadata": {},
     "output_type": "execute_result"
    }
   ],
   "source": [
    "df_normalized"
   ]
  },
  {
   "cell_type": "markdown",
   "metadata": {},
   "source": [
    "# Problem (a), (b)\n",
    "\n",
    "In all of our experiments we will perform 100 random partitions of the data for\n",
    "train/test and then report the final result as the average over these tria\n",
    "\n",
    "\\begin{align*}\n",
    "(\\hat{w}, \\hat{b}) &= \\text{arg} \\min_{w,b} f(\\vec{w}, b) := \\frac{1}{N} \\sum_{i=1}^N -y_i(\\vec{w}^T\\vec{x}_i + b) + \\log(1+ \\exp{(\\vec{w}^T\\vec{x}_i + b)} + \\frac{\\lambda^2}{2N} ||\\vec{w}||_{l_2}^2\n",
    "\\end{align*}\n",
    "\n",
    "Consider the derivatives:\n",
    "\n",
    "\\begin{align}\n",
    "\\frac{\\partial f(\\vec{w}, b)}{\\partial b} &= \\frac{1}{N} \\sum_{i=1}^N -y_i + \\frac{\\exp{(\\vec{w}^T\\vec{x}_i + b)}}{1+ \\exp{(\\vec{w}^T\\vec{x}_i + b)}}\\\\\n",
    "&= \\frac{1}{N} \\sum_{i=1}^N \\frac{1}{1+ \\exp{(-(\\vec{w}^T\\vec{x}_i + b))}}-y_i\n",
    "\\end{align}\n",
    "\n",
    "For $j \\geq 1$ and learning rate $\\mu$:\n",
    "\n",
    "\\begin{align}\n",
    "\\frac{\\partial f(\\vec{w}, b)}{\\partial w_j} &= \\frac{1}{N} \\sum_{i=1}^N -y_i(x_j) + \\frac{\\exp{(\\vec{w}^T\\vec{x}_i + b)}}{1+ \\exp{(\\vec{w}^T\\vec{x}_i + b)}}x_j + \\frac{\\lambda}{N} w_j\\\\ \n",
    "&=  \\sum_{i=1}^N \\big(\\frac{1}{1+ \\exp{(-(\\vec{w}^T\\vec{x}_i + b))}}-y_i\\big)x_j + \\frac{\\lambda}{N}w_j\n",
    "\\end{align}\n",
    "\n",
    "Gradient descent:\n",
    "\n",
    "\\begin{align*}\n",
    "b^{(t+1)} &= b^{(t)} - \\frac{\\mu}{N} \\sum_{i=1}^N \\big(\\frac{1}{1+ \\exp{(-(\\vec{w}^T\\vec{x}_i + b))}}-y_i\\big)\\\\\n",
    "w^{(t+1)}_j &= w^{(t)}_j - \\frac{\\mu}{N} \\sum_{i=1}^N \\big(\\frac{1}{1+ \\exp{(-(\\vec{w}^T\\vec{x}_i + b))}}-y_i\\big)x_{ij} + \\frac{\\lambda}{N}w_j^{(t)}\\\\\n",
    "\\end{align*}\n",
    "\n",
    "where $x_{ij}$ refers to the $j^{th}$ feature of the $i^{th}$ sample. In our case.\n",
    "$1 \\leq j \\leq 30$ and $i$ ranges over the number of samples.\n",
    "\n",
    "\n",
    "This looks super confusing, let's resort to matrix notations., We construct an augmented matrix $X$ by appending a column of 1s in the beginning that will capture $b$.\n",
    "\n",
    "$X = \\begin{pmatrix}1 & x_{11} & x_{12} & \\cdots & x_{1M}\\\\\n",
    "1 & x_{21} & x_{22} & \\cdots & x_{2M}\\\\\n",
    "\\vdots\\\\\n",
    "1 & x_{N1} & x_{N2} & \\cdots & x_{NM}\\\\\n",
    "\\end{pmatrix}_{N\\times(M+1)}$\n",
    "\n",
    "Our iteration vector is $\\vec{w}_{1\\times(M+1)} = \\begin{pmatrix} b \\\\ w_1 \\\\ w_2 \\\\ \\vdots \\\\ w_M \\end{pmatrix}_{(M+1)\\times 1}$, thus $X\\vec{w}$ has dimensions $N \\times 1$ which is same as our target vector $\\vec{y}$\n",
    "\n",
    "Let's also define an augmented  vector $\\vec{v} = \\begin{pmatrix} 0 \\\\ w_1 \\\\ w_2 \\\\ \\vdots \\\\ w_M \\end{pmatrix}_{(M+1)\\times 1}$\n",
    "\n",
    "And the update simplifies to:\n",
    "\n",
    "\\begin{align*}\n",
    "\\vec{w}_{(M+1)\\times 1}^{(t+1)} &= \\vec{w}^{(t+1)}_{(M+1)\\times 1} - \\frac{\\mu}{N} X^T(X\\vec{w}^{(t+1)}-\\vec{y}) + \\frac{\\lambda}{M} \\vec{v}^{t}\n",
    "\\end{align*}\n"
   ]
  },
  {
   "cell_type": "code",
   "execution_count": 8,
   "metadata": {},
   "outputs": [],
   "source": [
    "def split_train_test(X, y, n_train=500):\n",
    "    nrows = X.shape[0]\n",
    "    indices = numpy.random.permutation(nrows)\n",
    "    training_idx, test_idx = indices[:n_train], indices[n_train:]\n",
    "    X_train, X_test = X[training_idx,:], X[test_idx,:]\n",
    "    y_train, y_test = y[training_idx], y[test_idx]\n",
    "    return (X_train, y_train, X_test, y_test)\n"
   ]
  },
  {
   "cell_type": "code",
   "execution_count": 64,
   "metadata": {},
   "outputs": [],
   "source": [
    "\n",
    "X_train = []\n",
    "y_train = []\n",
    "\n",
    "X_test = []\n",
    "y_test = []\n",
    "\n",
    "N_iter = 100\n",
    "lamda_w = 0.01\n",
    "T = 500\n",
    "\n",
    "for i in range(N_iter):\n",
    "    train_x, train_label, test_x, test_label = split_train_test(df_normalized, output)\n",
    "    X_train.append(train_x)\n",
    "    y_train.append(train_label)\n",
    "    X_test.append(test_x)\n",
    "    y_test.append(test_label)\n",
    "\n",
    "def sigmoid(z):\n",
    "    return 1/(1+np.exp(-z))\n",
    "\n",
    "\n",
    "def calc_error(z, y_true):\n",
    "    y_predicted = sigmoid(z)\n",
    "    y_predicted[y_predicted>=0.5] = 1\n",
    "    y_predicted[y_predicted<0.5] = 0\n",
    "    return np.mean(np.abs(y_predicted-y_true))\n",
    "\n",
    "def calc_misclassified(z, y_true):\n",
    "    y_predicted = sigmoid(z)\n",
    "    y_predicted[y_predicted>=0.5] = 1\n",
    "    y_predicted[y_predicted<0.5] = 0\n",
    "    return np.sum(np.abs(y_predicted-y_true))\n",
    "\n",
    "\n",
    "\n",
    "def logistic_regression(X, y, \n",
    "                        X_test=None, \n",
    "                        y_test=None, \n",
    "                        num_steps=500, \n",
    "                        learning_rate=1e-6, \n",
    "                        regularizer_lambda=0.01):\n",
    "    intercept = np.ones((X.shape[0], 1))\n",
    "    X = np.hstack((intercept, X))\n",
    "    if X_test is not None:\n",
    "        intercept = np.ones((X_test.shape[0], 1))\n",
    "        X_test= np.hstack((intercept, X_test))\n",
    "    weights = np.zeros(X.shape[1])\n",
    "    regularization_indicator = np.ones(X.shape[1])\n",
    "    regularization_indicator[0] =  0\n",
    "    regularization_weights = np.multiply(regularization_indicator, weights)\n",
    "    training_errors = []\n",
    "    training_misclassified = []\n",
    "    testing_errors = []\n",
    "    testing_misclassified = []\n",
    "    for step in range(num_steps):\n",
    "        scores = np.dot(X, weights)\n",
    "        predictions = sigmoid(scores)\n",
    "        error = predictions - y\n",
    "        gradient = np.dot(X.T, error)\n",
    "        regularization_weights = np.multiply(regularization_indicator, weights)\n",
    "        regularization = regularizer_lambda * regularization_weights\n",
    "\n",
    "        weights = weights - (learning_rate * gradient) + regularization\n",
    "        \n",
    "        if y_test is not None:\n",
    "            scores_test = np.dot(X_test, weights)\n",
    "            testing_error = calc_error(scores_test, y_test)\n",
    "            testing_errors.append(testing_error)\n",
    "            testing_misclassified.append(calc_misclassified(scores_test, y_test))\n",
    "            \n",
    "        training_error = calc_error(scores, y)\n",
    "        training_errors.append(training_error)\n",
    "        training_misclassified.append(calc_misclassified(scores, y))\n",
    "        \n",
    "    return weights, training_errors, testing_errors, training_misclassified, testing_misclassified\n",
    "\n",
    "def log_likelihood(X, y, weights, regularizer_lambda):\n",
    "    scores = np.dot(X, weights)\n",
    "    ll = np.sum( -y*scores + np.log(1 + np.exp(scores)) ) + regularizer_lambda * norm(weights, 2)**2\n",
    "    return ll\n",
    "\n",
    "def logistic_regression_convergence(X, y, \n",
    "                                    X_test=None, \n",
    "                                    y_test=None, \n",
    "                                    max_error=1e-5, \n",
    "                                    learning_rate=1e-6, \n",
    "                                    regularizer_lambda=0.01,\n",
    "                                    momentum=None,\n",
    "                                    eta=0.1):\n",
    "    intercept = np.ones((X.shape[0], 1))\n",
    "    X = np.hstack((intercept, X))\n",
    "    if X_test is not None:\n",
    "        intercept = np.ones((X_test.shape[0], 1))\n",
    "        X_test= np.hstack((intercept, X_test))\n",
    "    weights = np.zeros(X.shape[1])\n",
    "    regularization_indicator = np.ones(X.shape[1])\n",
    "    regularization_indicator[0] =  0\n",
    "    regularization_weights = np.multiply(regularization_indicator, weights)\n",
    "    training_errors = []\n",
    "    training_misclassified = []\n",
    "    testing_errors = []\n",
    "    testing_misclassified = []\n",
    "    error_ratio = 1e5\n",
    "    steps = 0\n",
    "    weights_t = [weights]\n",
    "    \n",
    "    while error_ratio > max_error:\n",
    "        steps += 1\n",
    "        scores = np.dot(X, weights)\n",
    "        predictions = sigmoid(scores)\n",
    "        error = predictions - y\n",
    "        gradient = np.dot(X.T, error)\n",
    "        regularization_weights = np.multiply(regularization_indicator, weights)\n",
    "        regularization = regularizer_lambda * regularization_weights\n",
    "\n",
    "        if momentum is None:\n",
    "            weights = weights - (learning_rate * gradient) + regularization\n",
    "        elif momentum is 'heavy_ball':\n",
    "            old_weights = weights.copy()\n",
    "            if steps>=2:\n",
    "                weights = weights - (learning_rate * gradient) + regularization + eta * (weights_t[steps-1]-weights_t[steps-2])\n",
    "            else:\n",
    "                weights = weights - (learning_rate * gradient) + regularization \n",
    "        elif momentum is 'nesterov':            \n",
    "            if steps>=2:\n",
    "                scores = np.dot(X, weights+eta*(weights_t[steps-1]-weights_t[steps-2]))\n",
    "                predictions = sigmoid(scores)\n",
    "                error = predictions - y\n",
    "                gradient = np.dot(X.T, error)\n",
    "                regularization_weights = np.multiply(regularization_indicator, weights)\n",
    "                regularization = regularizer_lambda * regularization_weights\n",
    "                weights = weights - (learning_rate * gradient) + regularization + eta * (weights_t[steps-1]-weights_t[steps-2])\n",
    "            else:\n",
    "                weights = weights - (learning_rate * gradient) + regularization \n",
    "            \n",
    "        weights_t.append(weights)\n",
    "        if steps%20 == 0:\n",
    "            print(error_ratio)\n",
    "        ll = log_likelihood(X, y, weights, regularizer_lambda)\n",
    "        error_ratio = norm(gradient, 2)**2/(1+ll)\n",
    "        if y_test is not None:\n",
    "            scores_test = np.dot(X_test, weights)\n",
    "            testing_error = calc_error(scores_test, y_test)\n",
    "            testing_errors.append(testing_error)\n",
    "            testing_misclassified.append(calc_misclassified(scores_test, y_test))\n",
    "            \n",
    "        training_error = calc_error(scores, y)\n",
    "        training_errors.append(training_error)\n",
    "        training_misclassified.append(calc_misclassified(scores, y))\n",
    "        \n",
    "    return weights, training_errors, testing_errors, training_misclassified, testing_misclassified, steps"
   ]
  },
  {
   "cell_type": "code",
   "execution_count": 43,
   "metadata": {},
   "outputs": [
    {
     "name": "stderr",
     "output_type": "stream",
     "text": [
      "/home/cmb-panasas2/skchoudh/software_frozen/anaconda27/envs/riboraptor/lib/python3.5/site-packages/ipykernel_launcher.py:20: RuntimeWarning: overflow encountered in exp\n"
     ]
    }
   ],
   "source": [
    "weights, training_errors, testing_errors, training_misclassified, testing_misclassified = logistic_regression(X_train[0], y_train[0], X_test[0], y_test[0], num_steps=500, learning_rate=0.01,\n",
    "                                                               regularizer_lambda=0.01)"
   ]
  },
  {
   "cell_type": "code",
   "execution_count": 49,
   "metadata": {},
   "outputs": [
    {
     "name": "stdout",
     "output_type": "stream",
     "text": [
      "10.079960212317271\n",
      "28.015064840338905\n",
      "0.3969189314694756\n",
      "0.007365925139578129\n",
      "0.005611298357309041\n",
      "0.004190416916854821\n",
      "0.0030744379348269747\n",
      "0.0022223543540403463\n",
      "0.0015875881213184494\n",
      "0.0011242050822494979\n",
      "0.0007909340456504745\n",
      "0.0005535859454052167\n",
      "0.00038566623236605517\n",
      "0.0002675018174683242\n",
      "0.0001847690354929143\n",
      "0.00012712457132987355\n",
      "8.714828276659822e-05\n",
      "5.9549660981283686e-05\n",
      "4.057553638299984e-05\n"
     ]
    },
    {
     "name": "stderr",
     "output_type": "stream",
     "text": [
      "/home/cmb-panasas2/skchoudh/software_frozen/anaconda27/envs/riboraptor/lib/python3.5/site-packages/ipykernel_launcher.py:20: RuntimeWarning: overflow encountered in exp\n",
      "/home/cmb-panasas2/skchoudh/software_frozen/anaconda27/envs/riboraptor/lib/python3.5/site-packages/ipykernel_launcher.py:80: RuntimeWarning: overflow encountered in exp\n"
     ]
    }
   ],
   "source": [
    "weights, training_errors, testing_errors, training_misclassified, testing_misclassified, steps = logistic_regression_convergence(X_train[0], y_train[0], X_test[0], y_test[0], max_error=1e-5, learning_rate=0.1,\n",
    "                                                               regularizer_lambda=0.01)"
   ]
  },
  {
   "cell_type": "code",
   "execution_count": 50,
   "metadata": {},
   "outputs": [
    {
     "data": {
      "text/plain": [
       "383"
      ]
     },
     "execution_count": 50,
     "metadata": {},
     "output_type": "execute_result"
    }
   ],
   "source": [
    "steps"
   ]
  },
  {
   "cell_type": "code",
   "execution_count": 59,
   "metadata": {},
   "outputs": [
    {
     "name": "stdout",
     "output_type": "stream",
     "text": [
      "1.0820412050732586\n",
      "0.0014723607134279925\n"
     ]
    },
    {
     "name": "stderr",
     "output_type": "stream",
     "text": [
      "/home/cmb-panasas2/skchoudh/software_frozen/anaconda27/envs/riboraptor/lib/python3.5/site-packages/ipykernel_launcher.py:20: RuntimeWarning: overflow encountered in exp\n",
      "/home/cmb-panasas2/skchoudh/software_frozen/anaconda27/envs/riboraptor/lib/python3.5/site-packages/ipykernel_launcher.py:80: RuntimeWarning: overflow encountered in exp\n"
     ]
    }
   ],
   "source": [
    "weights, training_errors, testing_errors, training_misclassified, testing_misclassified, steps = logistic_regression_convergence(X_train[0], y_train[0], X_test[0], y_test[0], \n",
    "                                                                                                                                 max_error=1e-5, learning_rate=0.1,\n",
    "                                                                                                                                 regularizer_lambda=0.01,\n",
    "                                                                                                                                 momentum='heavy_ball',\n",
    "                                                                                                                                 eta=0.9)"
   ]
  },
  {
   "cell_type": "code",
   "execution_count": 60,
   "metadata": {},
   "outputs": [
    {
     "data": {
      "text/plain": [
       "57"
      ]
     },
     "execution_count": 60,
     "metadata": {},
     "output_type": "execute_result"
    }
   ],
   "source": [
    "steps"
   ]
  },
  {
   "cell_type": "code",
   "execution_count": 65,
   "metadata": {},
   "outputs": [
    {
     "name": "stdout",
     "output_type": "stream",
     "text": [
      "0.0019035639968604705\n",
      "0.00020965438351603025\n"
     ]
    },
    {
     "name": "stderr",
     "output_type": "stream",
     "text": [
      "/home/cmb-panasas2/skchoudh/software_frozen/anaconda27/envs/riboraptor/lib/python3.5/site-packages/ipykernel_launcher.py:20: RuntimeWarning: overflow encountered in exp\n",
      "/home/cmb-panasas2/skchoudh/software_frozen/anaconda27/envs/riboraptor/lib/python3.5/site-packages/ipykernel_launcher.py:80: RuntimeWarning: overflow encountered in exp\n"
     ]
    },
    {
     "data": {
      "text/plain": [
       "52"
      ]
     },
     "execution_count": 65,
     "metadata": {},
     "output_type": "execute_result"
    }
   ],
   "source": [
    "weights, training_errors, testing_errors, training_misclassified, testing_misclassified, steps = logistic_regression_convergence(X_train[0], y_train[0], X_test[0], y_test[0], \n",
    "                                                                                                                                 max_error=1e-5, learning_rate=0.1,\n",
    "                                                                                                                                 regularizer_lambda=0.01,\n",
    "                                                                                                                                 momentum='nesterov',\n",
    "                                                                                                                                 eta=0.9)\n",
    "steps"
   ]
  },
  {
   "cell_type": "code",
   "execution_count": 46,
   "metadata": {},
   "outputs": [
    {
     "data": {
      "text/plain": [
       "0.37"
      ]
     },
     "execution_count": 46,
     "metadata": {},
     "output_type": "execute_result"
    }
   ],
   "source": [
    "training_errors[-1]"
   ]
  },
  {
   "cell_type": "code",
   "execution_count": 51,
   "metadata": {},
   "outputs": [
    {
     "data": {
      "image/png": "[encoded data removed]",
      "text/plain": [
       "<Figure size 864x720 with 1 Axes>"
      ]
     },
     "metadata": {
      "needs_background": "light"
     },
     "output_type": "display_data"
    }
   ],
   "source": [
    "fig, ax = plt.subplots(figsize=(12,10))\n",
    "ax.plot(training_errors, label='Training Error')\n",
    "ax.plot(testing_errors, label='Testing Error')\n",
    "ax.set_title('Error vs iteration')\n",
    "ax.set_xlabel('Iteration #')\n",
    "ax.set_ylabel('Error')\n",
    "ax.legend()\n",
    "fig.tight_layout()"
   ]
  },
  {
   "cell_type": "code",
   "execution_count": null,
   "metadata": {},
   "outputs": [],
   "source": [
    "fig, ax = plt.subplots(figsize=(12,10))\n",
    "ax.plot(training_misclassified, label='Training Error')\n",
    "ax.plot(testing_misclassified, label='Testing Error')\n",
    "ax.set_title('Error vs iteration')\n",
    "ax.set_xlabel('Iteration #')\n",
    "ax.set_ylabel('Error')\n",
    "ax.legend()\n",
    "fig.tight_layout()"
   ]
  },
  {
   "cell_type": "markdown",
   "metadata": {},
   "source": [
    "# Problem (c)\n",
    "Now that we have normalized data, partition it into train/test sets at random 100 times\n",
    "as discussed earlier. In each trial learn the model by solving (1) with λ = 0.01. To\n",
    "due this run gradient descent for T = 500 iterations and then use the trained model to\n",
    "make predictions on the test data and calculate the average error (average number of\n",
    "miss-classified patients on the test data) for each trial. Report the average over the 100\n",
    "trials. The value of the step size you use does not matter too much. However, make sure\n",
    "that the algorithm has converged"
   ]
  },
  {
   "cell_type": "markdown",
   "metadata": {},
   "source": [
    "# Problem (d)\n",
    "\n",
    "Perform the experiment with the same step size you used before but now report the\n",
    "number of iterations it takes to get to an accuracy of 10−6\n",
    "calculated via the first iteration t when the following inequality holds\n",
    "$||f(w_t, b_t)||^2_{l_2} \\leq 10^{−6}(1 + |f(w_t, b_t)|)$\n",
    "\n",
    "The number you should report is the average of this number over the 100 trials"
   ]
  },
  {
   "cell_type": "markdown",
   "metadata": {},
   "source": [
    "# Problem (e)\n",
    "\n",
    "Perform the experiment of part (d) but now add a momentum term (1) using the heavy\n",
    "ball method and (2) using Nesterov’s accelerated scheme. In both cases keep the same\n",
    "step size as part (d) but fine tune the momentum parameter to get the smallest number\n",
    "of iterations for convergence based on the stopping criteria (2) (again averaged over the\n",
    "100 trials). Draw the convergence of the three algorithms gradient descent, heavy ball,\n",
    "Nesterov’s accelerated scheme for one trial. That is, draw the ratio\n",
    "k∇f(wt, bt)k2`2(1 + |f(wt, bt)|) as a function of the iteration number t = 1, 2, . . . , 500. Which algorithm would you use\n",
    "and why"
   ]
  },
  {
   "cell_type": "code",
   "execution_count": null,
   "metadata": {},
   "outputs": [],
   "source": []
  }
 ],
 "metadata": {
  "kernelspec": {
   "display_name": "Python (riboraptor_clean)",
   "language": "python",
   "name": "riboraptor_clean"
  },
  "language_info": {
   "codemirror_mode": {
    "name": "ipython",
    "version": 3
   },
   "file_extension": ".py",
   "mimetype": "text/x-python",
   "name": "python",
   "nbconvert_exporter": "python",
   "pygments_lexer": "ipython3",
   "version": "3.5.5"
  }
 },
 "nbformat": 4,
 "nbformat_minor": 2
}
