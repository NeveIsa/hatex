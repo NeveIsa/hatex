{
 "cells": [
  {
   "cell_type": "code",
   "execution_count": 28,
   "metadata": {},
   "outputs": [],
   "source": [
    "load('aca2.mat')\n",
    "X = transpose(X);\n",
    "s = transpose(s);"
   ]
  },
  {
   "cell_type": "code",
   "execution_count": 29,
   "metadata": {},
   "outputs": [
    {
     "name": "stdout",
     "output_type": "stream",
     "text": [
      "\n",
      "ans =\n",
      "\n",
      "        2204          42\n",
      "\n"
     ]
    }
   ],
   "source": [
    "size(X)"
   ]
  },
  {
   "cell_type": "code",
   "execution_count": null,
   "metadata": {},
   "outputs": [],
   "source": []
  },
  {
   "cell_type": "code",
   "execution_count": 30,
   "metadata": {},
   "outputs": [
    {
     "name": "stdout",
     "output_type": "stream",
     "text": [
      "\n",
      "ans =\n",
      "\n",
      "        2204           1\n",
      "\n"
     ]
    }
   ],
   "source": [
    "size(s)"
   ]
  },
  {
   "cell_type": "code",
   "execution_count": 31,
   "metadata": {},
   "outputs": [
    {
     "name": "stdout",
     "output_type": "stream",
     "text": [
      "\n",
      "ans =\n",
      "\n",
      "    1.0000\n",
      "    1.0000\n",
      "\n"
     ]
    }
   ],
   "source": [
    "a = [1 2 3; 4 5 6];\n",
    "a_row_norm = sqrt(sum(a.^2,2));\n",
    "a_normalized = bsxfun(@rdivide, a, a_row_norm); \n",
    "sqrt(sum(a_normalized.^2,2))\n"
   ]
  },
  {
   "cell_type": "code",
   "execution_count": 32,
   "metadata": {},
   "outputs": [],
   "source": [
    "X_truncated = X(1:2:end, :);\n",
    "s_truncated = s(1:2:end);\n"
   ]
  },
  {
   "cell_type": "code",
   "execution_count": 38,
   "metadata": {},
   "outputs": [],
   "source": [
    "X_col_norm = sqrt(sum(X_truncated.^2,1)); \n",
    "X_truncated = bsxfun(@rdivide,X_truncated, X_col_norm); \n",
    "X_col_norm = reshape(X_col_norm,[],1);\n",
    "X_truncated(isnan(X_truncated)) = 0;\n"
   ]
  },
  {
   "cell_type": "code",
   "execution_count": 39,
   "metadata": {},
   "outputs": [
    {
     "name": "stdout",
     "output_type": "stream",
     "text": [
      "\n",
      "x =\n",
      "\n",
      "        1102\n",
      "\n"
     ]
    }
   ],
   "source": [
    "x = size(X_truncated,1 )"
   ]
  },
  {
   "cell_type": "code",
   "execution_count": 40,
   "metadata": {},
   "outputs": [],
   "source": [
    "gamma =1 ;\n",
    "k = 2;"
   ]
  },
  {
   "cell_type": "code",
   "execution_count": 43,
   "metadata": {},
   "outputs": [],
   "source": [
    "K = zeros(size(X_truncated, 1), size(X_truncated, 1));\n",
    "for i=1:size(X_truncated,1)\n",
    "    for j=1:size(X_truncated,1)\n",
    "        K(i,j) = exp(-gamma* (norm( X_truncated(i, :) - X_truncated(j, :), 2).^2) );\n",
    "    end\n",
    "end     "
   ]
  },
  {
   "cell_type": "code",
   "execution_count": 44,
   "metadata": {},
   "outputs": [],
   "source": [
    "K_maxk = maxk(K, k);\n",
    "W = K;\n",
    "for i=1:size(X_truncated,1)\n",
    "    for j=1:size(X_truncated,1)\n",
    "        if K(i,j) < min(K_maxk(:, j))\n",
    "            W(i,j) = 0;\n",
    "        end\n",
    "    end\n",
    "end"
   ]
  },
  {
   "cell_type": "code",
   "execution_count": 45,
   "metadata": {},
   "outputs": [],
   "source": [
    "W = (W+transpose(W))/2;"
   ]
  },
  {
   "cell_type": "code",
   "execution_count": 48,
   "metadata": {},
   "outputs": [],
   "source": [
    "D = diag(W*ones(size(W,1),1));"
   ]
  },
  {
   "cell_type": "code",
   "execution_count": 49,
   "metadata": {},
   "outputs": [],
   "source": [
    "I = eye(size(W,1));"
   ]
  },
  {
   "cell_type": "code",
   "execution_count": 50,
   "metadata": {},
   "outputs": [],
   "source": [
    "laplacian_unnormalized = D-W;\n",
    "laplacian_normalized = I-W;\n",
    "laplacian_rw = I-inv(D)*W;\n",
    "\n",
    "\n"
   ]
  },
  {
   "cell_type": "code",
   "execution_count": 51,
   "metadata": {},
   "outputs": [],
   "source": [
    "[V1, D1] = eigs(laplacian_unnormalized, k);\n",
    "[V2, D2] = eigs(laplacian_normalized, k);\n",
    "[V3, D3] = eigs(laplacian_rw, k);\n"
   ]
  },
  {
   "cell_type": "code",
   "execution_count": 52,
   "metadata": {},
   "outputs": [],
   "source": [
    "V1_row_norm = sqrt(sum(V1.^2,2));\n",
    "Y1 = bsxfun(@rdivide, V1, V1_row_norm);\n",
    "\n",
    "V2_row_norm = sqrt(sum(V2.^2,2));\n",
    "Y2 = bsxfun(@rdivide, V2, V2_row_norm);\n",
    "\n",
    "V3_row_norm = sqrt(sum(V3.^2,2));\n",
    "Y3 = bsxfun(@rdivide, V3, V3_row_norm);\n"
   ]
  },
  {
   "cell_type": "code",
   "execution_count": 53,
   "metadata": {},
   "outputs": [],
   "source": [
    "idx1 = kmeans(Y1, k);"
   ]
  },
  {
   "cell_type": "code",
   "execution_count": 54,
   "metadata": {},
   "outputs": [],
   "source": [
    "idx2 = kmeans(Y2, k);\n",
    "idx3 = kmeans(Y3, k);"
   ]
  },
  {
   "cell_type": "code",
   "execution_count": 56,
   "metadata": {},
   "outputs": [
    {
     "name": "stdout",
     "output_type": "stream",
     "text": [
      "\n",
      "ans =\n",
      "\n",
      "        1102           1\n",
      "\n"
     ]
    }
   ],
   "source": [
    "size(idx1)"
   ]
  },
  {
   "cell_type": "code",
   "execution_count": 57,
   "metadata": {},
   "outputs": [
    {
     "name": "stdout",
     "output_type": "stream",
     "text": [
      "\n",
      "ans =\n",
      "\n",
      "    0.7740\n",
      "    0.7541\n",
      "    0.7713\n",
      "\n"
     ]
    }
   ],
   "source": [
    "Misclassification([idx1 idx2 idx3], s_truncated)"
   ]
  },
  {
   "cell_type": "code",
   "execution_count": null,
   "metadata": {},
   "outputs": [],
   "source": []
  }
 ],
 "metadata": {
  "kernelspec": {
   "display_name": "Matlab",
   "language": "matlab",
   "name": "matlab"
  },
  "language_info": {
   "codemirror_mode": "octave",
   "file_extension": ".m",
   "help_links": [
    {
     "text": "MetaKernel Magics",
     "url": "https://github.com/calysto/metakernel/blob/master/metakernel/magics/README.md"
    }
   ],
   "mimetype": "text/x-octave",
   "name": "matlab",
   "version": "0.15.2"
  }
 },
 "nbformat": 4,
 "nbformat_minor": 2
}
