{
 "cells": [
  {
   "cell_type": "code",
   "execution_count": 62,
   "metadata": {},
   "outputs": [],
   "source": [
    "load('aca2.mat')\n",
    "X = transpose(X);\n",
    "s = transpose(s);"
   ]
  },
  {
   "cell_type": "code",
   "execution_count": 63,
   "metadata": {},
   "outputs": [
    {
     "name": "stdout",
     "output_type": "stream",
     "text": [
      "\n",
      "ans =\n",
      "\n",
      "        2204          42\n",
      "\n"
     ]
    }
   ],
   "source": [
    "size(X)"
   ]
  },
  {
   "cell_type": "code",
   "execution_count": 64,
   "metadata": {},
   "outputs": [
    {
     "name": "stdout",
     "output_type": "stream",
     "text": [
      "\n",
      "ans =\n",
      "\n",
      "        2204           1\n",
      "\n"
     ]
    }
   ],
   "source": [
    "size(s)"
   ]
  },
  {
   "cell_type": "code",
   "execution_count": 65,
   "metadata": {},
   "outputs": [
    {
     "name": "stdout",
     "output_type": "stream",
     "text": [
      "\n",
      "ans =\n",
      "\n",
      "    1.0000\n",
      "    1.0000\n",
      "\n"
     ]
    }
   ],
   "source": [
    "a = [1 2 3; 4 5 6];\n",
    "a_row_norm = sqrt(sum(a.^2,2));\n",
    "a_normalized = bsxfun(@rdivide, a, a_row_norm); \n",
    "sqrt(sum(a_normalized.^2,2))\n"
   ]
  },
  {
   "cell_type": "code",
   "execution_count": 66,
   "metadata": {},
   "outputs": [],
   "source": [
    "X_truncated = X(1:2:end, :);\n",
    "s_truncated = s(1:2:end);\n"
   ]
  },
  {
   "cell_type": "code",
   "execution_count": 67,
   "metadata": {},
   "outputs": [],
   "source": [
    "X_col_norm = sqrt(sum(X_truncated.^2,1)); \n",
    "X_truncated = bsxfun(@rdivide,X_truncated, X_col_norm); \n",
    "X_col_norm = reshape(X_col_norm,[],1);\n",
    "X_truncated(isnan(X_truncated)) = 0;\n"
   ]
  },
  {
   "cell_type": "code",
   "execution_count": null,
   "metadata": {},
   "outputs": [],
   "source": [
    "gamma =1 ;\n",
    "k = 2;\n",
    "min_error =  1e9;\n",
    "min_gamma = 1;\n",
    "min_k = 2;\n",
    "\n",
    "errors_laplacian_unnormalized = zeros(100, 49);\n",
    "errors_laplacian_normalized = zeros(100, 49);\n",
    "errors_laplacian_rw = zeros(100, 49);\n",
    "\n",
    "errors_minimum = zeros(100, 49);\n",
    "errors_minimum_index = zeros(100, 49);\n",
    "\n",
    "for gamma=1:100    \n",
    "    for k=2:50\n",
    "       [idx1, idx2, idx3] = SpectralClustering(gamma, k, X_truncated);\n",
    "       missclassification_error = Misclassification([idx1 idx2 idx3], s_truncated);\n",
    "       [min_value, min_index] = min(missclassification_error);\n",
    "       if min_value < min_error\n",
    "           min_error = min_value;\n",
    "           min_gamma = gamma;\n",
    "           min_k = k;\n",
    "        end\n",
    "       errors_laplacian_unnormalized(gamma, k-1) =  missclassification_error(1);\n",
    "       errors_laplacian_normalized(gamma, k-1) =  missclassification_error(2);\n",
    "       errors_laplacian_rw(gamma, k-1) =  missclassification_error(3);\n",
    "       \n",
    "       errors_minimum(gamma, k-1) = min_value;\n",
    "       errors_minimum_index(gamma, k-1) = min_index;\n",
    "    end     \n",
    "end\n",
    "    "
   ]
  },
  {
   "cell_type": "code",
   "execution_count": 80,
   "metadata": {},
   "outputs": [
    {
     "name": "stdout",
     "output_type": "stream",
     "text": [
      "\n",
      "x = \n",
      "\n",
      "  Map with properties:\n",
      "\n",
      "        Count: 1\n",
      "      KeyType: char\n",
      "    ValueType: any\n",
      "\n"
     ]
    }
   ],
   "source": [
    "x = containers.Map();\n",
    "x('test') = [1 2 3]"
   ]
  },
  {
   "cell_type": "code",
   "execution_count": 83,
   "metadata": {},
   "outputs": [
    {
     "name": "stdout",
     "output_type": "stream",
     "text": [
      "\n",
      "ans =\n",
      "\n",
      "     1     2     3\n",
      "\n"
     ]
    }
   ],
   "source": [
    "x('test')"
   ]
  },
  {
   "cell_type": "code",
   "execution_count": 76,
   "metadata": {},
   "outputs": [
    {
     "name": "stdout",
     "output_type": "stream",
     "text": [
      "\n",
      "min_error =\n",
      "\n",
      "    0.2250\n",
      "\n"
     ]
    }
   ],
   "source": [
    "min_error"
   ]
  },
  {
   "cell_type": "code",
   "execution_count": 77,
   "metadata": {},
   "outputs": [
    {
     "name": "stdout",
     "output_type": "stream",
     "text": [
      "\n",
      "min_k =\n",
      "\n",
      "     9\n",
      "\n"
     ]
    }
   ],
   "source": [
    "min_k"
   ]
  },
  {
   "cell_type": "code",
   "execution_count": 78,
   "metadata": {},
   "outputs": [
    {
     "name": "stdout",
     "output_type": "stream",
     "text": [
      "\n",
      "min_gamma =\n",
      "\n",
      "    16\n",
      "\n"
     ]
    }
   ],
   "source": [
    "min_gamma"
   ]
  },
  {
   "cell_type": "code",
   "execution_count": 75,
   "metadata": {},
   "outputs": [
    {
     "name": "stdout",
     "output_type": "stream",
     "text": [
      "\n",
      "ans =\n",
      "\n",
      "    0.8448\n",
      "\n"
     ]
    }
   ],
   "source": [
    "missclassification_error(1)"
   ]
  },
  {
   "cell_type": "code",
   "execution_count": 43,
   "metadata": {},
   "outputs": [],
   "source": [
    "\n",
    "K = zeros(size(X_truncated, 1), size(X_truncated, 1));\n",
    "for i=1:size(X_truncated,1)\n",
    "    for j=1:size(X_truncated,1)\n",
    "        K(i,j) = exp(-gamma* (norm( X_truncated(i, :) - X_truncated(j, :), 2).^2) );\n",
    "    end\n",
    "end     "
   ]
  },
  {
   "cell_type": "code",
   "execution_count": 58,
   "metadata": {},
   "outputs": [],
   "source": []
  },
  {
   "cell_type": "code",
   "execution_count": 45,
   "metadata": {},
   "outputs": [],
   "source": [
    "K_maxk = maxk(K, k);\n",
    "W = K;\n",
    "for i=1:size(X_truncated,1)\n",
    "    for j=1:size(X_truncated,1)\n",
    "        if K(i,j) < min(K_maxk(:, j))\n",
    "            W(i,j) = 0;\n",
    "        end\n",
    "    end\n",
    "end\n",
    "W = (W+transpose(W))/2;\n",
    "D = diag(W*ones(size(W,1),1));\n",
    "I = eye(size(W,1));\n",
    "laplacian_unnormalized = D-W;\n",
    "laplacian_normalized = I-W;\n",
    "laplacian_rw = I-inv(D)*W;\n",
    "\n",
    "\n"
   ]
  },
  {
   "cell_type": "code",
   "execution_count": 51,
   "metadata": {},
   "outputs": [],
   "source": [
    "[V1, D1] = eigs(laplacian_unnormalized, k);\n",
    "[V2, D2] = eigs(laplacian_normalized, k);\n",
    "[V3, D3] = eigs(laplacian_rw, k);\n"
   ]
  },
  {
   "cell_type": "code",
   "execution_count": 52,
   "metadata": {},
   "outputs": [],
   "source": [
    "V1_row_norm = sqrt(sum(V1.^2,2));\n",
    "Y1 = bsxfun(@rdivide, V1, V1_row_norm);\n",
    "\n",
    "V2_row_norm = sqrt(sum(V2.^2,2));\n",
    "Y2 = bsxfun(@rdivide, V2, V2_row_norm);\n",
    "\n",
    "V3_row_norm = sqrt(sum(V3.^2,2));\n",
    "Y3 = bsxfun(@rdivide, V3, V3_row_norm);\n"
   ]
  },
  {
   "cell_type": "code",
   "execution_count": 53,
   "metadata": {},
   "outputs": [],
   "source": [
    "idx1 = kmeans(Y1, k);\n",
    "idx2 = kmeans(Y2, k);\n",
    "idx3 = kmeans(Y3, k);"
   ]
  },
  {
   "cell_type": "code",
   "execution_count": 56,
   "metadata": {},
   "outputs": [
    {
     "name": "stdout",
     "output_type": "stream",
     "text": [
      "\n",
      "ans =\n",
      "\n",
      "        1102           1\n",
      "\n"
     ]
    }
   ],
   "source": [
    "size(idx1)"
   ]
  },
  {
   "cell_type": "code",
   "execution_count": 57,
   "metadata": {},
   "outputs": [
    {
     "name": "stdout",
     "output_type": "stream",
     "text": [
      "\n",
      "ans =\n",
      "\n",
      "    0.7740\n",
      "    0.7541\n",
      "    0.7713\n",
      "\n"
     ]
    }
   ],
   "source": [
    "Misclassification([idx1 idx2 idx3], s_truncated)"
   ]
  }
 ],
 "metadata": {
  "kernelspec": {
   "display_name": "Matlab",
   "language": "matlab",
   "name": "matlab"
  },
  "language_info": {
   "codemirror_mode": "octave",
   "file_extension": ".m",
   "help_links": [
    {
     "text": "MetaKernel Magics",
     "url": "https://github.com/calysto/metakernel/blob/master/metakernel/magics/README.md"
    }
   ],
   "mimetype": "text/x-octave",
   "name": "matlab",
   "version": "0.15.2"
  }
 },
 "nbformat": 4,
 "nbformat_minor": 2
}
