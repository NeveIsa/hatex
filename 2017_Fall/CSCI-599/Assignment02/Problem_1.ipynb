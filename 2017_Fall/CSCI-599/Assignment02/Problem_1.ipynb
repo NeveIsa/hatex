{
 "cells": [
  {
   "cell_type": "markdown",
   "metadata": {},
   "source": [
    "# Problem 1: Language Modeling with RNNs\n",
    "* <b>Learning Objective:</b> In this problem, you are going to implement simple recurrent neural networks to deeply understand how RNNs works.\n",
    "* <b>Provided Code:</b> We provide the skeletons of classes you need to complete. Forward checking and gradient checkings are provided for verifying your implementation as well.\n",
    "* <b>TODOs:</b> you will implement a LSTM and use them it to train a model that can generate text using your own text source (novel, lyrics etc). <b>Also please do not forget to answer to the two inline questions before LSTM.</b>"
   ]
  },
  {
   "cell_type": "code",
   "execution_count": 3,
   "metadata": {
    "ExecuteTime": {
     "end_time": "2017-11-13T19:32:11.762388Z",
     "start_time": "2017-11-13T19:32:11.732614Z"
    }
   },
   "outputs": [
    {
     "name": "stdout",
     "output_type": "stream",
     "text": [
      "The autoreload extension is already loaded. To reload it, use:\n",
      "  %reload_ext autoreload\n"
     ]
    }
   ],
   "source": [
    "from lib.rnn import *\n",
    "from lib.layer_utils import *\n",
    "from lib.grad_check import *\n",
    "from lib.optim import *\n",
    "from lib.train import *\n",
    "import numpy as np\n",
    "import matplotlib.pyplot as plt\n",
    "\n",
    "%matplotlib inline\n",
    "plt.rcParams['figure.figsize'] = (10.0, 8.0) # set default size of plots\n",
    "plt.rcParams['image.interpolation'] = 'nearest'\n",
    "plt.rcParams['image.cmap'] = 'gray'\n",
    "\n",
    "# for auto-reloading external modules\n",
    "# see http://stackoverflow.com/questions/1907993/autoreload-of-modules-in-ipython\n",
    "%load_ext autoreload\n",
    "%autoreload 2"
   ]
  },
  {
   "cell_type": "markdown",
   "metadata": {},
   "source": [
    "# Recurrent Neural Networks\n",
    "We will use recurrent neural network (RNN) language models for text generation. The file `lib/layer_utils.py` contains implementations of different layer types that are needed for recurrent neural networks, and the file `lib/rnn.py` uses these layers to implement an text generation model.\n",
    "\n",
    "We will implement LSTM layers in `lib/layer_utils.py`. As a reference, you are given complete codes for other layers including a vanilla RNN. Let's first look through the vanilla RNN, and other layers you may need for language modeling. The first part doesn't involve any coding. You can simply check the codes and run to make sure everything works as you expect."
   ]
  },
  {
   "cell_type": "markdown",
   "metadata": {},
   "source": [
    "# Vanilla RNN: step forward\n",
    "Open the file `lib/layer_utils.py`. This file implements the forward and backward passes for different types of layers that are commonly used in recurrent neural networks.\n",
    "\n",
    "First check the implementation of the function `step_forward` which implements the forward pass for a single timestep of a vanilla recurrent neural network. We provide this function for you. After doing so run the following code. You should see errors less than 1e-8."
   ]
  },
  {
   "cell_type": "code",
   "execution_count": 4,
   "metadata": {
    "ExecuteTime": {
     "end_time": "2017-11-13T19:32:12.371811Z",
     "start_time": "2017-11-13T19:32:12.344724Z"
    }
   },
   "outputs": [
    {
     "name": "stdout",
     "output_type": "stream",
     "text": [
      "('next_h error: ', 6.2924214264710366e-09)\n"
     ]
    }
   ],
   "source": [
    "N, D, H = 3, 10, 4\n",
    "\n",
    "rnn = VanillaRNN(D, H, init_scale=0.02, name=\"rnn_test\")\n",
    "x = np.linspace(-0.4, 0.7, num=N*D).reshape(N, D)\n",
    "prev_h = np.linspace(-0.2, 0.5, num=N*H).reshape(N, H)\n",
    "\n",
    "rnn.params[rnn.wx_name] = np.linspace(-0.1, 0.9, num=D*H).reshape(D, H)\n",
    "rnn.params[rnn.wh_name] = np.linspace(-0.3, 0.7, num=H*H).reshape(H, H)\n",
    "rnn.params[rnn.b_name] = np.linspace(-0.2, 0.4, num=H)\n",
    "\n",
    "next_h, _ = rnn.step_forward(x, prev_h)\n",
    "expected_next_h = np.asarray([\n",
    "  [-0.58172089, -0.50182032, -0.41232771, -0.31410098],\n",
    "  [ 0.66854692,  0.79562378,  0.87755553,  0.92795967],\n",
    "  [ 0.97934501,  0.99144213,  0.99646691,  0.99854353]])\n",
    "\n",
    "print('next_h error: ', rel_error(expected_next_h, next_h))"
   ]
  },
  {
   "cell_type": "markdown",
   "metadata": {},
   "source": [
    "# Vanilla RNN: step backward\n",
    "In the `VanillaRNN` class in the file `lib/layer_utils.py` check the `step_backward` function. After doing so run the following to numerically gradient check the implementation. You should see errors less than `1e-8`."
   ]
  },
  {
   "cell_type": "code",
   "execution_count": 5,
   "metadata": {
    "ExecuteTime": {
     "end_time": "2017-11-13T19:32:13.515638Z",
     "start_time": "2017-11-13T19:32:13.460914Z"
    }
   },
   "outputs": [
    {
     "name": "stdout",
     "output_type": "stream",
     "text": [
      "('dx error: ', 1.0572038136587296e-10)\n",
      "('dprev_h error: ', 3.5393379712705807e-10)\n",
      "('dWx error: ', 3.8546248896806929e-10)\n",
      "('dWh error: ', 1.5834356040887039e-10)\n",
      "('db error: ', 2.0171824713729017e-11)\n"
     ]
    }
   ],
   "source": [
    "np.random.seed(599)\n",
    "N, D, H = 4, 5, 6\n",
    "\n",
    "rnn = VanillaRNN(D, H, init_scale=0.02, name=\"rnn_test\")\n",
    "\n",
    "x = np.random.randn(N, D)\n",
    "h = np.random.randn(N, H)\n",
    "Wx = np.random.randn(D, H)\n",
    "Wh = np.random.randn(H, H)\n",
    "b = np.random.randn(H)\n",
    "\n",
    "rnn.params[rnn.wx_name] = Wx\n",
    "rnn.params[rnn.wh_name] = Wh\n",
    "rnn.params[rnn.b_name] = b\n",
    "\n",
    "out, meta = rnn.step_forward(x, h)\n",
    "\n",
    "dnext_h = np.random.randn(*out.shape)\n",
    "\n",
    "dx_num = eval_numerical_gradient_array(lambda x: rnn.step_forward(x, h)[0], x, dnext_h)\n",
    "dprev_h_num = eval_numerical_gradient_array(lambda h: rnn.step_forward(x, h)[0], h, dnext_h)\n",
    "dWx_num = eval_numerical_gradient_array(lambda Wx: rnn.step_forward(x, h)[0], Wx, dnext_h)\n",
    "dWh_num = eval_numerical_gradient_array(lambda Wh: rnn.step_forward(x, h)[0], Wh, dnext_h)\n",
    "db_num = eval_numerical_gradient_array(lambda b: rnn.step_forward(x, h)[0], b, dnext_h)\n",
    "\n",
    "dx, dprev_h, dWx, dWh, db = rnn.step_backward(dnext_h, meta)\n",
    "\n",
    "print('dx error: ', rel_error(dx_num, dx))\n",
    "print('dprev_h error: ', rel_error(dprev_h_num, dprev_h))\n",
    "print('dWx error: ', rel_error(dWx_num, dWx))\n",
    "print('dWh error: ', rel_error(dWh_num, dWh))\n",
    "print('db error: ', rel_error(db_num, db))"
   ]
  },
  {
   "cell_type": "markdown",
   "metadata": {},
   "source": [
    "# Vanilla RNN: forward\n",
    "Now that you have checked the forward and backward passes for a single timestep of a vanilla RNN, you will see how they are combined to implement a RNN that process an entire sequence of data.\n",
    "\n",
    "In the `VanillaRNN` class in the file `lib/layer_utils.py`, check the function `forward`. We provide this function for you. This is implemented using the `step_forward` function that you defined above. After doing so run the following to check the implementation. You should see errors less than `1e-7`."
   ]
  },
  {
   "cell_type": "code",
   "execution_count": 6,
   "metadata": {
    "ExecuteTime": {
     "end_time": "2017-11-13T19:32:15.350616Z",
     "start_time": "2017-11-13T19:32:15.321323Z"
    }
   },
   "outputs": [
    {
     "name": "stdout",
     "output_type": "stream",
     "text": [
      "('h error: ', 7.7284661583051643e-08)\n"
     ]
    }
   ],
   "source": [
    "N, T, D, H = 2, 3, 4, 5\n",
    "\n",
    "rnn = VanillaRNN(D, H, init_scale=0.02, name=\"rnn_test\")\n",
    "\n",
    "x = np.linspace(-0.1, 0.3, num=N*T*D).reshape(N, T, D)\n",
    "h0 = np.linspace(-0.3, 0.1, num=N*H).reshape(N, H)\n",
    "Wx = np.linspace(-0.2, 0.4, num=D*H).reshape(D, H)\n",
    "Wh = np.linspace(-0.4, 0.1, num=H*H).reshape(H, H)\n",
    "b = np.linspace(-0.7, 0.1, num=H)\n",
    "\n",
    "rnn.params[rnn.wx_name] = Wx\n",
    "rnn.params[rnn.wh_name] = Wh\n",
    "rnn.params[rnn.b_name] = b\n",
    "\n",
    "h = rnn.forward(x, h0)\n",
    "expected_h = np.asarray([\n",
    "  [\n",
    "    [-0.42070749, -0.27279261, -0.11074945,  0.05740409,  0.22236251],\n",
    "    [-0.39525808, -0.22554661, -0.0409454,   0.14649412,  0.32397316],\n",
    "    [-0.42305111, -0.24223728, -0.04287027,  0.15997045,  0.35014525],\n",
    "  ],\n",
    "  [\n",
    "    [-0.55857474, -0.39065825, -0.19198182,  0.02378408,  0.23735671],\n",
    "    [-0.27150199, -0.07088804,  0.13562939,  0.33099728,  0.50158768],\n",
    "    [-0.51014825, -0.30524429, -0.06755202,  0.17806392,  0.40333043]]])\n",
    "print('h error: ', rel_error(expected_h, h))"
   ]
  },
  {
   "cell_type": "markdown",
   "metadata": {},
   "source": [
    "# Vanilla RNN: backward\n",
    "In the file `lib/layer_utils.py`, check the backward pass for a vanilla RNN in the function `backward` in the `VanillaRNN` class. We provide this function for you. This runs back-propagation over the entire sequence, calling into the `step_backward` function defined above. You should see errors less than 5e-7."
   ]
  },
  {
   "cell_type": "code",
   "execution_count": 7,
   "metadata": {
    "ExecuteTime": {
     "end_time": "2017-11-13T19:32:16.856571Z",
     "start_time": "2017-11-13T19:32:16.747721Z"
    }
   },
   "outputs": [
    {
     "name": "stdout",
     "output_type": "stream",
     "text": [
      "('dx error: ', 7.7799301042286723e-10)\n",
      "('dh0 error: ', 1.0070785373693291e-10)\n",
      "('dWx error: ', 4.9188023498158563e-09)\n",
      "('dWh error: ', 1.1713005188891452e-09)\n",
      "('db error: ', 2.4727869972841184e-10)\n"
     ]
    }
   ],
   "source": [
    "np.random.seed(599)\n",
    "\n",
    "N, D, T, H = 2, 3, 10, 5\n",
    "\n",
    "rnn = VanillaRNN(D, H, init_scale=0.02, name=\"rnn_test\")\n",
    "\n",
    "x = np.random.randn(N, T, D)\n",
    "h0 = np.random.randn(N, H)\n",
    "Wx = np.random.randn(D, H)\n",
    "Wh = np.random.randn(H, H)\n",
    "b = np.random.randn(H)\n",
    "\n",
    "rnn.params[rnn.wx_name] = Wx\n",
    "rnn.params[rnn.wh_name] = Wh\n",
    "rnn.params[rnn.b_name] = b\n",
    "\n",
    "out = rnn.forward(x, h0)\n",
    "\n",
    "dout = np.random.randn(*out.shape)\n",
    "\n",
    "dx, dh0 = rnn.backward(dout)\n",
    "\n",
    "dx_num = eval_numerical_gradient_array(lambda x: rnn.forward(x, h0), x, dout)\n",
    "dh0_num = eval_numerical_gradient_array(lambda h0: rnn.forward(x, h0), h0, dout)\n",
    "dWx_num = eval_numerical_gradient_array(lambda Wx: rnn.forward(x, h0), Wx, dout)\n",
    "dWh_num = eval_numerical_gradient_array(lambda Wh: rnn.forward(x, h0), Wh, dout)\n",
    "db_num = eval_numerical_gradient_array(lambda b: rnn.forward(x, h0), b, dout)\n",
    "\n",
    "dWx = rnn.grads[rnn.wx_name]\n",
    "dWh = rnn.grads[rnn.wh_name]\n",
    "db = rnn.grads[rnn.b_name]\n",
    "\n",
    "print('dx error: ', rel_error(dx_num, dx))\n",
    "print('dh0 error: ', rel_error(dh0_num, dh0))\n",
    "print('dWx error: ', rel_error(dWx_num, dWx))\n",
    "print('dWh error: ', rel_error(dWh_num, dWh))\n",
    "print('db error: ', rel_error(db_num, db))"
   ]
  },
  {
   "cell_type": "markdown",
   "metadata": {},
   "source": [
    "# Word embedding: forward\n",
    "In deep learning systems, we commonly represent words using vectors. Each word of the vocabulary will be associated with a vector, and these vectors will be learned jointly with the rest of the system.\n",
    "\n",
    "In the file `lib/layer_utils.py`, check the function `forward` in the `word_embedding` class to convert words (represented by integers) into vectors. We provide this function for you. Run the following to check the implementation. You should see error around `1e-8`."
   ]
  },
  {
   "cell_type": "code",
   "execution_count": 8,
   "metadata": {
    "ExecuteTime": {
     "end_time": "2017-11-13T19:32:18.096998Z",
     "start_time": "2017-11-13T19:32:18.069409Z"
    }
   },
   "outputs": [
    {
     "name": "stdout",
     "output_type": "stream",
     "text": [
      "('out error: ', 1.0000000094736443e-08)\n"
     ]
    }
   ],
   "source": [
    "N, T, V, D = 2, 4, 5, 3\n",
    "\n",
    "we = word_embedding(V, D, name=\"we\")\n",
    "\n",
    "x = np.asarray([[0, 3, 1, 2], [2, 1, 0, 3]])\n",
    "W = np.linspace(0, 1, num=V*D).reshape(V, D)\n",
    "\n",
    "we.params[we.w_name] = W\n",
    "\n",
    "out = we.forward(x)\n",
    "expected_out = np.asarray([\n",
    " [[ 0.,          0.07142857,  0.14285714],\n",
    "  [ 0.64285714,  0.71428571,  0.78571429],\n",
    "  [ 0.21428571,  0.28571429,  0.35714286],\n",
    "  [ 0.42857143,  0.5,         0.57142857]],\n",
    " [[ 0.42857143,  0.5,         0.57142857],\n",
    "  [ 0.21428571,  0.28571429,  0.35714286],\n",
    "  [ 0.,          0.07142857,  0.14285714],\n",
    "  [ 0.64285714,  0.71428571,  0.78571429]]])\n",
    "\n",
    "print('out error: ', rel_error(expected_out, out))"
   ]
  },
  {
   "cell_type": "markdown",
   "metadata": {},
   "source": [
    "# Word embedding: backward\n",
    "Check the backward pass for the word embedding function in the function `backward` in the `word_embedding` class. We provide this function for you. After doing so run the following to numerically gradient check the implementation. You should see errors less than `1e-11`."
   ]
  },
  {
   "cell_type": "code",
   "execution_count": 9,
   "metadata": {
    "ExecuteTime": {
     "end_time": "2017-11-13T19:32:19.240353Z",
     "start_time": "2017-11-13T19:32:19.215530Z"
    }
   },
   "outputs": [
    {
     "name": "stdout",
     "output_type": "stream",
     "text": [
      "('dW error: ', 3.2759325224156931e-12)\n"
     ]
    }
   ],
   "source": [
    "np.random.seed(599)\n",
    "\n",
    "N, T, V, D = 50, 3, 5, 6\n",
    "\n",
    "we = word_embedding(V, D, name=\"we\")\n",
    "\n",
    "x = np.random.randint(V, size=(N, T))\n",
    "W = np.random.randn(V, D)\n",
    "\n",
    "we.params[we.w_name] = W\n",
    "\n",
    "out = we.forward(x)\n",
    "dout = np.random.randn(*out.shape)\n",
    "we.backward(dout)\n",
    "\n",
    "dW = we.grads[we.w_name]\n",
    "\n",
    "f = lambda W: we.forward(x)\n",
    "dW_num = eval_numerical_gradient_array(f, W, dout)\n",
    "\n",
    "print('dW error: ', rel_error(dW, dW_num))"
   ]
  },
  {
   "cell_type": "markdown",
   "metadata": {},
   "source": [
    "### Inline Question: Why do we want to represent words using word embeddings instead of one hot vector ( https://en.wikipedia.org/wiki/One-hot )? Provide one advantage of word embeddings.\n",
    "\n",
    "#### Ans: \n",
    "\n",
    "One-hot vector encoding implies thes words are independent. However, the word-embeddings representation captures the dependence between words. For example , dependence like 'a' will never be followed by 'the'.\n",
    "Also, one-hot encoding of a large volcabulary will result in a large sparse matrix for input which is known to have problems while generalizing."
   ]
  },
  {
   "cell_type": "markdown",
   "metadata": {},
   "source": [
    "# Temporal Fully Connected layer\n",
    "At every timestep we use an affine function to transform the RNN hidden vector at that timestep into scores for each word in the vocabulary. Because this is very similar to the fully connected layer that you implemented in assignment 1, we have provided this function for you in the `forward` and `backward` functions in the file `lib/layer_util.py`. Run the following to perform numeric gradient checking on the implementation. You should see errors less than 1e-9."
   ]
  },
  {
   "cell_type": "code",
   "execution_count": 10,
   "metadata": {
    "ExecuteTime": {
     "end_time": "2017-11-13T19:32:21.615296Z",
     "start_time": "2017-11-13T19:32:21.578060Z"
    }
   },
   "outputs": [
    {
     "name": "stdout",
     "output_type": "stream",
     "text": [
      "('dx error: ', 1.0589570959816868e-09)\n",
      "('dw error: ', 1.3273531472902296e-10)\n",
      "('db error: ', 1.8540488325611036e-11)\n"
     ]
    }
   ],
   "source": [
    "np.random.seed(599)\n",
    "\n",
    "# Gradient check for temporal affine layer\n",
    "N, T, D, M = 2, 3, 4, 5\n",
    "\n",
    "t_fc = temporal_fc(D, M, init_scale=0.02, name='test_t_fc')\n",
    "\n",
    "x = np.random.randn(N, T, D)\n",
    "w = np.random.randn(D, M)\n",
    "b = np.random.randn(M)\n",
    "\n",
    "t_fc.params[t_fc.w_name] = w\n",
    "t_fc.params[t_fc.b_name] = b\n",
    "\n",
    "out = t_fc.forward(x)\n",
    "\n",
    "dout = np.random.randn(*out.shape)\n",
    "\n",
    "dx_num = eval_numerical_gradient_array(lambda x: t_fc.forward(x), x, dout)\n",
    "dw_num = eval_numerical_gradient_array(lambda w: t_fc.forward(x), w, dout)\n",
    "db_num = eval_numerical_gradient_array(lambda b: t_fc.forward(x), b, dout)\n",
    "\n",
    "dx = t_fc.backward(dout)\n",
    "dw = t_fc.grads[t_fc.w_name]\n",
    "db = t_fc.grads[t_fc.b_name]\n",
    "\n",
    "print('dx error: ', rel_error(dx_num, dx))\n",
    "print('dw error: ', rel_error(dw_num, dw))\n",
    "print('db error: ', rel_error(db_num, db))"
   ]
  },
  {
   "cell_type": "markdown",
   "metadata": {},
   "source": [
    "# Temporal Softmax loss\n",
    "In an RNN language model, at every timestep we produce a score for each word in the vocabulary. We know the ground-truth word at each timestep, so we use a softmax loss function to compute loss and gradient at each timestep. We sum the losses over time and average them over the minibatch.\n",
    "\n",
    "We provide this loss function for you; look at the `temporal_softmax_loss` function in the file `lib/layer_utils.py`.\n",
    "\n",
    "Run the following cell to sanity check the loss and perform numeric gradient checking on the function. You should see an error for dx less than 1e-7."
   ]
  },
  {
   "cell_type": "code",
   "execution_count": 11,
   "metadata": {
    "ExecuteTime": {
     "end_time": "2017-11-13T19:32:23.175365Z",
     "start_time": "2017-11-13T19:32:22.936576Z"
    }
   },
   "outputs": [
    {
     "name": "stdout",
     "output_type": "stream",
     "text": [
      "2.3026437533\n",
      "23.0261456673\n",
      "2.30211012501\n",
      "('dx error: ', 3.7356355317189332e-08)\n"
     ]
    }
   ],
   "source": [
    "loss_func = temporal_softmax_loss()\n",
    "\n",
    "# Sanity check for temporal softmax loss\n",
    "N, T, V = 100, 1, 10\n",
    "\n",
    "def check_loss(N, T, V, p):\n",
    "    x = 0.001 * np.random.randn(N, T, V)\n",
    "    y = np.random.randint(V, size=(N, T))\n",
    "    mask = np.random.rand(N, T) <= p\n",
    "    print(loss_func.forward(x, y, mask))\n",
    "  \n",
    "check_loss(100, 1, 10, 1.0)   # Should be about 2.3\n",
    "check_loss(100, 10, 10, 1.0)  # Should be about 23\n",
    "check_loss(5000, 10, 10, 0.1) # Should be about 2.3\n",
    "\n",
    "# Gradient check for temporal softmax loss\n",
    "N, T, V = 7, 8, 9\n",
    "\n",
    "x = np.random.randn(N, T, V)\n",
    "y = np.random.randint(V, size=(N, T))\n",
    "mask = (np.random.rand(N, T) > 0.5)\n",
    "\n",
    "loss = loss_func.forward(x, y, mask)\n",
    "dx = loss_func.backward()\n",
    "\n",
    "dx_num = eval_numerical_gradient(lambda x: loss_func.forward(x, y, mask), x, verbose=False)\n",
    "\n",
    "print('dx error: ', rel_error(dx, dx_num))"
   ]
  },
  {
   "cell_type": "markdown",
   "metadata": {},
   "source": [
    "### Inline Question: Using softmax function over vocabulary for word prediction is common in language modeling. However, this technique is not perfect, what do you think are the major disadvantages of it? Pleaes provide one disadvantage of softmax function over vocabulary. \n",
    "\n",
    "#### Ans: \n",
    "\n",
    "A larger vocabulary will lead to increased training time, since the denominator requires summing over all terms in the vocabulary."
   ]
  },
  {
   "cell_type": "markdown",
   "metadata": {},
   "source": [
    "# RNN for language modeling\n",
    "Now that you have the necessary layers, you can combine them to build an language modeling model. Open the file `lib/rnn.py` and look at the `TestRNN` class.\n",
    "\n",
    "Check the forward and backward pass of the model in the `loss` function. For now you only see the implementation of the case where `cell_type='rnn'` for vanialla RNNs; you will implement the LSTM case later. After doing so, run the following to check the forward pass using a small test case; you should see error less than `1e-10`."
   ]
  },
  {
   "cell_type": "code",
   "execution_count": 12,
   "metadata": {
    "ExecuteTime": {
     "end_time": "2017-11-13T19:32:27.184829Z",
     "start_time": "2017-11-13T19:32:27.145200Z"
    },
    "scrolled": false
   },
   "outputs": [
    {
     "name": "stdout",
     "output_type": "stream",
     "text": [
      "('loss: ', 51.094918913361184)\n",
      "('expected loss: ', 51.0949189134)\n",
      "('difference: ', 3.8816949654574273e-11)\n"
     ]
    }
   ],
   "source": [
    "N, D, H = 10, 20, 40\n",
    "V = 4\n",
    "T = 13\n",
    "\n",
    "model = TestRNN(D, H, cell_type='rnn')\n",
    "loss_func = temporal_softmax_loss()\n",
    "\n",
    "# Set all model parameters to fixed values\n",
    "for k, v in model.params.items():\n",
    "    model.params[k] = np.linspace(-1.4, 1.3, num=v.size).reshape(*v.shape)\n",
    "model.assign_params()\n",
    "\n",
    "features = np.linspace(-1.5, 0.3, num=(N * D * T)).reshape(N, T, D)\n",
    "h0 = np.linspace(-1.5, 0.5, num=(N*H)).reshape(N, H)\n",
    "labels = (np.arange(N * T) % V).reshape(N, T)\n",
    "\n",
    "pred = model.forward(features, h0)\n",
    "\n",
    "# You'll need this\n",
    "mask = np.ones((N, T))\n",
    "\n",
    "loss = loss_func.forward(pred, labels, mask)\n",
    "dLoss = loss_func.backward()\n",
    "\n",
    "expected_loss = 51.0949189134\n",
    "\n",
    "print('loss: ', loss)\n",
    "print('expected loss: ', expected_loss)\n",
    "print('difference: ', abs(loss - expected_loss))"
   ]
  },
  {
   "cell_type": "markdown",
   "metadata": {},
   "source": [
    "Run the following cell to perform numeric gradient checking on the `TestRNN` class; you should errors around `1e-7` or less."
   ]
  },
  {
   "cell_type": "code",
   "execution_count": 13,
   "metadata": {
    "ExecuteTime": {
     "end_time": "2017-11-13T19:32:29.411006Z",
     "start_time": "2017-11-13T19:32:29.342852Z"
    }
   },
   "outputs": [
    {
     "name": "stdout",
     "output_type": "stream",
     "text": [
      "vanilla_rnn_b relative error: 1.728230e-08\n",
      "vanilla_rnn_wh relative error: 3.659114e-07\n",
      "vanilla_rnn_wx relative error: 1.780015e-09\n"
     ]
    }
   ],
   "source": [
    "np.random.seed(599)\n",
    "\n",
    "batch_size = 2\n",
    "timesteps = 3\n",
    "input_dim = 4\n",
    "hidden_dim = 6\n",
    "label_size = 4\n",
    "\n",
    "labels = np.random.randint(label_size, size=(batch_size, timesteps))\n",
    "features = np.random.randn(batch_size, timesteps, input_dim)\n",
    "h0 = np.random.randn(batch_size, hidden_dim)\n",
    "\n",
    "model = TestRNN(input_dim, hidden_dim, cell_type='rnn')\n",
    "loss_func = temporal_softmax_loss()\n",
    "\n",
    "pred = model.forward(features, h0)\n",
    "\n",
    "# You'll need this\n",
    "mask = np.ones((batch_size, timesteps))\n",
    "\n",
    "loss = loss_func.forward(pred, labels, mask)\n",
    "dLoss = loss_func.backward()\n",
    "\n",
    "dout, dh0 = model.backward(dLoss)\n",
    "\n",
    "grads = model.grads\n",
    "\n",
    "for param_name in sorted(grads):\n",
    "    \n",
    "    f = lambda _: loss_func.forward(model.forward(features, h0), labels, mask)\n",
    "    param_grad_num = eval_numerical_gradient(f, model.params[param_name], verbose=False, h=1e-6)\n",
    "    e = rel_error(param_grad_num, grads[param_name])\n",
    "    print('%s relative error: %e' % (param_name, e))"
   ]
  },
  {
   "cell_type": "markdown",
   "metadata": {},
   "source": [
    "# LSTM\n",
    "Vanilla RNNs can be tough to train on long sequences due to vanishing and exploding gradiants. LSTMs solve this problem by replacing the simple update rule of the vanilla RNN with a gating mechanism as follows.\n",
    "\n",
    "Similar to the vanilla RNN, at each timestep we receive an input $x_t\\in\\mathbb{R}^D$ and the previous hidden state $h_{t-1}\\in\\mathbb{R}^H$; what is different in the LSTM is to maintains an $H$-dimensional *cell state*, so we also receive the previous cell state $c_{t-1}\\in\\mathbb{R}^H$. The learnable parameters of the LSTM are an *input-to-hidden* matrix $W_x\\in\\mathbb{R}^{4H\\times D}$, a *hidden-to-hidden* matrix $W_h\\in\\mathbb{R}^{4H\\times H}$ and a *bias vector* $b\\in\\mathbb{R}^{4H}$.\n",
    "\n",
    "At each timestep we first compute an *activation vector* $a\\in\\mathbb{R}^{4H}$ as $a=W_xx_t + W_hh_{t-1}+b$. We then divide this into four vectors $a_i,a_f,a_o,a_g\\in\\mathbb{R}^H$ where $a_i$ consists of the first $H$ elements of $a$, $a_f$ is the next $H$ elements of $a$, etc. We then compute the *input gate* $g\\in\\mathbb{R}^H$, *forget gate* $f\\in\\mathbb{R}^H$, *output gate* $o\\in\\mathbb{R}^H$ and *block input* $g\\in\\mathbb{R}^H$ as\n",
    "\n",
    "$$\n",
    "\\begin{align*}\n",
    "i = \\sigma(a_i) \\hspace{2pc}\n",
    "f = \\sigma(a_f) \\hspace{2pc}\n",
    "o = \\sigma(a_o) \\hspace{2pc}\n",
    "g = \\tanh(a_g)\n",
    "\\end{align*}\n",
    "$$\n",
    "\n",
    "where $\\sigma$ is the sigmoid function and $\\tanh$ is the hyperbolic tangent, both applied elementwise.\n",
    "\n",
    "Finally we compute the next cell state $c_t$ and next hidden state $h_t$ as\n",
    "\n",
    "$$\n",
    "c_{t} = f\\odot c_{t-1} + i\\odot g \\hspace{4pc}\n",
    "h_t = o\\odot\\tanh(c_t)\n",
    "$$\n",
    "\n",
    "where $\\odot$ is the elementwise product of vectors.\n",
    "\n",
    "In the rest of the notebook we will implement the LSTM update rule and apply it to the text generation task. \n",
    "\n",
    "In the code, we assume that data is stored in batches so that $X_t \\in \\mathbb{R}^{N\\times D}$, and will work with *transposed* versions of the parameters: $W_x \\in \\mathbb{R}^{D \\times 4H}$, $W_h \\in \\mathbb{R}^{H\\times 4H}$ so that activations $A \\in \\mathbb{R}^{N\\times 4H}$ can be computed efficiently as $A = X_t W_x + H_{t-1} W_h$"
   ]
  },
  {
   "cell_type": "markdown",
   "metadata": {},
   "source": [
    "# LSTM: step forward\n",
    "Implement the forward pass for a single timestep of an LSTM in the `step_forward` function in the file `lib/layer_utils.py`. This should be similar to the `step_forward` function that you implemented above, but using the LSTM update rule instead.\n",
    "\n",
    "Once you are done, run the following to perform a simple test of your implementation. You should see errors around `1e-8` or less."
   ]
  },
  {
   "cell_type": "code",
   "execution_count": 15,
   "metadata": {
    "ExecuteTime": {
     "end_time": "2017-11-13T19:33:16.795398Z",
     "start_time": "2017-11-13T19:33:16.746729Z"
    }
   },
   "outputs": [
    {
     "name": "stdout",
     "output_type": "stream",
     "text": [
      "('next_h error: ', 5.7054131967097955e-09)\n",
      "('next_c error: ', 5.8143123088804145e-09)\n"
     ]
    }
   ],
   "source": [
    "N, D, H = 3, 4, 5\n",
    "\n",
    "lstm = LSTM(D, H, init_scale=0.02, name='test_lstm')\n",
    "\n",
    "x = np.linspace(-0.4, 1.2, num=N*D).reshape(N, D)\n",
    "prev_h = np.linspace(-0.3, 0.7, num=N*H).reshape(N, H)\n",
    "prev_c = np.linspace(-0.4, 0.9, num=N*H).reshape(N, H)\n",
    "Wx = np.linspace(-2.1, 1.3, num=4*D*H).reshape(D, 4 * H)\n",
    "Wh = np.linspace(-0.7, 2.2, num=4*H*H).reshape(H, 4 * H)\n",
    "b = np.linspace(0.3, 0.7, num=4*H)\n",
    "\n",
    "lstm.params[lstm.wx_name] = Wx\n",
    "lstm.params[lstm.wh_name] = Wh\n",
    "lstm.params[lstm.b_name] = b\n",
    "\n",
    "next_h, next_c, cache = lstm.step_forward(x, prev_h, prev_c)\n",
    "\n",
    "expected_next_h = np.asarray([\n",
    "    [ 0.24635157,  0.28610883,  0.32240467,  0.35525807,  0.38474904],\n",
    "    [ 0.49223563,  0.55611431,  0.61507696,  0.66844003,  0.7159181 ],\n",
    "    [ 0.56735664,  0.66310127,  0.74419266,  0.80889665,  0.858299  ]])\n",
    "expected_next_c = np.asarray([\n",
    "    [ 0.32986176,  0.39145139,  0.451556,    0.51014116,  0.56717407],\n",
    "    [ 0.66382255,  0.76674007,  0.87195994,  0.97902709,  1.08751345],\n",
    "    [ 0.74192008,  0.90592151,  1.07717006,  1.25120233,  1.42395676]])\n",
    "\n",
    "print('next_h error: ', rel_error(expected_next_h, next_h))\n",
    "print('next_c error: ', rel_error(expected_next_c, next_c))"
   ]
  },
  {
   "cell_type": "markdown",
   "metadata": {},
   "source": [
    "# LSTM: step backward\n",
    "Implement the backward pass for a single LSTM timestep in the function `step_backward` in the file `lib/layer_utils.py`. Once you are done, run the following to perform numeric gradient checking on your implementation. You should see errors around `1e-6` or less."
   ]
  },
  {
   "cell_type": "code",
   "execution_count": 16,
   "metadata": {
    "ExecuteTime": {
     "end_time": "2017-11-13T19:33:20.351280Z",
     "start_time": "2017-11-13T19:33:20.040738Z"
    }
   },
   "outputs": [
    {
     "name": "stdout",
     "output_type": "stream",
     "text": [
      "('dx error: ', 2.2946366283874835e-10)\n",
      "('dh error: ', 2.4947448337233013e-10)\n",
      "('dc error: ', 3.3749720436309407e-10)\n",
      "('dWx error: ', 4.1155492102291343e-09)\n",
      "('dWh error: ', 3.9916828842447042e-09)\n",
      "('db error: ', 3.28181173198853e-10)\n"
     ]
    }
   ],
   "source": [
    "np.random.seed(599)\n",
    "\n",
    "N, D, H = 4, 5, 6\n",
    "\n",
    "lstm = LSTM(D, H, init_scale=0.02, name='test_lstm')\n",
    "\n",
    "x = np.random.randn(N, D)\n",
    "prev_h = np.random.randn(N, H)\n",
    "prev_c = np.random.randn(N, H)\n",
    "Wx = np.random.randn(D, 4 * H)\n",
    "Wh = np.random.randn(H, 4 * H)\n",
    "b = np.random.randn(4 * H)\n",
    "\n",
    "lstm.params[lstm.wx_name] = Wx\n",
    "lstm.params[lstm.wh_name] = Wh\n",
    "lstm.params[lstm.b_name] = b\n",
    "\n",
    "next_h, next_c, cache = lstm.step_forward(x, prev_h, prev_c)\n",
    "\n",
    "dnext_h = np.random.randn(*next_h.shape)\n",
    "dnext_c = np.random.randn(*next_c.shape)\n",
    "\n",
    "fx_h = lambda x: lstm.step_forward(x, prev_h, prev_c)[0]\n",
    "fh_h = lambda h: lstm.step_forward(x, prev_h, prev_c)[0]\n",
    "fc_h = lambda c: lstm.step_forward(x, prev_h, prev_c)[0]\n",
    "fWx_h = lambda Wx: lstm.step_forward(x, prev_h, prev_c)[0]\n",
    "fWh_h = lambda Wh: lstm.step_forward(x, prev_h, prev_c)[0]\n",
    "fb_h = lambda b: lstm.step_forward(x, prev_h, prev_c)[0]\n",
    "\n",
    "fx_c = lambda x: lstm.step_forward(x, prev_h, prev_c)[1]\n",
    "fh_c = lambda h: lstm.step_forward(x, prev_h, prev_c)[1]\n",
    "fc_c = lambda c: lstm.step_forward(x, prev_h, prev_c)[1]\n",
    "fWx_c = lambda Wx: lstm.step_forward(x, prev_h, prev_c)[1]\n",
    "fWh_c = lambda Wh: lstm.step_forward(x, prev_h, prev_c)[1]\n",
    "fb_c = lambda b: lstm.step_forward(x, prev_h, prev_c)[1]\n",
    "\n",
    "num_grad = eval_numerical_gradient_array\n",
    "\n",
    "dx_num = num_grad(fx_h, x, dnext_h) + num_grad(fx_c, x, dnext_c)\n",
    "dh_num = num_grad(fh_h, prev_h, dnext_h) + num_grad(fh_c, prev_h, dnext_c)\n",
    "dc_num = num_grad(fc_h, prev_c, dnext_h) + num_grad(fc_c, prev_c, dnext_c)\n",
    "dWx_num = num_grad(fWx_h, Wx, dnext_h) + num_grad(fWx_c, Wx, dnext_c)\n",
    "dWh_num = num_grad(fWh_h, Wh, dnext_h) + num_grad(fWh_c, Wh, dnext_c)\n",
    "db_num = num_grad(fb_h, b, dnext_h) + num_grad(fb_c, b, dnext_c)\n",
    "\n",
    "dx, dh, dc, dWx, dWh, db = lstm.step_backward(dnext_h, dnext_c, cache)\n",
    "\n",
    "print('dx error: ', rel_error(dx_num, dx))\n",
    "print('dh error: ', rel_error(dh_num, dh))\n",
    "print('dc error: ', rel_error(dc_num, dc))\n",
    "print('dWx error: ', rel_error(dWx_num, dWx))\n",
    "print('dWh error: ', rel_error(dWh_num, dWh))\n",
    "print('db error: ', rel_error(db_num, db))"
   ]
  },
  {
   "cell_type": "markdown",
   "metadata": {},
   "source": [
    "# LSTM: forward\n",
    "In the class `lstm` in the file `lib/layer_utils.py`, implement the `forward` function to run an LSTM forward on an entire timeseries of data.\n",
    "\n",
    "When you are done, run the following to check your implementation. You should see an error around `1e-7`."
   ]
  },
  {
   "cell_type": "code",
   "execution_count": 17,
   "metadata": {
    "ExecuteTime": {
     "end_time": "2017-11-13T19:33:23.434996Z",
     "start_time": "2017-11-13T19:33:23.401176Z"
    }
   },
   "outputs": [
    {
     "name": "stdout",
     "output_type": "stream",
     "text": [
      "('h error: ', 8.6105374521066237e-08)\n"
     ]
    }
   ],
   "source": [
    "N, D, H, T = 2, 5, 4, 3\n",
    "\n",
    "lstm = LSTM(D, H, init_scale=0.02, name='test_lstm')\n",
    "\n",
    "x = np.linspace(-0.4, 0.6, num=N*T*D).reshape(N, T, D)\n",
    "h0 = np.linspace(-0.4, 0.8, num=N*H).reshape(N, H)\n",
    "Wx = np.linspace(-0.2, 0.9, num=4*D*H).reshape(D, 4 * H)\n",
    "Wh = np.linspace(-0.3, 0.6, num=4*H*H).reshape(H, 4 * H)\n",
    "b = np.linspace(0.2, 0.7, num=4*H)\n",
    "\n",
    "lstm.params[lstm.wx_name] = Wx\n",
    "lstm.params[lstm.wh_name] = Wh\n",
    "lstm.params[lstm.b_name] = b\n",
    "\n",
    "h = lstm.forward(x, h0)\n",
    "\n",
    "expected_h = np.asarray([\n",
    " [[ 0.01764008,  0.01823233,  0.01882671,  0.0194232 ],\n",
    "  [ 0.11287491,  0.12146228,  0.13018446,  0.13902939],\n",
    "  [ 0.31358768,  0.33338627,  0.35304453,  0.37250975]],\n",
    " [[ 0.45767879,  0.4761092,   0.4936887,   0.51041945],\n",
    "  [ 0.6704845,   0.69350089,  0.71486014,  0.7346449 ],\n",
    "  [ 0.81733511,  0.83677871,  0.85403753,  0.86935314]]])\n",
    "\n",
    "print('h error: ', rel_error(expected_h, h))"
   ]
  },
  {
   "cell_type": "markdown",
   "metadata": {},
   "source": [
    "# LSTM: backward\n",
    "Implement the backward pass for an LSTM over an entire timeseries of data in the function `backward` in the `lstm` class in the file `lib/layer_utils.py`. When you are done, run the following to perform numeric gradient checking on your implementation. You should see errors around `1e-7` or less."
   ]
  },
  {
   "cell_type": "code",
   "execution_count": 19,
   "metadata": {
    "ExecuteTime": {
     "end_time": "2017-11-13T19:39:26.271009Z",
     "start_time": "2017-11-13T19:39:25.278425Z"
    }
   },
   "outputs": [
    {
     "name": "stdout",
     "output_type": "stream",
     "text": [
      "('dx error: ', 1.2350616505712788e-09)\n",
      "('dh0 error: ', 7.2170665908619868e-09)\n",
      "('dWx error: ', 3.0736103206610719e-09)\n",
      "('dWh error: ', 2.3989797381822739e-08)\n",
      "('db error: ', 1.4990423406995592e-08)\n"
     ]
    }
   ],
   "source": [
    "np.random.seed(599)\n",
    "\n",
    "N, D, T, H = 2, 3, 10, 6\n",
    "\n",
    "lstm = LSTM(D, H, init_scale=0.02, name='test_lstm')\n",
    "\n",
    "x = np.random.randn(N, T, D)\n",
    "h0 = np.random.randn(N, H)\n",
    "Wx = np.random.randn(D, 4 * H)\n",
    "Wh = np.random.randn(H, 4 * H)\n",
    "b = np.random.randn(4 * H)\n",
    "\n",
    "lstm.params[lstm.wx_name] = Wx\n",
    "lstm.params[lstm.wh_name] = Wh\n",
    "lstm.params[lstm.b_name] = b\n",
    "\n",
    "out = lstm.forward(x, h0)\n",
    "\n",
    "dout = np.random.randn(*out.shape)\n",
    "\n",
    "dx, dh0 = lstm.backward(dout)\n",
    "dWx = lstm.grads[lstm.wx_name] \n",
    "dWh = lstm.grads[lstm.wh_name]\n",
    "db = lstm.grads[lstm.b_name]\n",
    "\n",
    "dx_num = eval_numerical_gradient_array(lambda x: lstm.forward(x, h0), x, dout)\n",
    "dh0_num = eval_numerical_gradient_array(lambda h0: lstm.forward(x, h0), h0, dout)\n",
    "dWx_num = eval_numerical_gradient_array(lambda Wx: lstm.forward(x, h0), Wx, dout)\n",
    "dWh_num = eval_numerical_gradient_array(lambda Wh: lstm.forward(x, h0), Wh, dout)\n",
    "db_num = eval_numerical_gradient_array(lambda b: lstm.forward(x, h0), b, dout)\n",
    "\n",
    "print('dx error: ', rel_error(dx_num, dx))\n",
    "print('dh0 error: ', rel_error(dh0_num, dh0))\n",
    "print('dWx error: ', rel_error(dWx_num, dWx))\n",
    "print('dWh error: ', rel_error(dWh_num, dWh))\n",
    "print('db error: ', rel_error(db_num, db))"
   ]
  },
  {
   "cell_type": "markdown",
   "metadata": {},
   "source": [
    "# LSTM model\n",
    "\n",
    "Now that you have implemented an LSTM, update the initialization of the `TestRNN` class in the file `lib/rnn.py` to handle the case where `self.cell_type` is `lstm`. This should require adding only one line of codes.\n",
    "\n",
    "Once you have done so, run the following to check your implementation. You should see a difference of less than `1e-10`."
   ]
  },
  {
   "cell_type": "code",
   "execution_count": 20,
   "metadata": {
    "ExecuteTime": {
     "end_time": "2017-11-13T19:39:29.866652Z",
     "start_time": "2017-11-13T19:39:29.809185Z"
    }
   },
   "outputs": [
    {
     "name": "stdout",
     "output_type": "stream",
     "text": [
      "('loss: ', 49.21402563544293)\n",
      "('expected loss: ', 49.2140256354)\n",
      "('difference: ', 4.2930992094625253e-11)\n"
     ]
    }
   ],
   "source": [
    "N, D, H = 10, 20, 40\n",
    "V = 4\n",
    "T = 13\n",
    "\n",
    "model = TestRNN(D, H, cell_type='lstm')\n",
    "loss_func = temporal_softmax_loss()\n",
    "\n",
    "# Set all model parameters to fixed values\n",
    "for k, v in model.params.items():\n",
    "    model.params[k] = np.linspace(-1.4, 1.3, num=v.size).reshape(*v.shape)\n",
    "model.assign_params()\n",
    "\n",
    "features = np.linspace(-1.5, 0.3, num=(N * D * T)).reshape(N, T, D)\n",
    "h0 = np.linspace(-1.5, 0.5, num=(N*H)).reshape(N, H)\n",
    "labels = (np.arange(N * T) % V).reshape(N, T)\n",
    "\n",
    "pred = model.forward(features, h0)\n",
    "\n",
    "# You'll need this\n",
    "mask = np.ones((N, T))\n",
    "\n",
    "loss = loss_func.forward(pred, labels, mask)\n",
    "dLoss = loss_func.backward()\n",
    "\n",
    "expected_loss = 49.2140256354\n",
    "\n",
    "print('loss: ', loss)\n",
    "print('expected loss: ', expected_loss)\n",
    "print('difference: ', abs(loss - expected_loss))"
   ]
  },
  {
   "cell_type": "markdown",
   "metadata": {},
   "source": [
    "# Let's have some fun!!\n",
    "\n",
    "Now you have everything you need for language modeling. You will work on text generation using RNNs from any text source (novel, lyrics). The network is trained to predict what word is coming next given a previous word. Once you train the model, by looping the network, you can keep generating a new text which is mimicing the original text source. Let's first put your source text you want to model in the following text box!\n",
    "\n",
    "**Notice**: in order to run next cell, paste your own text words into the form and hit Enter. Do not use notebook's own 'run cell' since it wouldn't read in anything."
   ]
  },
  {
   "cell_type": "code",
   "execution_count": 21,
   "metadata": {
    "ExecuteTime": {
     "end_time": "2017-11-13T19:39:34.061444Z",
     "start_time": "2017-11-13T19:39:34.022081Z"
    }
   },
   "outputs": [
    {
     "data": {
      "application/vnd.jupyter.widget-view+json": {
       "model_id": "e7eee5dab0444ee180de492087092da7"
      }
     },
     "metadata": {},
     "output_type": "display_data"
    },
    {
     "name": "stdout",
     "output_type": "stream",
     "text": [
      "set!!\n",
      "Dog goes woof, cat goes meow. Bird goes tweet, and mouse goes squeak. Cow goes moo. Frog goes croak, and the elephant goes toot. Ducks say quack and fish go blub, and the seal goes ow ow ow. But there's one sound that no one knows... What does the fox say?  Ring-ding-ding-ding-dingeringeding! Gering-ding-ding-ding-dingeringeding! Gering-ding-ding-ding-dingeringeding! What the fox say? Wa-pa-pa-pa-pa-pa-pow! Wa-pa-pa-pa-pa-pa-pow! Wa-pa-pa-pa-pa-pa-pow! What the fox say? Hatee-hatee-hatee-ho! Hatee-hatee-hatee-ho! Hatee-hatee-hatee-ho! What the fox say? Joff-tchoff-tchoff-tchoffo-tchoffo-tchoff! Joff-tchoff-tchoff-tchoffo-tchoffo-tchoff! Joff-tchoff-tchoff-tchoffo-tchoffo-tchoff! What the fox say?  Big blue eyes, pointy nose, chasing mice, and digging holes. Tiny paws, up the hill, suddenly you're standing still.  Your fur is red, so beautiful, like an angel in disguise. But if you meet a friendly horse, will you communicate by mo-o-o-o-orse, mo-o-o-o-orse, mo-o-o-o-orse? How will you speak to that h-o-o-orse, h-o-o-orse, h-o-o-orse? What does the fox say?!  Jacha-chacha-chacha-chow! Jacha-chacha-chacha-chow! Jacha-chacha-chacha-chow! What the fox say? Fraka-kaka-kaka-kaka-kow! Fraka-kaka-kaka-kaka-kow! Fraka-kaka-kaka-kaka-kow! What the fox say? A-hee-ahee ha-hee! A-hee-ahee ha-hee! A-hee-ahee ha-hee! What the fox say? A-oo-oo-oo-ooo! Woo-oo-oo-ooo! What does the fox say?!  The secret of the fox, ancient mystery. Somewhere deep in the woods, I know you're hiding. What is your sound? Will we ever know? Will always be a mystery what do you say?  You're my guardian angel hiding in the woods. What is your sound?  A-bubu-duh-bubu-dwee-dum a-bubu-duh-bubu-dwee-dum Will we ever know?  A-bubu-duh-bubu-dwee-dum I want to, I want to, I want to know!  A-bubu-duh-bubu-dwee-dum Bay-buh-day bum-bum bay-dum\n"
     ]
    }
   ],
   "source": [
    "from ipywidgets import widgets, interact\n",
    "from IPython.display import display\n",
    "input_text = widgets.Text()\n",
    "input_text.value = \"Paste your own text words here and hit Enter.\"\n",
    "def f(x):\n",
    "    print('set!!')\n",
    "    print(x.value)\n",
    "input_text.on_submit(f)\n",
    "input_text\n",
    "# copy paste your text source in the box below and hit enter.\n",
    "# If you don't have any preference, \n",
    "# you can copy paste the lyrics from here https://www.azlyrics.com/lyrics/ylvis/thefox.html"
   ]
  },
  {
   "cell_type": "markdown",
   "metadata": {},
   "source": [
    "simply run the following code to construct training dataset<br />"
   ]
  },
  {
   "cell_type": "code",
   "execution_count": 22,
   "metadata": {
    "ExecuteTime": {
     "end_time": "2017-11-13T19:39:45.567111Z",
     "start_time": "2017-11-13T19:39:45.533081Z"
    }
   },
   "outputs": [
    {
     "name": "stdout",
     "output_type": "stream",
     "text": [
      "Input text size: 243\n",
      "Input word number: 124\n"
     ]
    }
   ],
   "source": [
    "import re\n",
    "\n",
    "text = re.split(' |\\n',input_text.value.lower()) # all words are converted into lower case\n",
    "outputSize = len(text)\n",
    "word_list = list(set(text))\n",
    "dataSize = len(word_list)\n",
    "output = np.zeros(outputSize)\n",
    "for i in range(0, outputSize):\n",
    "    index = np.where(np.asarray(word_list) == text[i])\n",
    "    output[i] = index[0]\n",
    "data_labels = output.astype(np.int)\n",
    "gt_labels = data_labels[1:]\n",
    "data_labels = data_labels[:-1]\n",
    "\n",
    "print('Input text size: %s' % outputSize)\n",
    "print('Input word number: %s' % dataSize)"
   ]
  },
  {
   "cell_type": "markdown",
   "metadata": {},
   "source": [
    "We defined a LanguageModelRNN class for you to fill in the TODO block in rnn.py.\n",
    "* Here design a recurrent neutral network consisting of a word_embedding layer, recurrent unit, and temporal fully connected layers so that they match the provided dimentions.\n",
    "* Please read the train.py under lib directory carefully and complete the TODO blocks in the train_net function first."
   ]
  },
  {
   "cell_type": "code",
   "execution_count": 27,
   "metadata": {
    "ExecuteTime": {
     "end_time": "2017-11-14T17:11:28.014320Z",
     "start_time": "2017-11-14T17:11:05.357308Z"
    }
   },
   "outputs": [
    {
     "name": "stdout",
     "output_type": "stream",
     "text": [
      "(Iteration 1 / 2400) loss: 240.948200334\n",
      "bast performance 14.0495867769%\n",
      "(Epoch 1 / 100) Training Accuracy: 0.140495867769\n",
      "(Epoch 2 / 100) Training Accuracy: 0.111570247934\n",
      "(Epoch 3 / 100) Training Accuracy: 0.0371900826446\n",
      "(Epoch 4 / 100) Training Accuracy: 0.140495867769\n",
      "(Iteration 101 / 2400) loss: 206.438885202\n",
      "bast performance 19.4214876033%\n",
      "(Epoch 5 / 100) Training Accuracy: 0.194214876033\n",
      "bast performance 24.7933884298%\n",
      "(Epoch 6 / 100) Training Accuracy: 0.247933884298\n",
      "bast performance 29.7520661157%\n",
      "(Epoch 7 / 100) Training Accuracy: 0.297520661157\n",
      "bast performance 35.5371900826%\n",
      "(Epoch 8 / 100) Training Accuracy: 0.355371900826\n",
      "(Iteration 201 / 2400) loss: 154.456066367\n",
      "bast performance 38.4297520661%\n",
      "(Epoch 9 / 100) Training Accuracy: 0.384297520661\n",
      "bast performance 40.9090909091%\n",
      "(Epoch 10 / 100) Training Accuracy: 0.409090909091\n",
      "bast performance 44.2148760331%\n",
      "(Epoch 11 / 100) Training Accuracy: 0.442148760331\n",
      "bast performance 46.694214876%\n",
      "(Epoch 12 / 100) Training Accuracy: 0.46694214876\n",
      "(Iteration 301 / 2400) loss: 116.392241041\n",
      "bast performance 49.5867768595%\n",
      "(Epoch 13 / 100) Training Accuracy: 0.495867768595\n",
      "bast performance 52.0661157025%\n",
      "(Epoch 14 / 100) Training Accuracy: 0.520661157025\n",
      "bast performance 54.958677686%\n",
      "(Epoch 15 / 100) Training Accuracy: 0.54958677686\n",
      "bast performance 58.6776859504%\n",
      "(Epoch 16 / 100) Training Accuracy: 0.586776859504\n",
      "(Iteration 401 / 2400) loss: 83.3635896424\n",
      "bast performance 60.3305785124%\n",
      "(Epoch 17 / 100) Training Accuracy: 0.603305785124\n",
      "bast performance 62.3966942149%\n",
      "(Epoch 18 / 100) Training Accuracy: 0.623966942149\n",
      "bast performance 64.0495867769%\n",
      "(Epoch 19 / 100) Training Accuracy: 0.640495867769\n",
      "bast performance 66.1157024793%\n",
      "(Epoch 20 / 100) Training Accuracy: 0.661157024793\n",
      "(Iteration 501 / 2400) loss: 76.551585709\n",
      "bast performance 67.7685950413%\n",
      "(Epoch 21 / 100) Training Accuracy: 0.677685950413\n",
      "bast performance 69.4214876033%\n",
      "(Epoch 22 / 100) Training Accuracy: 0.694214876033\n",
      "bast performance 69.8347107438%\n",
      "(Epoch 23 / 100) Training Accuracy: 0.698347107438\n",
      "(Epoch 24 / 100) Training Accuracy: 0.698347107438\n",
      "bast performance 70.2479338843%\n",
      "(Epoch 25 / 100) Training Accuracy: 0.702479338843\n",
      "(Iteration 601 / 2400) loss: 62.1009644769\n",
      "bast performance 71.0743801653%\n",
      "(Epoch 26 / 100) Training Accuracy: 0.710743801653\n",
      "bast performance 72.3140495868%\n",
      "(Epoch 27 / 100) Training Accuracy: 0.723140495868\n",
      "bast performance 72.7272727273%\n",
      "(Epoch 28 / 100) Training Accuracy: 0.727272727273\n",
      "bast performance 74.7933884298%\n",
      "(Epoch 29 / 100) Training Accuracy: 0.747933884298\n",
      "(Iteration 701 / 2400) loss: 47.9225882739\n",
      "bast performance 77.2727272727%\n",
      "(Epoch 30 / 100) Training Accuracy: 0.772727272727\n",
      "bast performance 78.5123966942%\n",
      "(Epoch 31 / 100) Training Accuracy: 0.785123966942\n",
      "(Epoch 32 / 100) Training Accuracy: 0.780991735537\n",
      "bast performance 80.1652892562%\n",
      "(Epoch 33 / 100) Training Accuracy: 0.801652892562\n",
      "(Iteration 801 / 2400) loss: 37.9668435702\n",
      "bast performance 80.5785123967%\n",
      "(Epoch 34 / 100) Training Accuracy: 0.805785123967\n",
      "bast performance 81.8181818182%\n",
      "(Epoch 35 / 100) Training Accuracy: 0.818181818182\n",
      "bast performance 82.2314049587%\n",
      "(Epoch 36 / 100) Training Accuracy: 0.822314049587\n",
      "(Epoch 37 / 100) Training Accuracy: 0.822314049587\n",
      "(Iteration 901 / 2400) loss: 32.1713138271\n",
      "(Epoch 38 / 100) Training Accuracy: 0.818181818182\n",
      "bast performance 82.6446280992%\n",
      "(Epoch 39 / 100) Training Accuracy: 0.826446280992\n",
      "bast performance 83.8842975207%\n",
      "(Epoch 40 / 100) Training Accuracy: 0.838842975207\n",
      "bast performance 84.2975206612%\n",
      "(Epoch 41 / 100) Training Accuracy: 0.842975206612\n",
      "(Iteration 1001 / 2400) loss: 33.5184739182\n",
      "bast performance 84.7107438017%\n",
      "(Epoch 42 / 100) Training Accuracy: 0.847107438017\n",
      "bast performance 85.1239669421%\n",
      "(Epoch 43 / 100) Training Accuracy: 0.851239669421\n",
      "bast performance 85.5371900826%\n",
      "(Epoch 44 / 100) Training Accuracy: 0.855371900826\n",
      "bast performance 85.9504132231%\n",
      "(Epoch 45 / 100) Training Accuracy: 0.859504132231\n",
      "(Iteration 1101 / 2400) loss: 23.8747487804\n",
      "bast performance 86.3636363636%\n",
      "(Epoch 46 / 100) Training Accuracy: 0.863636363636\n",
      "(Epoch 47 / 100) Training Accuracy: 0.863636363636\n",
      "bast performance 86.7768595041%\n",
      "(Epoch 48 / 100) Training Accuracy: 0.867768595041\n",
      "(Epoch 49 / 100) Training Accuracy: 0.867768595041\n",
      "bast performance 87.1900826446%\n",
      "(Epoch 50 / 100) Training Accuracy: 0.871900826446\n",
      "(Iteration 1201 / 2400) loss: 26.6933439366\n",
      "(Epoch 51 / 100) Training Accuracy: 0.871900826446\n",
      "(Epoch 52 / 100) Training Accuracy: 0.871900826446\n",
      "(Epoch 53 / 100) Training Accuracy: 0.871900826446\n",
      "(Epoch 54 / 100) Training Accuracy: 0.871900826446\n",
      "(Iteration 1301 / 2400) loss: 19.2160611844\n",
      "(Epoch 55 / 100) Training Accuracy: 0.871900826446\n",
      "bast performance 88.0165289256%\n",
      "(Epoch 56 / 100) Training Accuracy: 0.880165289256\n",
      "(Epoch 57 / 100) Training Accuracy: 0.880165289256\n",
      "(Epoch 58 / 100) Training Accuracy: 0.880165289256\n",
      "(Iteration 1401 / 2400) loss: 20.1950392124\n",
      "(Epoch 59 / 100) Training Accuracy: 0.880165289256\n",
      "(Epoch 60 / 100) Training Accuracy: 0.880165289256\n",
      "(Epoch 61 / 100) Training Accuracy: 0.880165289256\n",
      "(Epoch 62 / 100) Training Accuracy: 0.880165289256\n",
      "(Iteration 1501 / 2400) loss: 19.8410973224\n",
      "(Epoch 63 / 100) Training Accuracy: 0.880165289256\n",
      "(Epoch 64 / 100) Training Accuracy: 0.880165289256\n",
      "(Epoch 65 / 100) Training Accuracy: 0.880165289256\n",
      "bast performance 88.4297520661%\n",
      "(Epoch 66 / 100) Training Accuracy: 0.884297520661\n",
      "(Iteration 1601 / 2400) loss: 18.2522435393\n",
      "(Epoch 67 / 100) Training Accuracy: 0.884297520661\n",
      "(Epoch 68 / 100) Training Accuracy: 0.884297520661\n",
      "(Epoch 69 / 100) Training Accuracy: 0.884297520661\n",
      "(Epoch 70 / 100) Training Accuracy: 0.884297520661\n",
      "(Iteration 1701 / 2400) loss: 17.8943193664\n",
      "(Epoch 71 / 100) Training Accuracy: 0.884297520661\n",
      "(Epoch 72 / 100) Training Accuracy: 0.884297520661\n",
      "(Epoch 73 / 100) Training Accuracy: 0.884297520661\n",
      "(Epoch 74 / 100) Training Accuracy: 0.884297520661\n",
      "bast performance 89.2561983471%\n",
      "(Epoch 75 / 100) Training Accuracy: 0.892561983471\n",
      "(Iteration 1801 / 2400) loss: 15.9935118939\n",
      "(Epoch 76 / 100) Training Accuracy: 0.892561983471\n",
      "bast performance 89.6694214876%\n",
      "(Epoch 77 / 100) Training Accuracy: 0.896694214876\n",
      "(Epoch 78 / 100) Training Accuracy: 0.896694214876\n",
      "(Epoch 79 / 100) Training Accuracy: 0.896694214876\n",
      "(Iteration 1901 / 2400) loss: 16.2722013036\n",
      "bast performance 90.0826446281%\n",
      "(Epoch 80 / 100) Training Accuracy: 0.900826446281\n",
      "(Epoch 81 / 100) Training Accuracy: 0.900826446281\n",
      "(Epoch 82 / 100) Training Accuracy: 0.900826446281\n",
      "(Epoch 83 / 100) Training Accuracy: 0.900826446281\n",
      "(Iteration 2001 / 2400) loss: 15.6248589112\n",
      "(Epoch 84 / 100) Training Accuracy: 0.900826446281\n",
      "(Epoch 85 / 100) Training Accuracy: 0.900826446281\n",
      "(Epoch 86 / 100) Training Accuracy: 0.900826446281\n",
      "(Epoch 87 / 100) Training Accuracy: 0.900826446281\n",
      "(Iteration 2101 / 2400) loss: 15.1308384798\n",
      "(Epoch 88 / 100) Training Accuracy: 0.900826446281\n",
      "(Epoch 89 / 100) Training Accuracy: 0.900826446281\n",
      "(Epoch 90 / 100) Training Accuracy: 0.900826446281\n",
      "bast performance 90.4958677686%\n",
      "(Epoch 91 / 100) Training Accuracy: 0.904958677686\n",
      "(Iteration 2201 / 2400) loss: 10.6012486324\n",
      "(Epoch 92 / 100) Training Accuracy: 0.904958677686\n",
      "(Epoch 93 / 100) Training Accuracy: 0.904958677686\n",
      "(Epoch 94 / 100) Training Accuracy: 0.904958677686\n",
      "(Epoch 95 / 100) Training Accuracy: 0.904958677686\n",
      "(Iteration 2301 / 2400) loss: 11.8674254837\n",
      "(Epoch 96 / 100) Training Accuracy: 0.904958677686\n",
      "(Epoch 97 / 100) Training Accuracy: 0.904958677686\n",
      "(Epoch 98 / 100) Training Accuracy: 0.904958677686\n",
      "(Epoch 99 / 100) Training Accuracy: 0.904958677686\n",
      "(Epoch 100 / 100) Training Accuracy: 0.904958677686\n"
     ]
    }
   ],
   "source": [
    "# you can change the following parameters.\n",
    "D = 10 # input dimention\n",
    "H = 20 # hidden space dimention\n",
    "T = 50 # timesteps\n",
    "N = 10 # batch size\n",
    "max_epoch = 100 # max epoch size\n",
    "\n",
    "loss_func = temporal_softmax_loss()\n",
    "# you can change the cell_type between 'rnn' and 'lstm'.\n",
    "model = LanguageModelRNN(dataSize, D, H, cell_type='rnn')\n",
    "optimizer = Adam(model, 5e-4)\n",
    "\n",
    "data = { 'data_train': data_labels, 'labels_train': gt_labels }\n",
    "\n",
    "results = train_net(data, model, loss_func, optimizer, timesteps=T, batch_size=N, max_epochs=max_epoch, verbose=True)"
   ]
  },
  {
   "cell_type": "markdown",
   "metadata": {},
   "source": [
    "Simply run the following code block to check the loss and accuracy curve."
   ]
  },
  {
   "cell_type": "code",
   "execution_count": 28,
   "metadata": {
    "ExecuteTime": {
     "end_time": "2017-11-14T17:11:28.386114Z",
     "start_time": "2017-11-14T17:11:28.020126Z"
    }
   },
   "outputs": [
    {
     "data": {
      "image/png": "[encoded data removed]",
      "text/plain": [
       "<matplotlib.figure.Figure at 0x7f5f1f6fa590>"
      ]
     },
     "metadata": {},
     "output_type": "display_data"
    }
   ],
   "source": [
    "opt_params, loss_hist, train_acc_hist = results\n",
    "\n",
    "# Plot the learning curves\n",
    "plt.subplot(2, 1, 1)\n",
    "plt.title('Training loss')\n",
    "loss_hist_ = loss_hist[1::100] # sparse the curve a bit\n",
    "plt.plot(loss_hist_, '-o')\n",
    "plt.xlabel('Iteration')\n",
    "\n",
    "plt.subplot(2, 1, 2)\n",
    "plt.title('Accuracy')\n",
    "plt.plot(train_acc_hist, '-o', label='Training')\n",
    "plt.xlabel('Epoch')\n",
    "plt.legend(loc='lower right')\n",
    "plt.gcf().set_size_inches(15, 12)\n",
    "\n",
    "plt.show()"
   ]
  },
  {
   "cell_type": "markdown",
   "metadata": {},
   "source": [
    "Now you can generate a text using the trained model. You can also start from a specific word in the original text. If you trained your model with \"The Fox\", you can check how well it is modeled by starting from \"dog\", \"cat\", etc."
   ]
  },
  {
   "cell_type": "code",
   "execution_count": 29,
   "metadata": {
    "ExecuteTime": {
     "end_time": "2017-11-14T17:11:28.401735Z",
     "start_time": "2017-11-14T17:11:28.387452Z"
    }
   },
   "outputs": [
    {
     "name": "stdout",
     "output_type": "stream",
     "text": [
      "dog what does the fox say?  big blue eyes, pointy nose, chasing mice, and digging holes. tiny paws, up the hill, suddenly you're standing still.  your fur is red, so beautiful, like an angel in disguise. but if you meet a friendly horse, will you communicate by mo-o-o-o-orse, mo-o-o-o-orse, mo-o-o-o-orse? how will you speak to that h-o-o-orse, h-o-o-orse, h-o-o-orse? what does the fox say?  big blue eyes, pointy nose, chasing mice, and digging holes. tiny paws, up the hill, suddenly you're standing still.  your fur is red, so beautiful, like an angel in disguise. but if\n"
     ]
    }
   ],
   "source": [
    "# you can change the generated text length below.\n",
    "text_length = 100\n",
    "\n",
    "idx = 0\n",
    "# you also can start from specific word. \n",
    "# since the words are all converted into lower case, make sure you put lower case below.\n",
    "idx = int(np.where(np.asarray(word_list) == 'dog')[0])\n",
    "\n",
    "# sample from the trained model\n",
    "words = model.sample(idx, text_length-1)\n",
    "\n",
    "# convert indices into words\n",
    "output = [ word_list[i] for i in words]\n",
    "print(' '.join(output))"
   ]
  },
  {
   "cell_type": "code",
   "execution_count": 30,
   "metadata": {
    "ExecuteTime": {
     "end_time": "2017-11-14T17:21:06.888649Z",
     "start_time": "2017-11-14T17:20:42.670394Z"
    }
   },
   "outputs": [
    {
     "name": "stdout",
     "output_type": "stream",
     "text": [
      "(Iteration 1 / 2400) loss: 241.009299207\n",
      "bast performance 15.2892561983%\n",
      "(Epoch 1 / 100) Training Accuracy: 0.152892561983\n",
      "(Epoch 2 / 100) Training Accuracy: 0.144628099174\n",
      "(Epoch 3 / 100) Training Accuracy: 0.0702479338843\n",
      "(Epoch 4 / 100) Training Accuracy: 0.0785123966942\n",
      "(Iteration 101 / 2400) loss: 201.861487105\n",
      "(Epoch 5 / 100) Training Accuracy: 0.136363636364\n",
      "(Epoch 6 / 100) Training Accuracy: 0.148760330579\n",
      "bast performance 21.4876033058%\n",
      "(Epoch 7 / 100) Training Accuracy: 0.214876033058\n",
      "bast performance 24.3801652893%\n",
      "(Epoch 8 / 100) Training Accuracy: 0.243801652893\n",
      "(Iteration 201 / 2400) loss: 178.322637964\n",
      "bast performance 27.6859504132%\n",
      "(Epoch 9 / 100) Training Accuracy: 0.276859504132\n",
      "bast performance 32.2314049587%\n",
      "(Epoch 10 / 100) Training Accuracy: 0.322314049587\n",
      "bast performance 37.1900826446%\n",
      "(Epoch 11 / 100) Training Accuracy: 0.371900826446\n",
      "bast performance 42.1487603306%\n",
      "(Epoch 12 / 100) Training Accuracy: 0.421487603306\n",
      "(Iteration 301 / 2400) loss: 138.368568359\n",
      "bast performance 45.4545454545%\n",
      "(Epoch 13 / 100) Training Accuracy: 0.454545454545\n",
      "bast performance 48.7603305785%\n",
      "(Epoch 14 / 100) Training Accuracy: 0.487603305785\n",
      "bast performance 50.826446281%\n",
      "(Epoch 15 / 100) Training Accuracy: 0.50826446281\n",
      "bast performance 52.0661157025%\n",
      "(Epoch 16 / 100) Training Accuracy: 0.520661157025\n",
      "(Iteration 401 / 2400) loss: 99.0103268836\n",
      "(Epoch 17 / 100) Training Accuracy: 0.520661157025\n",
      "bast performance 54.132231405%\n",
      "(Epoch 18 / 100) Training Accuracy: 0.54132231405\n",
      "bast performance 56.1983471074%\n",
      "(Epoch 19 / 100) Training Accuracy: 0.561983471074\n",
      "bast performance 58.2644628099%\n",
      "(Epoch 20 / 100) Training Accuracy: 0.582644628099\n",
      "(Iteration 501 / 2400) loss: 87.2303514744\n",
      "(Epoch 21 / 100) Training Accuracy: 0.582644628099\n",
      "(Epoch 22 / 100) Training Accuracy: 0.582644628099\n",
      "bast performance 59.9173553719%\n",
      "(Epoch 23 / 100) Training Accuracy: 0.599173553719\n",
      "bast performance 61.9834710744%\n",
      "(Epoch 24 / 100) Training Accuracy: 0.619834710744\n",
      "bast performance 64.0495867769%\n",
      "(Epoch 25 / 100) Training Accuracy: 0.640495867769\n",
      "(Iteration 601 / 2400) loss: 61.3914063432\n",
      "bast performance 65.2892561983%\n",
      "(Epoch 26 / 100) Training Accuracy: 0.652892561983\n",
      "bast performance 68.1818181818%\n",
      "(Epoch 27 / 100) Training Accuracy: 0.681818181818\n",
      "bast performance 69.0082644628%\n",
      "(Epoch 28 / 100) Training Accuracy: 0.690082644628\n",
      "bast performance 69.8347107438%\n",
      "(Epoch 29 / 100) Training Accuracy: 0.698347107438\n",
      "(Iteration 701 / 2400) loss: 53.1526264987\n",
      "bast performance 71.0743801653%\n",
      "(Epoch 30 / 100) Training Accuracy: 0.710743801653\n",
      "bast performance 71.4876033058%\n",
      "(Epoch 31 / 100) Training Accuracy: 0.714876033058\n",
      "(Epoch 32 / 100) Training Accuracy: 0.714876033058\n",
      "bast performance 73.1404958678%\n",
      "(Epoch 33 / 100) Training Accuracy: 0.731404958678\n",
      "(Iteration 801 / 2400) loss: 44.4484329921\n",
      "(Epoch 34 / 100) Training Accuracy: 0.731404958678\n",
      "bast performance 74.7933884298%\n",
      "(Epoch 35 / 100) Training Accuracy: 0.747933884298\n",
      "bast performance 76.0330578512%\n",
      "(Epoch 36 / 100) Training Accuracy: 0.760330578512\n",
      "bast performance 76.8595041322%\n",
      "(Epoch 37 / 100) Training Accuracy: 0.768595041322\n",
      "(Iteration 901 / 2400) loss: 38.2834773118\n",
      "(Epoch 38 / 100) Training Accuracy: 0.764462809917\n",
      "(Epoch 39 / 100) Training Accuracy: 0.768595041322\n",
      "bast performance 78.0991735537%\n",
      "(Epoch 40 / 100) Training Accuracy: 0.780991735537\n",
      "bast performance 79.3388429752%\n",
      "(Epoch 41 / 100) Training Accuracy: 0.793388429752\n",
      "(Iteration 1001 / 2400) loss: 36.7710567606\n",
      "(Epoch 42 / 100) Training Accuracy: 0.789256198347\n",
      "bast performance 79.7520661157%\n",
      "(Epoch 43 / 100) Training Accuracy: 0.797520661157\n",
      "bast performance 80.5785123967%\n",
      "(Epoch 44 / 100) Training Accuracy: 0.805785123967\n",
      "bast performance 80.9917355372%\n",
      "(Epoch 45 / 100) Training Accuracy: 0.809917355372\n",
      "(Iteration 1101 / 2400) loss: 34.9026823002\n",
      "(Epoch 46 / 100) Training Accuracy: 0.809917355372\n",
      "bast performance 81.8181818182%\n",
      "(Epoch 47 / 100) Training Accuracy: 0.818181818182\n",
      "(Epoch 48 / 100) Training Accuracy: 0.814049586777\n",
      "bast performance 82.2314049587%\n",
      "(Epoch 49 / 100) Training Accuracy: 0.822314049587\n",
      "(Epoch 50 / 100) Training Accuracy: 0.822314049587\n",
      "(Iteration 1201 / 2400) loss: 33.1067711089\n",
      "bast performance 82.6446280992%\n",
      "(Epoch 51 / 100) Training Accuracy: 0.826446280992\n",
      "bast performance 83.0578512397%\n",
      "(Epoch 52 / 100) Training Accuracy: 0.830578512397\n",
      "bast performance 83.4710743802%\n",
      "(Epoch 53 / 100) Training Accuracy: 0.834710743802\n",
      "bast performance 84.2975206612%\n",
      "(Epoch 54 / 100) Training Accuracy: 0.842975206612\n",
      "(Iteration 1301 / 2400) loss: 28.9865681565\n",
      "bast performance 85.1239669421%\n",
      "(Epoch 55 / 100) Training Accuracy: 0.851239669421\n",
      "bast performance 85.5371900826%\n",
      "(Epoch 56 / 100) Training Accuracy: 0.855371900826\n",
      "(Epoch 57 / 100) Training Accuracy: 0.855371900826\n",
      "bast performance 85.9504132231%\n",
      "(Epoch 58 / 100) Training Accuracy: 0.859504132231\n",
      "(Iteration 1401 / 2400) loss: 25.281354305\n",
      "bast performance 86.3636363636%\n",
      "(Epoch 59 / 100) Training Accuracy: 0.863636363636\n",
      "bast performance 86.7768595041%\n",
      "(Epoch 60 / 100) Training Accuracy: 0.867768595041\n",
      "(Epoch 61 / 100) Training Accuracy: 0.867768595041\n",
      "(Epoch 62 / 100) Training Accuracy: 0.867768595041\n",
      "(Iteration 1501 / 2400) loss: 21.5926245356\n",
      "(Epoch 63 / 100) Training Accuracy: 0.867768595041\n",
      "(Epoch 64 / 100) Training Accuracy: 0.867768595041\n",
      "(Epoch 65 / 100) Training Accuracy: 0.867768595041\n",
      "(Epoch 66 / 100) Training Accuracy: 0.867768595041\n",
      "(Iteration 1601 / 2400) loss: 23.3614621348\n",
      "(Epoch 67 / 100) Training Accuracy: 0.867768595041\n",
      "bast performance 87.6033057851%\n",
      "(Epoch 68 / 100) Training Accuracy: 0.876033057851\n",
      "bast performance 88.4297520661%\n",
      "(Epoch 69 / 100) Training Accuracy: 0.884297520661\n",
      "(Epoch 70 / 100) Training Accuracy: 0.884297520661\n",
      "(Iteration 1701 / 2400) loss: 24.1392224933\n",
      "bast performance 88.8429752066%\n",
      "(Epoch 71 / 100) Training Accuracy: 0.888429752066\n",
      "(Epoch 72 / 100) Training Accuracy: 0.888429752066\n",
      "bast performance 89.2561983471%\n",
      "(Epoch 73 / 100) Training Accuracy: 0.892561983471\n",
      "bast performance 89.6694214876%\n",
      "(Epoch 74 / 100) Training Accuracy: 0.896694214876\n",
      "(Epoch 75 / 100) Training Accuracy: 0.896694214876\n",
      "(Iteration 1801 / 2400) loss: 15.4121952957\n",
      "(Epoch 76 / 100) Training Accuracy: 0.896694214876\n",
      "bast performance 90.0826446281%\n",
      "(Epoch 77 / 100) Training Accuracy: 0.900826446281\n",
      "(Epoch 78 / 100) Training Accuracy: 0.900826446281\n",
      "(Epoch 79 / 100) Training Accuracy: 0.900826446281\n",
      "(Iteration 1901 / 2400) loss: 15.9503617666\n",
      "(Epoch 80 / 100) Training Accuracy: 0.900826446281\n",
      "(Epoch 81 / 100) Training Accuracy: 0.900826446281\n",
      "(Epoch 82 / 100) Training Accuracy: 0.900826446281\n",
      "(Epoch 83 / 100) Training Accuracy: 0.900826446281\n",
      "(Iteration 2001 / 2400) loss: 17.5366131086\n",
      "(Epoch 84 / 100) Training Accuracy: 0.900826446281\n",
      "(Epoch 85 / 100) Training Accuracy: 0.900826446281\n",
      "(Epoch 86 / 100) Training Accuracy: 0.900826446281\n",
      "(Epoch 87 / 100) Training Accuracy: 0.900826446281\n",
      "(Iteration 2101 / 2400) loss: 16.8978550408\n",
      "bast performance 90.4958677686%\n",
      "(Epoch 88 / 100) Training Accuracy: 0.904958677686\n",
      "(Epoch 89 / 100) Training Accuracy: 0.900826446281\n",
      "bast performance 90.9090909091%\n",
      "(Epoch 90 / 100) Training Accuracy: 0.909090909091\n",
      "(Epoch 91 / 100) Training Accuracy: 0.909090909091\n",
      "(Iteration 2201 / 2400) loss: 15.7221155294\n",
      "(Epoch 92 / 100) Training Accuracy: 0.909090909091\n",
      "(Epoch 93 / 100) Training Accuracy: 0.909090909091\n",
      "(Epoch 94 / 100) Training Accuracy: 0.909090909091\n",
      "(Epoch 95 / 100) Training Accuracy: 0.909090909091\n",
      "(Iteration 2301 / 2400) loss: 11.5662807602\n",
      "(Epoch 96 / 100) Training Accuracy: 0.909090909091\n",
      "(Epoch 97 / 100) Training Accuracy: 0.904958677686\n",
      "(Epoch 98 / 100) Training Accuracy: 0.909090909091\n",
      "bast performance 91.3223140496%\n",
      "(Epoch 99 / 100) Training Accuracy: 0.913223140496\n",
      "bast performance 91.7355371901%\n",
      "(Epoch 100 / 100) Training Accuracy: 0.917355371901\n",
      "dog goes ow ow ow. but there's one sound that no one knows... what does the fox say?  ring-ding-ding-ding-dingeringeding! gering-ding-ding-ding-dingeringeding! gering-ding-ding-ding-dingeringeding! what the fox say?  big blue eyes, pointy nose, chasing mice, and digging holes. tiny paws, up the hill, suddenly you're standing still.  your fur is red, so beautiful, like an angel in disguise. but if you meet a friendly horse, will you communicate by mo-o-o-o-orse, mo-o-o-o-orse, mo-o-o-o-orse? how will you speak to that h-o-o-orse, h-o-o-orse, h-o-o-orse? what does the fox say?  ring-ding-ding-ding-dingeringeding! gering-ding-ding-ding-dingeringeding! gering-ding-ding-ding-dingeringeding! what the fox say?  big blue eyes, pointy nose,\n"
     ]
    }
   ],
   "source": [
    "# you can change the following parameters.\n",
    "D = 10 # input dimention\n",
    "H = 20 # hidden space dimention\n",
    "T = 50 # timesteps\n",
    "N = 10 # batch size\n",
    "max_epoch = 100 # max epoch size\n",
    "\n",
    "loss_func = temporal_softmax_loss()\n",
    "# you can change the cell_type between 'rnn' and 'lstm'.\n",
    "model = LanguageModelRNN(dataSize, D, H, cell_type='rnn')\n",
    "optimizer = Adam(model, 5e-4)\n",
    "\n",
    "data = { 'data_train': data_labels, 'labels_train': gt_labels }\n",
    "\n",
    "results = train_net(data, model, loss_func, optimizer, timesteps=T, batch_size=N, max_epochs=max_epoch, verbose=True)\n",
    "\n",
    "text_length = 100\n",
    "\n",
    "idx = 0\n",
    "# you also can start from specific word. \n",
    "# since the words are all converted into lower case, make sure you put lower case below.\n",
    "idx = int(np.where(np.asarray(word_list) == 'dog')[0])\n",
    "\n",
    "# sample from the trained model\n",
    "words = model.sample(idx, text_length-1)\n",
    "\n",
    "# convert indices into words\n",
    "output = [ word_list[i] for i in words]\n",
    "print(' '.join(output))"
   ]
  },
  {
   "cell_type": "markdown",
   "metadata": {},
   "source": [
    "### Inline Question: Play around with different settings to get better understanding of its behavior and describe your observation. Make sure at least you cover the following points:\n",
    "* Vanilla RNN vs LSTM (you can set different time steps and test with longer texts.)\n",
    "* Problems in these approaches (there's no unique answer. just explain your own opinion from experiments.)\n",
    "#### Ans: \n",
    "LSTM seems to 'remember' phrases over longer durations while RNN often fail to model the long term dependencies. In this particular case, use of LSTM resulted in certain sentences being repeated over and over while RNN seemed to generate shorter sentences not necessarily repeated. LSTM learns a longer context and hence seems to generate copied sentences from the original text."
   ]
  },
  {
   "cell_type": "code",
   "execution_count": null,
   "metadata": {
    "collapsed": true
   },
   "outputs": [],
   "source": []
  }
 ],
 "metadata": {
  "hide_input": false,
  "kernelspec": {
   "display_name": "Python [default]",
   "language": "python",
   "name": "python2"
  },
  "language_info": {
   "codemirror_mode": {
    "name": "ipython",
    "version": 2
   },
   "file_extension": ".py",
   "mimetype": "text/x-python",
   "name": "python",
   "nbconvert_exporter": "python",
   "pygments_lexer": "ipython2",
   "version": "2.7.13"
  },
  "latex_envs": {
   "LaTeX_envs_menu_present": true,
   "autocomplete": true,
   "bibliofile": "biblio.bib",
   "cite_by": "apalike",
   "current_citInitial": 1,
   "eqLabelWithNumbers": true,
   "eqNumInitial": 1,
   "hotkeys": {
    "equation": "Ctrl-E",
    "itemize": "Ctrl-I"
   },
   "labels_anchors": false,
   "latex_user_defs": false,
   "report_style_numbering": false,
   "user_envs_cfg": false
  },
  "toc": {
   "colors": {
    "hover_highlight": "#DAA520",
    "navigate_num": "#000000",
    "navigate_text": "#333333",
    "running_highlight": "#FF0000",
    "selected_highlight": "#FFD700",
    "sidebar_border": "#EEEEEE",
    "wrapper_background": "#FFFFFF"
   },
   "moveMenuLeft": true,
   "nav_menu": {},
   "navigate_menu": true,
   "number_sections": true,
   "sideBar": true,
   "skip_h1_title": false,
   "threshold": 4,
   "toc_cell": false,
   "toc_position": {},
   "toc_section_display": "block",
   "toc_window_display": false,
   "widenNotebook": false
  }
 },
 "nbformat": 4,
 "nbformat_minor": 1
}
